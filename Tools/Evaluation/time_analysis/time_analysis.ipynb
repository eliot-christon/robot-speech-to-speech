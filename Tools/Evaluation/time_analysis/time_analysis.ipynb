{
 "cells": [
  {
   "cell_type": "markdown",
   "metadata": {},
   "source": [
    "# Time Analysis\n",
    "\n",
    "### Explanation\n",
    "In this notebook will be analysed the temporal différence between the moment a command is sent by the state machine and the moment it is received by the Tool object.\n",
    "\n",
    "First, let's import the necessary libraries and load the data.\n",
    "\n",
    "## Libraries"
   ]
  },
  {
   "cell_type": "code",
   "execution_count": 27,
   "metadata": {},
   "outputs": [],
   "source": [
    "import pandas as pd\n",
    "from datetime import datetime\n",
    "import matplotlib.pyplot as plt\n",
    "import numpy as np\n"
   ]
  },
  {
   "cell_type": "markdown",
   "metadata": {},
   "source": [
    "Now let's load the two log files and parse them to extract the necessary information.\n",
    "\n",
    "## Data"
   ]
  },
  {
   "cell_type": "code",
   "execution_count": 2,
   "metadata": {},
   "outputs": [
    {
     "name": "stdout",
     "output_type": "stream",
     "text": [
      "StateMachine log lines: 15\n",
      "Tool log lines        : 1892\n",
      "StateMachine log example ================\n",
      "[INFO] - 2024-05-21 12:08:21,156 - Transition    S0 - S0          -->    S1 - S1\n"
     ]
    }
   ],
   "source": [
    "with open(\"../../../StateMachine/log.txt\", \"r\") as f:\n",
    "    log_sm_raw = f.read()\n",
    "\n",
    "with open(\"../../log.txt\", \"r\") as f:\n",
    "    log_tool_raw = f.read()\n",
    "\n",
    "log_sm_raw_lines   = log_sm_raw.split(\"\\n\")\n",
    "log_tool_raw_lines = log_tool_raw.split(\"\\n\")\n",
    "\n",
    "print(\"StateMachine log lines:\", len(log_sm_raw_lines))\n",
    "print(\"Tool log lines        :\", len(log_tool_raw_lines))\n",
    "\n",
    "# print an example of each log\n",
    "print(\"StateMachine log example ================\")\n",
    "print(log_sm_raw_lines[len(log_sm_raw_lines) - 2])"
   ]
  },
  {
   "cell_type": "code",
   "execution_count": 3,
   "metadata": {},
   "outputs": [],
   "source": [
    "# [INFO] - 2024-05-21 12:07:56,908 - Transition    S0 - S0          -->    S1 - S1\n",
    "\n",
    "class LogLine:\n",
    "    def __init__(self, type:str, date_time:datetime, message:str):\n",
    "        self.type = type\n",
    "        self.date_time = date_time\n",
    "        self.message = message\n",
    "    \n",
    "    @classmethod\n",
    "    def from_line(cls, line):\n",
    "        if not line:\n",
    "            return None\n",
    "        parts = line.split(\" - \")\n",
    "        type = parts[0][1:-1]\n",
    "        date_time_str = parts[1]\n",
    "        date_time = datetime.strptime(date_time_str, '%Y-%m-%d %H:%M:%S,%f')\n",
    "        message = \" - \".join(parts[2:])\n",
    "        return cls(type, date_time, message)\n",
    "    \n",
    "    def __str__(self):\n",
    "        return f\"[{self.type}] - {self.date_time} - {self.message}\"\n",
    "    \n",
    "    def __repr__(self):\n",
    "        return f\"LogLine({self.type}, {self.date_time}, {self.message})\""
   ]
  },
  {
   "cell_type": "code",
   "execution_count": 4,
   "metadata": {},
   "outputs": [
    {
     "name": "stdout",
     "output_type": "stream",
     "text": [
      "StateMachine log example ================\n",
      "[INFO] - 2024-05-21 12:08:21.156000 - Transition    S0 - S0          -->    S1 - S1\n",
      "{'type': 'INFO', 'date_time': datetime.datetime(2024, 5, 21, 12, 8, 21, 156000), 'message': 'Transition    S0 - S0          -->    S1 - S1'}\n"
     ]
    }
   ],
   "source": [
    "# Parse log lines\n",
    "log_sm_lines = [LogLine.from_line(line) for line in log_sm_raw_lines]\n",
    "log_tool_lines = [LogLine.from_line(line) for line in log_tool_raw_lines]\n",
    "\n",
    "print(\"StateMachine log example ================\")\n",
    "print(log_sm_lines[len(log_sm_lines) - 2])\n",
    "print(log_sm_lines[len(log_sm_lines) - 2].__dict__)"
   ]
  },
  {
   "cell_type": "code",
   "execution_count": 5,
   "metadata": {},
   "outputs": [
    {
     "name": "stdout",
     "output_type": "stream",
     "text": [
      "   type               date_time                                     message\n",
      "0  INFO 2024-05-21 12:07:14.305             Starting the Leds API server...\n",
      "1  INFO 2024-05-21 12:07:14.852      Starting the RecordAudio API server...\n",
      "2  INFO 2024-05-21 12:07:14.897           Starting the ReadAudio process...\n",
      "3  INFO 2024-05-21 12:07:15.610  Starting the Text Generation API server...\n",
      "4  INFO 2024-05-21 12:07:16.621    Starting the CaptureImages API server...\n"
     ]
    }
   ],
   "source": [
    "log_sm_df = pd.DataFrame([line.__dict__ for line in log_sm_lines if line is not None])\n",
    "log_tool_df = pd.DataFrame([line.__dict__ for line in log_tool_lines if line is not None])\n",
    "\n",
    "print(log_tool_df.head())"
   ]
  },
  {
   "cell_type": "code",
   "execution_count": 49,
   "metadata": {},
   "outputs": [
    {
     "data": {
      "text/html": [
       "<div>\n",
       "<style scoped>\n",
       "    .dataframe tbody tr th:only-of-type {\n",
       "        vertical-align: middle;\n",
       "    }\n",
       "\n",
       "    .dataframe tbody tr th {\n",
       "        vertical-align: top;\n",
       "    }\n",
       "\n",
       "    .dataframe thead th {\n",
       "        text-align: right;\n",
       "    }\n",
       "</style>\n",
       "<table border=\"1\" class=\"dataframe\">\n",
       "  <thead>\n",
       "    <tr style=\"text-align: right;\">\n",
       "      <th></th>\n",
       "      <th>type</th>\n",
       "      <th>date_time</th>\n",
       "      <th>message</th>\n",
       "      <th>detail</th>\n",
       "      <th>transition_from</th>\n",
       "      <th>transition_to</th>\n",
       "    </tr>\n",
       "  </thead>\n",
       "  <tbody>\n",
       "    <tr>\n",
       "      <th>0</th>\n",
       "      <td>INFO</td>\n",
       "      <td>2024-05-21 12:07:54.800</td>\n",
       "      <td>StateMachine initialized</td>\n",
       "      <td>None</td>\n",
       "      <td>None</td>\n",
       "      <td>None</td>\n",
       "    </tr>\n",
       "    <tr>\n",
       "      <th>1</th>\n",
       "      <td>INFO</td>\n",
       "      <td>2024-05-21 12:07:54.806</td>\n",
       "      <td>Starting StateMachine with initial state S0 - S0</td>\n",
       "      <td>None</td>\n",
       "      <td>None</td>\n",
       "      <td>None</td>\n",
       "    </tr>\n",
       "    <tr>\n",
       "      <th>2</th>\n",
       "      <td>INFO</td>\n",
       "      <td>2024-05-21 12:07:56.908</td>\n",
       "      <td>Transition    S0 - S0          --&gt;    S1 - S1</td>\n",
       "      <td>transition</td>\n",
       "      <td>S0</td>\n",
       "      <td>S1</td>\n",
       "    </tr>\n",
       "    <tr>\n",
       "      <th>3</th>\n",
       "      <td>INFO</td>\n",
       "      <td>2024-05-21 12:07:59.112</td>\n",
       "      <td>Transition    S1 - S1          --&gt;    S2 - S2</td>\n",
       "      <td>transition</td>\n",
       "      <td>S1</td>\n",
       "      <td>S2</td>\n",
       "    </tr>\n",
       "    <tr>\n",
       "      <th>4</th>\n",
       "      <td>INFO</td>\n",
       "      <td>2024-05-21 12:08:01.318</td>\n",
       "      <td>Transition    S2 - S2          --&gt;    S3 - S3</td>\n",
       "      <td>transition</td>\n",
       "      <td>S2</td>\n",
       "      <td>S3</td>\n",
       "    </tr>\n",
       "  </tbody>\n",
       "</table>\n",
       "</div>"
      ],
      "text/plain": [
       "   type               date_time  \\\n",
       "0  INFO 2024-05-21 12:07:54.800   \n",
       "1  INFO 2024-05-21 12:07:54.806   \n",
       "2  INFO 2024-05-21 12:07:56.908   \n",
       "3  INFO 2024-05-21 12:07:59.112   \n",
       "4  INFO 2024-05-21 12:08:01.318   \n",
       "\n",
       "                                            message      detail  \\\n",
       "0                          StateMachine initialized        None   \n",
       "1  Starting StateMachine with initial state S0 - S0        None   \n",
       "2     Transition    S0 - S0          -->    S1 - S1  transition   \n",
       "3     Transition    S1 - S1          -->    S2 - S2  transition   \n",
       "4     Transition    S2 - S2          -->    S3 - S3  transition   \n",
       "\n",
       "  transition_from transition_to  \n",
       "0            None          None  \n",
       "1            None          None  \n",
       "2              S0            S1  \n",
       "3              S1            S2  \n",
       "4              S2            S3  "
      ]
     },
     "execution_count": 49,
     "metadata": {},
     "output_type": "execute_result"
    }
   ],
   "source": [
    "# add column detail to log_tool_df with\n",
    "# - \"stop\" if \"Executing command: stop\" in message\n",
    "# - \"start\" if \"Executing command: start\" in message\n",
    "# add column concerned_tool with the state concerned by the command\n",
    "\n",
    "def parse_tool_message(message):\n",
    "    possible_tools = {\"T0_ReadAudio\", \"T1_PersonRecognition\", \"T2_Text_Generation\", \"T3_TTS\", \"T4_ActionSelection\", \"T5_PerformAction\", \"T6_RecordAudio\", \"T7_CaptureImages\", \"T8_STT\", \"T9_LEDS\", \"T10_RetrieveAndAugment\"}\n",
    "    for tool in possible_tools:\n",
    "        if tool in message:\n",
    "            return tool\n",
    "    return None\n",
    "\n",
    "log_tool_df[\"detail\"] = np.where(log_tool_df[\"message\"].str.contains(\"Executing command: stop\"), \"stop\", np.where(log_tool_df[\"message\"].str.contains(\"Executing command: start\"), \"start\", None))\n",
    "log_tool_df[\"concerned_tool\"] = log_tool_df[\"message\"].apply(lambda x: parse_tool_message(x))\n",
    "\n",
    "# add column detail to log_sm_df with\n",
    "# - \"transition\" if \"Transition\" in message\n",
    "# add column transition_from and transition_to with the from and to states\n",
    "\n",
    "def parse_transition_message(message):\n",
    "    if not 'Transition' in message:\n",
    "        return None, None\n",
    "    parts = message.split()\n",
    "    return parts[3], parts[7]\n",
    "\n",
    "log_sm_df[\"detail\"] = np.where(log_sm_df[\"message\"].str.contains(\"Transition\"), \"transition\", None)\n",
    "log_sm_df[\"transition_from\"] = log_sm_df[\"message\"].apply(lambda x: parse_transition_message(x)[0] if x is not None else None)\n",
    "log_sm_df[\"transition_to\"] = log_sm_df[\"message\"].apply(lambda x: parse_transition_message(x)[1] if x is not None else None)\n",
    "\n",
    "log_sm_df.head()"
   ]
  },
  {
   "cell_type": "code",
   "execution_count": 40,
   "metadata": {},
   "outputs": [
    {
     "name": "stdout",
     "output_type": "stream",
     "text": [
      "       type               date_time  \\\n",
      "1879  ERROR 2024-05-21 12:08:16.692   \n",
      "1880  ERROR 2024-05-21 12:08:16.693   \n",
      "1881  ERROR 2024-05-21 12:08:16.695   \n",
      "1882   INFO 2024-05-21 12:08:16.696   \n",
      "1883  ERROR 2024-05-21 12:08:16.696   \n",
      "1884   INFO 2024-05-21 12:08:16.697   \n",
      "11     INFO 2024-05-21 12:08:16.750   \n",
      "12     INFO 2024-05-21 12:08:18.954   \n",
      "13     INFO 2024-05-21 12:08:21.156   \n",
      "1885   INFO 2024-05-21 12:08:22.248   \n",
      "1886   INFO 2024-05-21 12:08:22.351   \n",
      "1889   INFO 2024-05-21 12:08:27.757   \n",
      "1887   INFO 2024-05-21 12:08:27.757   \n",
      "1888   INFO 2024-05-21 12:08:27.757   \n",
      "1890   INFO 2024-05-21 12:08:27.758   \n",
      "\n",
      "                                                message  level  \n",
      "1879  SpeechToText: [Errno 1094995529] Invalid data ...      2  \n",
      "1880  SpeechToText: [Errno 1094995529] Invalid data ...      2  \n",
      "1881  SpeechToText: [Errno 1094995529] Invalid data ...      2  \n",
      "1882  Executing command: stop (Tools/T8_STT/fast_com...      1  \n",
      "1883  SpeechToText: [Errno 1094995529] Invalid data ...      2  \n",
      "1884                            SpeechToText: Finished.      1  \n",
      "11      Transition    S9 - S9          -->    S10 - S10     -1  \n",
      "12        Transition    S10 - S10        -->    S0 - S0     -1  \n",
      "13        Transition    S0 - S0          -->    S1 - S1     -1  \n",
      "1885  Executing command: stop (Tools/T1_PersonRecogn...      1  \n",
      "1886  Executing command: stop (Tools/T8_STT/fast_com...      1  \n",
      "1889                             Exiting the FastApp...      1  \n",
      "1887                             Exiting the FastApp...      1  \n",
      "1888                             Exiting the FastApp...      1  \n",
      "1890                             Exiting the FastApp...      1  \n"
     ]
    }
   ],
   "source": [
    "log_sm_tempdf = log_sm_df.copy()\n",
    "log_tool_tempdf = log_tool_df.copy()\n",
    "\n",
    "# new level column with 1 for info and 2 for error\n",
    "log_sm_tempdf[\"level\"] = log_sm_tempdf[\"type\"].apply(lambda x: -1 if x == \"INFO\" else -2)\n",
    "log_tool_tempdf[\"level\"] = log_tool_tempdf[\"type\"].apply(lambda x: 1 if x == \"INFO\" else 2)\n",
    "log_combined = pd.concat([log_sm_tempdf, log_tool_tempdf])\n",
    "\n",
    "log_combined = log_combined.sort_values(by=\"date_time\")"
   ]
  },
  {
   "cell_type": "markdown",
   "metadata": {},
   "source": [
    "## First Analysis\n",
    "\n",
    "Let's start by plotting all the commands sent by the state machine and the moment they were received by the Tool object."
   ]
  },
  {
   "cell_type": "code",
   "execution_count": 6,
   "metadata": {},
   "outputs": [
    {
     "data": {
      "image/png": "[encoded data removed]",
      "text/plain": [
       "<Figure size 640x480 with 2 Axes>"
      ]
     },
     "metadata": {},
     "output_type": "display_data"
    }
   ],
   "source": [
    "# plot the number of log lines per type\n",
    "fig = plt.figure()\n",
    "plt.subplot(1, 2, 1)\n",
    "log_sm_df.groupby(\"type\").size().plot(kind='bar', title=\"StateMachine\")\n",
    "\n",
    "plt.subplot(1, 2, 2)\n",
    "log_tool_df.groupby(\"type\").size().plot(kind='bar', title=\"Tool\")\n",
    "# sup title\n",
    "plt.suptitle(\"Log lines per type\")\n",
    "plt.show()\n"
   ]
  },
  {
   "cell_type": "code",
   "execution_count": 35,
   "metadata": {},
   "outputs": [
    {
     "data": {
      "image/png": "[encoded data removed]",
      "text/plain": [
       "<Figure size 880x400 with 1 Axes>"
      ]
     },
     "metadata": {},
     "output_type": "display_data"
    }
   ],
   "source": [
    "fig, ax = plt.subplots(figsize=(8.8, 4), constrained_layout=True)\n",
    "\n",
    "for i, (key, grp) in enumerate(log_combined.groupby([\"level\"])):\n",
    "    markerline, stemline, baseline = ax.stem(grp[\"date_time\"], grp[\"level\"], linefmt=f\"C{i}-\", basefmt=\"k-\", label=key)\n",
    "\n",
    "    plt.setp(markerline, mec=\"k\", mfc=\"w\", zorder=3)\n",
    "    markerline.set_ydata(np.zeros(len(grp[\"date_time\"])))\n",
    "\n",
    "# remove y axis and spines\n",
    "ax.get_yaxis().set_visible(False)\n",
    "for spine in [\"left\", \"top\", \"right\"]:\n",
    "    ax.spines[spine].set_visible(False)\n",
    "\n",
    "plt.legend([log_combined[\"level\"].unique()], title=\"Level\")\n",
    "ax.margins(y=0.1)\n",
    "\n",
    "plt.show()\n"
   ]
  },
  {
   "cell_type": "code",
   "execution_count": null,
   "metadata": {},
   "outputs": [],
   "source": []
  }
 ],
 "metadata": {
  "kernelspec": {
   "display_name": "Python 3",
   "language": "python",
   "name": "python3"
  },
  "language_info": {
   "codemirror_mode": {
    "name": "ipython",
    "version": 3
   },
   "file_extension": ".py",
   "mimetype": "text/x-python",
   "name": "python",
   "nbconvert_exporter": "python",
   "pygments_lexer": "ipython3",
   "version": "3.11.8"
  }
 },
 "nbformat": 4,
 "nbformat_minor": 2
}
