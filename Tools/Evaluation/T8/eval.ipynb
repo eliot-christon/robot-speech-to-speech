{
 "cells": [
  {
   "cell_type": "code",
   "execution_count": 9,
   "metadata": {},
   "outputs": [],
   "source": [
    "import os\n",
    "import time\n",
    "from faster_whisper import WhisperModel\n",
    "import speech_recognition as sr\n",
    "\n",
    "FRENCH = False"
   ]
  },
  {
   "cell_type": "code",
   "execution_count": 2,
   "metadata": {},
   "outputs": [],
   "source": [
    "with open('phrases.txt', 'r', encoding='utf-8') as f:\n",
    "    original_sentences = f.readlines()"
   ]
  },
  {
   "cell_type": "markdown",
   "metadata": {},
   "source": [
    "# GENERATE TRANSCRIPTIONS"
   ]
  },
  {
   "cell_type": "code",
   "execution_count": 3,
   "metadata": {},
   "outputs": [],
   "source": [
    "# Set PYDEVD_DISABLE_FILE_VALIDATION=1 to disable this validation.\n",
    "os.environ['PYDEVD_DISABLE_FILE_VALIDATION'] = '1'"
   ]
  },
  {
   "cell_type": "markdown",
   "metadata": {},
   "source": [
    "## Faster Whisper"
   ]
  },
  {
   "cell_type": "code",
   "execution_count": 4,
   "metadata": {},
   "outputs": [],
   "source": [
    "def transcribe_sentences_faster_whisper(model, sentences, model_name):\n",
    "    transcribed_sentences = []\n",
    "    transcription_time = []\n",
    "\n",
    "    for i, phrase in enumerate(sentences):\n",
    "        print(\"\\r\" + str(i+1) + \": \" + phrase.strip() + \"                                          \", end=\"\", flush=True)\n",
    "        audio_file = f\"audio_phrases/audio_recorded_{i+1}.wav\"\n",
    "        start = time.time()\n",
    "        segments, info = model.transcribe(audio_file)\n",
    "        finish = time.time()\n",
    "        transcription_time.append(finish-start)\n",
    "        transcribed_sentences.append(\"\".join([segment.text for segment in segments]))\n",
    "\n",
    "        time.sleep(0.1)\n",
    "\n",
    "    with open(f'transcribed_sentences_{model_name}.txt', 'w', encoding='utf-8') as f:\n",
    "        for sentence in transcribed_sentences:\n",
    "            f.write(sentence + \"\\n\")\n",
    "    \n",
    "    with open(f'transcription_time_{model_name}.txt', 'w', encoding='utf-8') as f:\n",
    "        for ttime in transcription_time:\n",
    "            f.write(str(ttime) + \"\\n\")"
   ]
  },
  {
   "cell_type": "code",
   "execution_count": 5,
   "metadata": {},
   "outputs": [
    {
     "name": "stdout",
     "output_type": "stream",
     "text": [
      "Transcribing with small model...\n",
      "12: La musique transcende les frontières linguistiques.                                                   "
     ]
    },
    {
     "name": "stderr",
     "output_type": "stream",
     "text": [
      "Exception ignored in: <bound method IPythonKernel._clean_thread_parent_frames of <ipykernel.ipkernel.IPythonKernel object at 0x000001C25B9E3CD0>>\n",
      "Traceback (most recent call last):\n",
      "  File \"C:\\Users\\echriston\\AppData\\Roaming\\Python\\Python311\\site-packages\\ipykernel\\ipkernel.py\", line 770, in _clean_thread_parent_frames\n",
      "    def _clean_thread_parent_frames(\n",
      "\n",
      "KeyboardInterrupt: \n"
     ]
    },
    {
     "name": "stdout",
     "output_type": "stream",
     "text": [
      "36: La curiosité est le moteur de la découverte.                                                                   "
     ]
    }
   ],
   "source": [
    "models = [\"small\", \"medium\", \"large\"] # [\"tiny\", \"base\", \"small\", \"medium\", \"large\"]\n",
    "\n",
    "for model_name in models:\n",
    "    print(f\"Transcribing with {model_name} model...\")\n",
    "    model = WhisperModel(model_name, device=\"cuda\", compute_type=\"float16\")\n",
    "    transcribe_sentences_faster_whisper(model, original_sentences, model_name)"
   ]
  },
  {
   "cell_type": "markdown",
   "metadata": {},
   "source": [
    "## Recognize Google"
   ]
  },
  {
   "cell_type": "code",
   "execution_count": 5,
   "metadata": {},
   "outputs": [],
   "source": [
    "def transcribe_sentences_google(sentences):\n",
    "    transcribed_sentences = []\n",
    "    transcription_time = []\n",
    "\n",
    "    r = sr.Recognizer()\n",
    "\n",
    "    for i, phrase in enumerate(sentences):\n",
    "        print(\"\\r\" + str(i+1) + \": \" + phrase.strip() + \"                                          \", end=\"\", flush=True)\n",
    "        audio_file = f\"audio_phrases/audio_recorded_{i+1}.wav\"\n",
    "        # use the audio file as the audio source\n",
    "        start = time.time()\n",
    "        with sr.AudioFile(audio_file) as source:\n",
    "            audio = r.record(source)  # read the entire audio file\n",
    "\n",
    "        # recognize speech using Google Speech Recognition\n",
    "        try:\n",
    "            transcribed_sentences.append(r.recognize_google(audio, language=\"fr-FR\") + \".\")\n",
    "        except sr.UnknownValueError:\n",
    "            transcribed_sentences.append(\"\")\n",
    "        except sr.RequestError as e:\n",
    "            transcribed_sentences.append(\"\")\n",
    "        finish = time.time()\n",
    "        transcription_time.append(finish-start)\n",
    "\n",
    "    with open('transcribed_sentences_google.txt', 'w', encoding='utf-8') as f:\n",
    "        for sentence in transcribed_sentences:\n",
    "            f.write(sentence + \"\\n\")\n",
    "    \n",
    "    with open('transcription_time_google.txt', 'w', encoding='utf-8') as f:\n",
    "        for ttime in transcription_time:\n",
    "            f.write(str(ttime) + \"\\n\")"
   ]
  },
  {
   "cell_type": "code",
   "execution_count": null,
   "metadata": {},
   "outputs": [
    {
     "name": "stdout",
     "output_type": "stream",
     "text": [
      "100: À quelle heure commence la réunion demain matin ?                                                               "
     ]
    }
   ],
   "source": [
    "transcribe_sentences_google(original_sentences)"
   ]
  },
  {
   "cell_type": "markdown",
   "metadata": {},
   "source": [
    "# METRICS AND EVALUATIONS"
   ]
  },
  {
   "cell_type": "code",
   "execution_count": 4,
   "metadata": {},
   "outputs": [],
   "source": [
    "def normalize_sentence(sentence):\n",
    "    res = sentence.lower()\n",
    "    res = res.replace(\"«\", \"\")\n",
    "    res = res.replace(\"»\", \"\")\n",
    "    res = res.replace(\"(\", \"\")\n",
    "    res = res.replace(\")\", \"\")\n",
    "    res = res.replace(\"[\", \"\")\n",
    "    res = res.replace(\"]\", \"\")\n",
    "    res = res.replace(\"—\", \"-\")\n",
    "    res = res.replace(\"–\", \"-\")\n",
    "    res = res.replace(\"…\", \"...\")\n",
    "    res = res.replace(\"№\", \"n\")\n",
    "    res = res.replace(\"œ\", \"oe\")\n",
    "    res = res.replace(\"æ\", \"ae\")\n",
    "    res = res.replace(\", \", \" , \")\n",
    "    res = res.replace(\". \", \" . \")\n",
    "    res = res.replace(\"! \", \" ! \")\n",
    "    res = res.replace(\"? \", \" ? \")\n",
    "    res = res.replace(\":\", \" : \")\n",
    "    res = res.replace(\";\", \" ; \")\n",
    "    res = res.replace(\"  \", \" \")\n",
    "    res = res.replace(\"  \", \" \")\n",
    "    res = res.replace(\"  \", \" \")\n",
    "    return res\n",
    "\n",
    "def normalize_sentences(sentences):\n",
    "    return [normalize_sentence(sentence) for sentence in sentences]"
   ]
  },
  {
   "cell_type": "code",
   "execution_count": 5,
   "metadata": {},
   "outputs": [],
   "source": [
    "def accuracy(original_sentences, transcribed_sentences):\n",
    "    correct = 0\n",
    "    total = 0\n",
    "\n",
    "    for original, transcribed in zip(original_sentences, transcribed_sentences):\n",
    "        if original.strip() == transcribed.strip():\n",
    "            correct += 1\n",
    "        total += 1\n",
    "        \n",
    "    return correct / total\n",
    "\n",
    "def words_accuracy(original_sentences, transcribed_sentences):\n",
    "    correct = 0\n",
    "    total = 0\n",
    "\n",
    "    def only_keep_letters(s):\n",
    "        return \"\".join([c for c in s if c.isalpha() or c == \" \"])\n",
    "\n",
    "    for original, transcribed in zip(original_sentences, transcribed_sentences):\n",
    "        if only_keep_letters(original).strip() == only_keep_letters(transcribed).strip():\n",
    "            correct += 1\n",
    "        total += 1\n",
    "    \n",
    "    return correct / total\n",
    "        \n",
    "\n",
    "def wer(original_sentences, transcribed_sentences):\n",
    "    total_wer = 0\n",
    "\n",
    "    for original, transcribed in zip(original_sentences, transcribed_sentences):\n",
    "        original = original.strip().split()\n",
    "        transcribed = transcribed.strip().split()\n",
    "\n",
    "        n = len(original) # number of words in the original sentence\n",
    "        m = len(transcribed) # number of words in the transcribed sentence\n",
    "\n",
    "        dp = [[0]*(m+1) for _ in range(n+1)] # dp[i][j] is the minimum number of operations to convert the first i words of the original sentence to the first j words of the transcribed sentence\n",
    "\n",
    "        for i in range(n+1): # base case\n",
    "            dp[i][0] = i\n",
    "\n",
    "        for j in range(m+1): # base case\n",
    "            dp[0][j] = j\n",
    "\n",
    "        for i in range(1, n+1): \n",
    "            for j in range(1, m+1):\n",
    "                if original[i-1] == transcribed[j-1]: # words are the same\n",
    "                    dp[i][j] = dp[i-1][j-1] # no operation needed\n",
    "                else:\n",
    "                    dp[i][j] = min(dp[i-1][j-1], dp[i-1][j], dp[i][j-1]) + 1 # insert, delete or replace\n",
    "\n",
    "        total_wer += dp[n][m] / n # normalize by the number of words in the original sentence\n",
    "\n",
    "    return total_wer / len(original_sentences)\n",
    "\n"
   ]
  },
  {
   "cell_type": "code",
   "execution_count": 6,
   "metadata": {},
   "outputs": [
    {
     "name": "stdout",
     "output_type": "stream",
     "text": [
      "Model: tiny\n",
      "  Accuracy: 0.12\n",
      "  WER: 0.42224025974025986\n",
      "\n",
      "Model: base\n",
      "  Accuracy: 0.25\n",
      "  WER: 0.27890223665223657\n",
      "\n",
      "Model: small\n",
      "  Accuracy: 0.55\n",
      "  WER: 0.10175829725829724\n",
      "\n",
      "Model: medium\n",
      "  Accuracy: 0.8\n",
      "  WER: 0.035349206349206345\n",
      "\n",
      "Model: large\n",
      "  Accuracy: 0.82\n",
      "  WER: 0.03684523809523809\n",
      "\n",
      "Model: google\n",
      "  Accuracy: 0.56\n",
      "  WER: 0.13254870129870133\n",
      "\n"
     ]
    }
   ],
   "source": [
    "# load transcribed sentences\n",
    "\n",
    "models = [\"tiny\", \"base\", \"small\", \"medium\", \"large\", \"google\"]\n",
    "\n",
    "data = {}\n",
    "\n",
    "for model_name in models:\n",
    "    with open(f'transcribed_sentences_{model_name}.txt', 'r', encoding='utf-8') as f:\n",
    "        transcribed_sentences = f.readlines()\n",
    "    \n",
    "    transcribed_sentences_normalized = normalize_sentences(transcribed_sentences)\n",
    "    original_sentences_normalized = normalize_sentences(original_sentences)\n",
    "    \n",
    "    acc = accuracy(original_sentences_normalized, transcribed_sentences_normalized)\n",
    "    words_acc = words_accuracy(original_sentences_normalized, transcribed_sentences_normalized)\n",
    "    wer_score = wer(original_sentences_normalized, transcribed_sentences_normalized)\n",
    "\n",
    "    with open(f'transcription_time_{model_name}.txt', 'r', encoding='utf-8') as f:\n",
    "        transcription_time = f.readlines()\n",
    "    \n",
    "    # str to float\n",
    "    transcription_time = [float(time) for time in transcription_time]\n",
    "\n",
    "    data[model_name] = {\n",
    "        \"acc\": acc,\n",
    "        \"words_acc\": words_acc,\n",
    "        \"wer\": wer_score,\n",
    "        \"transcription_time\": transcription_time\n",
    "    }\n",
    "\n",
    "    print(f\"Model: {model_name}\")\n",
    "    print(f\"  Accuracy: {acc}\")\n",
    "    print(f\"  WER: {wer_score}\")\n",
    "    print()\n"
   ]
  },
  {
   "cell_type": "code",
   "execution_count": 13,
   "metadata": {},
   "outputs": [
    {
     "data": {
      "image/png": "[encoded data removed]",
      "text/plain": [
       "<Figure size 500x500 with 1 Axes>"
      ]
     },
     "metadata": {},
     "output_type": "display_data"
    },
    {
     "name": "stdout",
     "output_type": "stream",
     "text": [
      "model: google, median: 1.5587006640434264\n",
      "model: large, median: 0.37573348999023437\n",
      "model: medium, median: 0.2548849105834961\n",
      "model: small, median: 0.17373720169067383\n",
      "model: base, median: 0.14663053989410402\n",
      "model: tiny, median: 0.14314379215240478\n"
     ]
    },
    {
     "data": {
      "image/png": "[encoded data removed]",
      "text/plain": [
       "<Figure size 500x500 with 1 Axes>"
      ]
     },
     "metadata": {},
     "output_type": "display_data"
    },
    {
     "name": "stdout",
     "output_type": "stream",
     "text": [
      "Model: tiny, mean: 0.14314379215240478, std: 0.15568730219009055, time: 0.14314379215240478 +- 0.15568730219009055\n",
      "Model: base, mean: 0.14663053989410402, std: 0.1533112166979583, time: 0.14663053989410402 +- 0.1533112166979583\n",
      "Model: small, mean: 0.17373720169067383, std: 0.15147661174507077, time: 0.17373720169067383 +- 0.15147661174507077\n",
      "Model: medium, mean: 0.2548849105834961, std: 0.013644837626421779, time: 0.2548849105834961 +- 0.013644837626421779\n",
      "Model: large, mean: 0.37573348999023437, std: 0.00918522083361484, time: 0.37573348999023437 +- 0.00918522083361484\n",
      "Model: google, mean: 1.5587006640434264, std: 0.3646297562101037, time: 1.5587006640434264 +- 0.3646297562101037\n"
     ]
    }
   ],
   "source": [
    "# bar plot of all normalized metrics\n",
    "import matplotlib.pyplot as plt\n",
    "import numpy as np\n",
    "\n",
    "\n",
    "labels = list(data.keys())\n",
    "# add whisper before labels except for google, ex: tiny -> Whisper tiny\n",
    "labels_str = [\"Whisper\\n\" + label if label != \"google\" else label for label in labels]\n",
    "\n",
    "myacc, mywacc, mywer, mytime = zip(*[data[model_name].values() for model_name in labels])\n",
    "\n",
    "myacc_100 = [100 * acc for acc in myacc]\n",
    "mywacc_100 = [100 * acc for acc in mywacc]\n",
    "mywer_100 = [100 * acc for acc in mywer]\n",
    "\n",
    "x = np.arange(len(labels))  # the label locations\n",
    "\n",
    "fig, ax = plt.subplots(figsize=(5, 5))  # Adjust figsize as needed\n",
    "# 3 rects for each model\n",
    "width = 0.22  # the width of the bars\n",
    "rects1 = ax.bar(x - 3*width/2,  myacc_100,  width, color='#3BA71E')\n",
    "rects2 = ax.bar(x - width/2,    mywacc_100, width, color='#2EC7ED')\n",
    "rects3 = ax.bar(x + width/2,    mywer_100,  width, color='#A7471E')\n",
    "\n",
    "# Add some text for labels, title and custom x-axis tick labels, etc.\n",
    "major_ticks = np.arange(0, 101, 10)\n",
    "minor_ticks = np.arange(0, 101, 2)\n",
    "ax.set_yticks(major_ticks)\n",
    "ax.set_yticks(minor_ticks, minor=True)\n",
    "ax.set_xticks(x)\n",
    "ax.set_xticklabels(labels_str)\n",
    "ax.grid(axis='y', alpha=0.7)\n",
    "ax.set_ylim([0, 100])\n",
    "ax.grid(which='minor', alpha=0.3)\n",
    "\n",
    "if FRENCH:\n",
    "    rects1.set_label('Précision')\n",
    "    rects2.set_label('Précision sans ponctuation')\n",
    "    rects3.set_label('WER')\n",
    "    ax.set_ylabel('Scores (%)')\n",
    "    ax.set_title('Scores par modèle')\n",
    "else:\n",
    "    rects1.set_label('Accuracy')\n",
    "    rects2.set_label('Words accuracy')\n",
    "    rects3.set_label('WER')\n",
    "    ax.set_ylabel('Scores (%)')\n",
    "    ax.set_title('Scores by model')\n",
    "\n",
    "ax.legend()\n",
    "fig.tight_layout()\n",
    "plt.savefig('plots/scores.png')\n",
    "plt.show()\n",
    "\n",
    "\n",
    "labels = [\"\"] + list(data.keys())[::-1]\n",
    "labels_str = [\"Whisper \" + label if label not in [\"google\", \"\"] else label for label in labels]\n",
    "mytime = mytime[::-1]\n",
    "y = np.arange(len(labels))  # the label locations\n",
    "\n",
    "fig, ax = plt.subplots(figsize=(5, 5))  # Adjust figsize as needed\n",
    "# box plot of transcription time\n",
    "bp = ax.boxplot(mytime, vert=False, notch=True, showmeans=True, meanline=True)\n",
    "for median in bp['medians']:\n",
    "    median.set(color ='red',\n",
    "               linewidth = 3)\n",
    "for median in bp['means']:\n",
    "    median.set(color ='green',\n",
    "               linewidth = 2)\n",
    "for whisker in bp['whiskers']:\n",
    "    whisker.set(alpha = 0.5)\n",
    "# changing style of fliers\n",
    "for flier in bp['fliers']:\n",
    "    flier.set(marker ='D',\n",
    "              markersize = 3,\n",
    "              color ='#e7298a',\n",
    "              alpha = 0.3)\n",
    "# adding bars in the background, from 0 to the median\n",
    "for i in range(len(labels)-1):\n",
    "    ax.barh(y[i+1], bp['medians'][i].get_xdata()[0], color='#E33226', alpha=0.3, height=0.6)\n",
    "    print(f\"model: {labels[i+1]}, median: {bp['means'][i].get_xdata()[0]}\")\n",
    "# Add some text for labels, title and custom x-axis tick labels, etc.\n",
    "\n",
    "if FRENCH:\n",
    "    ax.set_xlabel('Temps (s)')\n",
    "    ax.set_ylabel('Modèle')\n",
    "    ax.set_title('Temps de transcription par modèle')\n",
    "else:\n",
    "    ax.set_xlabel('Time (s)')\n",
    "    ax.set_ylabel('Model')\n",
    "    ax.set_title('Transcription time by model')\n",
    "major_ticks = np.arange(0, 3, 0.5)\n",
    "minor_ticks = np.arange(0, 3, 0.1)\n",
    "ax.set_xticks(major_ticks)\n",
    "ax.set_xticks(minor_ticks, minor=True)\n",
    "ax.set_yticks(y)\n",
    "ax.set_yticklabels(labels_str)\n",
    "ax.grid(axis='x')\n",
    "ax.set_xlim([0, 3])\n",
    "ax.grid(which='minor', alpha=0.3)\n",
    "fig.tight_layout()\n",
    "plt.savefig('plots/transcription_time.png')\n",
    "plt.show()\n",
    "\n",
    "\n",
    "\n",
    "# plot of transcription time mean +- std\n",
    "for model_name in models:\n",
    "    mean = np.mean(data[model_name][\"transcription_time\"])\n",
    "    std = np.std(data[model_name][\"transcription_time\"])\n",
    "    print(f\"Model: {model_name}, mean: {mean}, std: {std}, time: {round(mean, 2)} +- {round(std, 2)}\")\n",
    "\n"
   ]
  },
  {
   "cell_type": "code",
   "execution_count": null,
   "metadata": {},
   "outputs": [],
   "source": []
  },
  {
   "cell_type": "code",
   "execution_count": null,
   "metadata": {},
   "outputs": [],
   "source": []
  }
 ],
 "metadata": {
  "kernelspec": {
   "display_name": "Python 3",
   "language": "python",
   "name": "python3"
  },
  "language_info": {
   "codemirror_mode": {
    "name": "ipython",
    "version": 3
   },
   "file_extension": ".py",
   "mimetype": "text/x-python",
   "name": "python",
   "nbconvert_exporter": "python",
   "pygments_lexer": "ipython3",
   "version": "3.11.8"
  }
 },
 "nbformat": 4,
 "nbformat_minor": 2
}
