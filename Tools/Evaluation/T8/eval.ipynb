{
 "cells": [
  {
   "cell_type": "code",
   "execution_count": 1,
   "metadata": {},
   "outputs": [
    {
     "name": "stderr",
     "output_type": "stream",
     "text": [
      "C:\\Users\\echriston\\AppData\\Roaming\\Python\\Python311\\site-packages\\tqdm\\auto.py:21: TqdmWarning: IProgress not found. Please update jupyter and ipywidgets. See https://ipywidgets.readthedocs.io/en/stable/user_install.html\n",
      "  from .autonotebook import tqdm as notebook_tqdm\n"
     ]
    }
   ],
   "source": [
    "import os\n",
    "import time\n",
    "from faster_whisper import WhisperModel\n",
    "import speech_recognition as sr\n",
    "import numpy as np"
   ]
  },
  {
   "cell_type": "code",
   "execution_count": 2,
   "metadata": {},
   "outputs": [],
   "source": [
    "with open('phrases.txt', 'r', encoding='utf-8') as f:\n",
    "    original_sentences = f.readlines()"
   ]
  },
  {
   "cell_type": "markdown",
   "metadata": {},
   "source": [
    "# GENERATE TRANSCRIPTIONS"
   ]
  },
  {
   "cell_type": "code",
   "execution_count": 3,
   "metadata": {},
   "outputs": [],
   "source": [
    "# Set PYDEVD_DISABLE_FILE_VALIDATION=1 to disable this validation.\n",
    "os.environ['PYDEVD_DISABLE_FILE_VALIDATION'] = '1'"
   ]
  },
  {
   "cell_type": "markdown",
   "metadata": {},
   "source": [
    "## Faster Whisper"
   ]
  },
  {
   "cell_type": "code",
   "execution_count": 4,
   "metadata": {},
   "outputs": [],
   "source": [
    "def transcribe_sentences_faster_whisper(model, sentences, model_name):\n",
    "    transcribed_sentences = []\n",
    "    transcription_time = []\n",
    "\n",
    "    for i, phrase in enumerate(sentences):\n",
    "        print(\"\\r\" + str(i+1) + \": \" + phrase.strip() + \"                                          \", end=\"\", flush=True)\n",
    "        audio_file = f\"audio_phrases/audio_recorded_{i+1}.wav\"\n",
    "        start = time.time()\n",
    "        segments, info = model.transcribe(audio_file)\n",
    "        finish = time.time()\n",
    "        transcription_time.append(finish-start)\n",
    "        transcribed_sentences.append(\"\".join([segment.text for segment in segments]))\n",
    "\n",
    "        time.sleep(0.1)\n",
    "\n",
    "    with open(f'transcribed_sentences_{model_name}.txt', 'w', encoding='utf-8') as f:\n",
    "        for sentence in transcribed_sentences:\n",
    "            f.write(sentence + \"\\n\")\n",
    "    \n",
    "    with open(f'transcription_time_{model_name}.txt', 'w', encoding='utf-8') as f:\n",
    "        for ttime in transcription_time:\n",
    "            f.write(str(ttime) + \"\\n\")"
   ]
  },
  {
   "cell_type": "code",
   "execution_count": 5,
   "metadata": {},
   "outputs": [
    {
     "name": "stdout",
     "output_type": "stream",
     "text": [
      "Transcribing with small model...\n",
      "12: La musique transcende les frontières linguistiques.                                                   "
     ]
    },
    {
     "name": "stderr",
     "output_type": "stream",
     "text": [
      "Exception ignored in: <bound method IPythonKernel._clean_thread_parent_frames of <ipykernel.ipkernel.IPythonKernel object at 0x000001C25B9E3CD0>>\n",
      "Traceback (most recent call last):\n",
      "  File \"C:\\Users\\echriston\\AppData\\Roaming\\Python\\Python311\\site-packages\\ipykernel\\ipkernel.py\", line 770, in _clean_thread_parent_frames\n",
      "    def _clean_thread_parent_frames(\n",
      "\n",
      "KeyboardInterrupt: \n"
     ]
    },
    {
     "name": "stdout",
     "output_type": "stream",
     "text": [
      "36: La curiosité est le moteur de la découverte.                                                                   "
     ]
    }
   ],
   "source": [
    "models = [\"small\", \"medium\", \"large\"] # [\"tiny\", \"base\", \"small\", \"medium\", \"large\"]\n",
    "\n",
    "for model_name in models:\n",
    "    print(f\"Transcribing with {model_name} model...\")\n",
    "    model = WhisperModel(model_name, device=\"cuda\", compute_type=\"float16\")\n",
    "    transcribe_sentences_faster_whisper(model, original_sentences, model_name)"
   ]
  },
  {
   "cell_type": "markdown",
   "metadata": {},
   "source": [
    "## Recognize Google"
   ]
  },
  {
   "cell_type": "code",
   "execution_count": null,
   "metadata": {},
   "outputs": [],
   "source": [
    "def transcribe_sentences_google(sentences):\n",
    "    transcribed_sentences = []\n",
    "    transcription_time = []\n",
    "\n",
    "    r = sr.Recognizer()\n",
    "\n",
    "    for i, phrase in enumerate(sentences):\n",
    "        print(\"\\r\" + str(i+1) + \": \" + phrase.strip() + \"                                          \", end=\"\", flush=True)\n",
    "        audio_file = f\"audio_phrases/audio_recorded_{i+1}.wav\"\n",
    "        # use the audio file as the audio source\n",
    "        start = time.time()\n",
    "        with sr.AudioFile(audio_file) as source:\n",
    "            audio = r.record(source)  # read the entire audio file\n",
    "\n",
    "        # recognize speech using Google Speech Recognition\n",
    "        try:\n",
    "            transcribed_sentences.append(r.recognize_google(audio, language=\"fr-FR\") + \".\")\n",
    "        except sr.UnknownValueError:\n",
    "            transcribed_sentences.append(\"\")\n",
    "        except sr.RequestError as e:\n",
    "            transcribed_sentences.append(\"\")\n",
    "        finish = time.time()\n",
    "        transcription_time.append(finish-start)\n",
    "\n",
    "    with open('transcribed_sentences_google.txt', 'w', encoding='utf-8') as f:\n",
    "        for sentence in transcribed_sentences:\n",
    "            f.write(sentence + \"\\n\")\n",
    "    \n",
    "    with open('transcription_time_google.txt', 'w', encoding='utf-8') as f:\n",
    "        for ttime in transcription_time:\n",
    "            f.write(str(ttime) + \"\\n\")"
   ]
  },
  {
   "cell_type": "code",
   "execution_count": null,
   "metadata": {},
   "outputs": [
    {
     "name": "stdout",
     "output_type": "stream",
     "text": [
      "100: À quelle heure commence la réunion demain matin ?                                                               "
     ]
    }
   ],
   "source": [
    "transcribe_sentences_google(original_sentences)"
   ]
  },
  {
   "cell_type": "markdown",
   "metadata": {},
   "source": [
    "# METRICS AND EVALUATIONS"
   ]
  },
  {
   "cell_type": "code",
   "execution_count": 4,
   "metadata": {},
   "outputs": [],
   "source": [
    "def normalize_sentence(sentence):\n",
    "    res = sentence.lower()\n",
    "    res = res.replace(\"«\", \"\")\n",
    "    res = res.replace(\"»\", \"\")\n",
    "    res = res.replace(\"(\", \"\")\n",
    "    res = res.replace(\")\", \"\")\n",
    "    res = res.replace(\"[\", \"\")\n",
    "    res = res.replace(\"]\", \"\")\n",
    "    res = res.replace(\"—\", \"-\")\n",
    "    res = res.replace(\"–\", \"-\")\n",
    "    res = res.replace(\"…\", \"...\")\n",
    "    res = res.replace(\"№\", \"n\")\n",
    "    res = res.replace(\"œ\", \"oe\")\n",
    "    res = res.replace(\"æ\", \"ae\")\n",
    "    res = res.replace(\", \", \" , \")\n",
    "    res = res.replace(\". \", \" . \")\n",
    "    res = res.replace(\"! \", \" ! \")\n",
    "    res = res.replace(\"? \", \" ? \")\n",
    "    res = res.replace(\":\", \" : \")\n",
    "    res = res.replace(\";\", \" ; \")\n",
    "    res = res.replace(\"  \", \" \")\n",
    "    res = res.replace(\"  \", \" \")\n",
    "    res = res.replace(\"  \", \" \")\n",
    "    return res\n",
    "\n",
    "def normalize_sentences(sentences):\n",
    "    return [normalize_sentence(sentence) for sentence in sentences]"
   ]
  },
  {
   "cell_type": "code",
   "execution_count": 5,
   "metadata": {},
   "outputs": [],
   "source": [
    "def accuracy(original_sentences, transcribed_sentences):\n",
    "    correct = 0\n",
    "    total = 0\n",
    "\n",
    "    for original, transcribed in zip(original_sentences, transcribed_sentences):\n",
    "        if original.strip() == transcribed.strip():\n",
    "            correct += 1\n",
    "        total += 1\n",
    "        \n",
    "    return correct / total\n",
    "\n",
    "def words_accuracy(original_sentences, transcribed_sentences):\n",
    "    correct = 0\n",
    "    total = 0\n",
    "\n",
    "    def only_keep_letters(s):\n",
    "        return \"\".join([c for c in s if c.isalpha() or c == \" \"])\n",
    "\n",
    "    for original, transcribed in zip(original_sentences, transcribed_sentences):\n",
    "        if only_keep_letters(original).strip() == only_keep_letters(transcribed).strip():\n",
    "            correct += 1\n",
    "        total += 1\n",
    "    \n",
    "    return correct / total\n",
    "        \n",
    "\n",
    "def wer(original_sentences, transcribed_sentences):\n",
    "    total_wer = 0\n",
    "\n",
    "    for original, transcribed in zip(original_sentences, transcribed_sentences):\n",
    "        original = original.strip().split()\n",
    "        transcribed = transcribed.strip().split()\n",
    "\n",
    "        n = len(original) # number of words in the original sentence\n",
    "        m = len(transcribed) # number of words in the transcribed sentence\n",
    "\n",
    "        dp = [[0]*(m+1) for _ in range(n+1)] # dp[i][j] is the minimum number of operations to convert the first i words of the original sentence to the first j words of the transcribed sentence\n",
    "\n",
    "        for i in range(n+1): # base case\n",
    "            dp[i][0] = i\n",
    "\n",
    "        for j in range(m+1): # base case\n",
    "            dp[0][j] = j\n",
    "\n",
    "        for i in range(1, n+1): \n",
    "            for j in range(1, m+1):\n",
    "                if original[i-1] == transcribed[j-1]: # words are the same\n",
    "                    dp[i][j] = dp[i-1][j-1] # no operation needed\n",
    "                else:\n",
    "                    dp[i][j] = min(dp[i-1][j-1], dp[i-1][j], dp[i][j-1]) + 1 # insert, delete or replace\n",
    "\n",
    "        total_wer += dp[n][m] / n # normalize by the number of words in the original sentence\n",
    "\n",
    "    return total_wer / len(original_sentences)\n",
    "\n"
   ]
  },
  {
   "cell_type": "code",
   "execution_count": 6,
   "metadata": {},
   "outputs": [
    {
     "name": "stdout",
     "output_type": "stream",
     "text": [
      "Model: tiny\n",
      "  Accuracy: 0.12\n",
      "  WER: 0.42224025974025986\n",
      "\n",
      "Model: base\n",
      "  Accuracy: 0.25\n",
      "  WER: 0.27890223665223657\n",
      "\n",
      "Model: small\n",
      "  Accuracy: 0.55\n",
      "  WER: 0.10175829725829724\n",
      "\n",
      "Model: medium\n",
      "  Accuracy: 0.8\n",
      "  WER: 0.035349206349206345\n",
      "\n",
      "Model: large\n",
      "  Accuracy: 0.82\n",
      "  WER: 0.03684523809523809\n",
      "\n",
      "Model: google\n",
      "  Accuracy: 0.56\n",
      "  WER: 0.13254870129870133\n",
      "\n"
     ]
    }
   ],
   "source": [
    "# load transcribed sentences\n",
    "\n",
    "models = [\"tiny\", \"base\", \"small\", \"medium\", \"large\", \"google\"]\n",
    "\n",
    "data = {}\n",
    "\n",
    "for model_name in models:\n",
    "    with open(f'transcribed_sentences_{model_name}.txt', 'r', encoding='utf-8') as f:\n",
    "        transcribed_sentences = f.readlines()\n",
    "    \n",
    "    transcribed_sentences_normalized = normalize_sentences(transcribed_sentences)\n",
    "    original_sentences_normalized = normalize_sentences(original_sentences)\n",
    "    \n",
    "    acc = accuracy(original_sentences_normalized, transcribed_sentences_normalized)\n",
    "    words_acc = words_accuracy(original_sentences_normalized, transcribed_sentences_normalized)\n",
    "    wer_score = wer(original_sentences_normalized, transcribed_sentences_normalized)\n",
    "\n",
    "    with open(f'transcription_time_{model_name}.txt', 'r', encoding='utf-8') as f:\n",
    "        transcription_time = f.readlines()\n",
    "    \n",
    "    # str to float\n",
    "    transcription_time = [float(time) for time in transcription_time]\n",
    "\n",
    "    data[model_name] = {\n",
    "        \"acc\": acc,\n",
    "        \"words_acc\": words_acc,\n",
    "        \"wer\": wer_score,\n",
    "        \"transcription_time\": transcription_time\n",
    "    }\n",
    "\n",
    "    print(f\"Model: {model_name}\")\n",
    "    print(f\"  Accuracy: {acc}\")\n",
    "    print(f\"  WER: {wer_score}\")\n",
    "    print()\n"
   ]
  },
  {
   "cell_type": "code",
   "execution_count": 7,
   "metadata": {},
   "outputs": [
    {
     "data": {
      "image/png": "[encoded data removed]",
      "text/plain": [
       "<Figure size 640x480 with 1 Axes>"
      ]
     },
     "metadata": {},
     "output_type": "display_data"
    },
    {
     "data": {
      "image/png": "[encoded data removed]",
      "text/plain": [
       "<Figure size 640x480 with 1 Axes>"
      ]
     },
     "metadata": {},
     "output_type": "display_data"
    }
   ],
   "source": [
    "# bar plot of all normalized metrics\n",
    "import matplotlib.pyplot as plt\n",
    "import numpy as np\n",
    "\n",
    "\n",
    "labels = list(data.keys())\n",
    "myacc, mywacc, mywer, mytime = zip(*[data[model_name].values() for model_name in labels])\n",
    "\n",
    "myacc_100 = [100 * acc for acc in myacc]\n",
    "mywacc_100 = [100 * acc for acc in mywacc]\n",
    "mywer_100 = [100 * acc for acc in mywer]\n",
    "\n",
    "x = np.arange(len(labels))  # the label locations\n",
    "\n",
    "fig, ax = plt.subplots()\n",
    "# 3 rects for each model\n",
    "width = 0.22  # the width of the bars\n",
    "rects1 = ax.bar(x - 3*width/2,  myacc_100,  width, color='#3BA71E', label='Accuracy')\n",
    "rects2 = ax.bar(x - width/2,    mywacc_100, width, color='#2EC7ED', label='Words accuracy')\n",
    "rects3 = ax.bar(x + width/2,    mywer_100,  width, color='#A7471E', label='WER')\n",
    "# Add some text for labels, title and custom x-axis tick labels, etc.\n",
    "major_ticks = np.arange(0, 101, 10)\n",
    "minor_ticks = np.arange(0, 101, 2)\n",
    "ax.set_yticks(major_ticks)\n",
    "ax.set_yticks(minor_ticks, minor=True)\n",
    "ax.set_ylabel('Scores (%)')\n",
    "ax.set_title('Scores by model')\n",
    "ax.set_xticks(x)\n",
    "ax.set_xticklabels(labels)\n",
    "ax.legend()\n",
    "ax.grid(axis='y')\n",
    "ax.set_ylim([0, 100])\n",
    "ax.grid(which='minor', alpha=0.3)\n",
    "fig.tight_layout()\n",
    "plt.show()\n",
    "\n",
    "\n",
    "\n",
    "labels = [\"\"] + list(data.keys())\n",
    "x = np.arange(len(labels))  # the label locations\n",
    "\n",
    "fig, ax = plt.subplots()\n",
    "# box plot of transcription time\n",
    "ax.boxplot\n",
    "bp = ax.boxplot(mytime, notch=True, showmeans=True, meanline=True)\n",
    "for median in bp['medians']:\n",
    "    median.set(color ='red',\n",
    "               linewidth = 3)\n",
    "for median in bp['means']:\n",
    "    median.set(color ='green',\n",
    "               linewidth = 2)\n",
    "for whisker in bp['whiskers']:\n",
    "    whisker.set(alpha = 0.5)\n",
    "# changing style of fliers\n",
    "for flier in bp['fliers']:\n",
    "    flier.set(marker ='D',\n",
    "              markersize = 3,\n",
    "              color ='#e7298a',\n",
    "              alpha = 0.3)\n",
    "# adding bars in the background, from 0 to the median\n",
    "for i in range(len(labels)-1):\n",
    "    ax.bar(i+1, bp['medians'][i].get_ydata()[0], color='#E33226', alpha=0.3, width=0.6)\n",
    "# Add some text for labels, title and custom x-axis tick labels, etc.\n",
    "ax.set_ylabel('Time (s)')\n",
    "ax.set_title('Transcription time by model')\n",
    "major_ticks = np.arange(0, 3, 0.5)\n",
    "minor_ticks = np.arange(0, 3, 0.1)\n",
    "ax.set_yticks(major_ticks)\n",
    "ax.set_yticks(minor_ticks, minor=True)\n",
    "ax.set_xticks(x)\n",
    "ax.set_xticklabels(labels)\n",
    "ax.grid(axis='y')\n",
    "ax.set_ylim([0, 3])\n",
    "ax.grid(which='minor', alpha=0.3)\n",
    "fig.tight_layout()\n",
    "plt.show()"
   ]
  },
  {
   "cell_type": "code",
   "execution_count": null,
   "metadata": {},
   "outputs": [],
   "source": []
  },
  {
   "cell_type": "code",
   "execution_count": null,
   "metadata": {},
   "outputs": [],
   "source": []
  }
 ],
 "metadata": {
  "kernelspec": {
   "display_name": "Python 3",
   "language": "python",
   "name": "python3"
  },
  "language_info": {
   "codemirror_mode": {
    "name": "ipython",
    "version": 3
   },
   "file_extension": ".py",
   "mimetype": "text/x-python",
   "name": "python",
   "nbconvert_exporter": "python",
   "pygments_lexer": "ipython3",
   "version": "3.11.8"
  }
 },
 "nbformat": 4,
 "nbformat_minor": 2
}
