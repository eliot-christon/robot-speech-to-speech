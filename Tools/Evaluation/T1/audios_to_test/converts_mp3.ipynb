{
 "cells": [
  {
   "cell_type": "code",
   "execution_count": 1,
   "metadata": {},
   "outputs": [
    {
     "name": "stdout",
     "output_type": "stream",
     "text": [
      "Converted: thomas_oxisoglou\\homme_0_colere_1.m4a -> thomas_oxisoglou\\homme_0_colere_1.mp3\n",
      "Converted: thomas_oxisoglou\\homme_0_colere_2.m4a -> thomas_oxisoglou\\homme_0_colere_2.mp3\n",
      "Converted: thomas_oxisoglou\\homme_0_colere_3.m4a -> thomas_oxisoglou\\homme_0_colere_3.mp3\n",
      "Converted: thomas_oxisoglou\\homme_0_colere_4.m4a -> thomas_oxisoglou\\homme_0_colere_4.mp3\n",
      "Converted: thomas_oxisoglou\\homme_0_colere_5.m4a -> thomas_oxisoglou\\homme_0_colere_5.mp3\n",
      "Converted: thomas_oxisoglou\\homme_0_deception_1.m4a -> thomas_oxisoglou\\homme_0_deception_1.mp3\n",
      "Converted: thomas_oxisoglou\\homme_0_deception_2.m4a -> thomas_oxisoglou\\homme_0_deception_2.mp3\n",
      "Converted: thomas_oxisoglou\\homme_0_deception_3.m4a -> thomas_oxisoglou\\homme_0_deception_3.mp3\n",
      "Converted: thomas_oxisoglou\\homme_0_deception_4.m4a -> thomas_oxisoglou\\homme_0_deception_4.mp3\n",
      "Converted: thomas_oxisoglou\\homme_0_deception_5.m4a -> thomas_oxisoglou\\homme_0_deception_5.mp3\n",
      "Converted: thomas_oxisoglou\\homme_0_deception_6.m4a -> thomas_oxisoglou\\homme_0_deception_6.mp3\n",
      "Converted: thomas_oxisoglou\\homme_0_joie_1.m4a -> thomas_oxisoglou\\homme_0_joie_1.mp3\n",
      "Converted: thomas_oxisoglou\\homme_0_joie_2.m4a -> thomas_oxisoglou\\homme_0_joie_2.mp3\n",
      "Converted: thomas_oxisoglou\\homme_0_joie_3.m4a -> thomas_oxisoglou\\homme_0_joie_3.mp3\n",
      "Converted: thomas_oxisoglou\\homme_0_neutre_1.m4a -> thomas_oxisoglou\\homme_0_neutre_1.mp3\n",
      "Converted: thomas_oxisoglou\\homme_0_neutre_2.m4a -> thomas_oxisoglou\\homme_0_neutre_2.mp3\n",
      "Converted: thomas_oxisoglou\\homme_0_neutre_3.m4a -> thomas_oxisoglou\\homme_0_neutre_3.mp3\n",
      "Converted: thomas_oxisoglou\\homme_0_neutre_4.m4a -> thomas_oxisoglou\\homme_0_neutre_4.mp3\n",
      "Converted: thomas_oxisoglou\\homme_0_neutre_5.m4a -> thomas_oxisoglou\\homme_0_neutre_5.mp3\n",
      "Converted: thomas_oxisoglou\\homme_0_neutre_6.m4a -> thomas_oxisoglou\\homme_0_neutre_6.mp3\n"
     ]
    }
   ],
   "source": [
    "import os\n",
    "from pydub import AudioSegment\n",
    "\n",
    "# Function to convert m4a to mp3\n",
    "def convert_to_mp3(input_file, output_file):\n",
    "    sound = AudioSegment.from_file(input_file)\n",
    "    sound.export(output_file, format=\"mp3\")\n",
    "\n",
    "# Function to convert all m4a files in a folder to mp3\n",
    "def convert_folder_to_mp3(input_folder, output_folder):\n",
    "    # Create output folder if it doesn't exist\n",
    "    if not os.path.exists(output_folder):\n",
    "        os.makedirs(output_folder)\n",
    "    \n",
    "    # Loop through files in the input folder\n",
    "    for filename in os.listdir(input_folder):\n",
    "        if filename.endswith('.m4a'):\n",
    "            input_file = os.path.join(input_folder, filename)\n",
    "            output_file = os.path.join(output_folder, os.path.splitext(filename)[0] + '.mp3')\n",
    "            convert_to_mp3(input_file, output_file)\n",
    "            print(f\"Converted: {input_file} -> {output_file}\")\n",
    "\n",
    "# Example usage\n",
    "input_folder = 'thomas_oxisoglou'  # Replace 'input_folder_path' with the path to your input folder\n",
    "output_folder = input_folder  # Replace 'output_folder_path' with the path to your output folder\n",
    "convert_folder_to_mp3(input_folder, output_folder)\n"
   ]
  },
  {
   "cell_type": "code",
   "execution_count": 19,
   "metadata": {},
   "outputs": [
    {
     "name": "stdout",
     "output_type": "stream",
     "text": [
      "Converted: Unknown\\eugenie_declaron_short.mp3 -> Unknown\\eugenie_declaron_short.wav\n",
      "Converted: Unknown\\example_reference.mp3 -> Unknown\\example_reference.wav\n",
      "Converted: Unknown\\jean_pierre_pernaut_short.mp3 -> Unknown\\jean_pierre_pernaut_short.wav\n",
      "Converted: Unknown\\perrine_laffont_short.mp3 -> Unknown\\perrine_laffont_short.wav\n",
      "Converted: Unknown\\pierre_faury_short.mp3 -> Unknown\\pierre_faury_short.wav\n",
      "Converted: Unknown\\ptisham_short.mp3 -> Unknown\\ptisham_short.wav\n",
      "Converted: Unknown\\teddy_riner_short.mp3 -> Unknown\\teddy_riner_short.wav\n"
     ]
    }
   ],
   "source": [
    "import os\n",
    "from pydub import AudioSegment\n",
    "\n",
    "# function to convert m4a to wav and change the sample rate to 48kHz\n",
    "def convert_to_wav(input_file, output_file):\n",
    "    sound = AudioSegment.from_file(input_file)\n",
    "    sound = sound.set_frame_rate(48000)\n",
    "    sound.export(output_file, format=\"wav\")\n",
    "\n",
    "def convert_folder_to_wav(input_folder, output_folder):\n",
    "    # Create output folder if it doesn't exist\n",
    "    if not os.path.exists(output_folder):\n",
    "        os.makedirs(output_folder)\n",
    "    \n",
    "    # Loop through files in the input folder\n",
    "    for filename in os.listdir(input_folder):\n",
    "        if filename.endswith('.m4a'):\n",
    "            input_file = os.path.join(input_folder, filename)\n",
    "            output_file = os.path.join(output_folder, os.path.splitext(filename)[0] + '.wav')\n",
    "            convert_to_wav(input_file, output_file)\n",
    "            print(f\"Converted: {input_file} -> {output_file}\")\n",
    "\n",
    "\n",
    "# Example usage\n",
    "input_folder = 'Unknown'  # Replace 'input_folder_path' with the path to your input folder\n",
    "output_folder = input_folder  # Replace 'output_folder_path' with the path to your output folder\n",
    "convert_folder_to_wav(input_folder, output_folder)"
   ]
  },
  {
   "cell_type": "code",
   "execution_count": 21,
   "metadata": {},
   "outputs": [
    {
     "name": "stdout",
     "output_type": "stream",
     "text": [
      "Deleted: homme_1_colere_1.wav\n",
      "Deleted: homme_1_colere_2.wav\n",
      "Deleted: homme_1_colere_3.wav\n",
      "Deleted: homme_1_colere_4.wav\n",
      "Deleted: homme_1_colere_5.wav\n",
      "Deleted: homme_1_deception_1.wav\n",
      "Deleted: homme_1_deception_2.wav\n",
      "Deleted: homme_1_deception_3.wav\n",
      "Deleted: homme_1_deception_4.wav\n",
      "Deleted: homme_1_deception_5.wav\n",
      "Deleted: homme_1_joie_1.wav\n",
      "Deleted: homme_1_joie_2.wav\n",
      "Deleted: homme_1_joie_3.wav\n",
      "Deleted: homme_1_joie_4.wav\n",
      "Deleted: homme_1_joie_5.wav\n",
      "Deleted: homme_1_neutre_1.wav\n",
      "Deleted: homme_1_neutre_2.wav\n",
      "Deleted: homme_1_neutre_3.wav\n",
      "Deleted: homme_1_neutre_4.wav\n",
      "Deleted: homme_1_neutre_5.wav\n"
     ]
    }
   ],
   "source": [
    "# function deleting all .wav in a folder\n",
    "import os\n",
    "\n",
    "def del_format_in_folder(folder, format=\".wav\"):\n",
    "    # Loop through files in the input folder\n",
    "    all_files_no_extention = [filen.split('.')[0] for filen in os.listdir(folder)]\n",
    "    # keep only duplicates\n",
    "    duplicates = set([x for x in all_files_no_extention if all_files_no_extention.count(x) > 1])\n",
    "\n",
    "    # it's ok to remove the fil if there is a duplicate\n",
    "    for filename in os.listdir(folder):\n",
    "        if filename.endswith(format) and filename.split('.')[0] in duplicates:\n",
    "            os.remove(os.path.join(folder, filename))\n",
    "            print(f\"Deleted: {filename}\")\n",
    "    \n",
    "\n",
    "\n",
    "input_folder = 'alex_pereira_ferreira'  # Replace 'input_folder_path' with the path to your input folder\n",
    "del_format_in_folder(input_folder)"
   ]
  }
 ],
 "metadata": {
  "kernelspec": {
   "display_name": "Python 3",
   "language": "python",
   "name": "python3"
  },
  "language_info": {
   "codemirror_mode": {
    "name": "ipython",
    "version": 3
   },
   "file_extension": ".py",
   "mimetype": "text/x-python",
   "name": "python",
   "nbconvert_exporter": "python",
   "pygments_lexer": "ipython3",
   "version": "3.11.8"
  }
 },
 "nbformat": 4,
 "nbformat_minor": 2
}
