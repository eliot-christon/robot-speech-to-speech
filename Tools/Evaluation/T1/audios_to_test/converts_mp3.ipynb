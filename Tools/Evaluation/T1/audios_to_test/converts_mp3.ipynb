{
 "cells": [
  {
   "cell_type": "code",
   "execution_count": 5,
   "metadata": {},
   "outputs": [
    {
     "name": "stdout",
     "output_type": "stream",
     "text": [
      "Converted: femme_3\\femme_3_colere_1.m4a -> femme_3\\femme_3_colere_1.mp3\n",
      "Converted: femme_3\\femme_3_colere_2.m4a -> femme_3\\femme_3_colere_2.mp3\n",
      "Converted: femme_3\\femme_3_colere_3.m4a -> femme_3\\femme_3_colere_3.mp3\n",
      "Converted: femme_3\\femme_3_colere_4.m4a -> femme_3\\femme_3_colere_4.mp3\n",
      "Converted: femme_3\\femme_3_colere_5.m4a -> femme_3\\femme_3_colere_5.mp3\n",
      "Converted: femme_3\\femme_3_deception_1.m4a -> femme_3\\femme_3_deception_1.mp3\n",
      "Converted: femme_3\\femme_3_deception_2.m4a -> femme_3\\femme_3_deception_2.mp3\n",
      "Converted: femme_3\\femme_3_deception_3.m4a -> femme_3\\femme_3_deception_3.mp3\n",
      "Converted: femme_3\\femme_3_deception_4.m4a -> femme_3\\femme_3_deception_4.mp3\n",
      "Converted: femme_3\\femme_3_deception_5.m4a -> femme_3\\femme_3_deception_5.mp3\n",
      "Converted: femme_3\\femme_3_deception_6.m4a -> femme_3\\femme_3_deception_6.mp3\n",
      "Converted: femme_3\\femme_3_joie_1.m4a -> femme_3\\femme_3_joie_1.mp3\n",
      "Converted: femme_3\\femme_3_joie_2.m4a -> femme_3\\femme_3_joie_2.mp3\n",
      "Converted: femme_3\\femme_3_joie_3.m4a -> femme_3\\femme_3_joie_3.mp3\n",
      "Converted: femme_3\\femme_3_joie_4.m4a -> femme_3\\femme_3_joie_4.mp3\n",
      "Converted: femme_3\\femme_3_joie_5.m4a -> femme_3\\femme_3_joie_5.mp3\n",
      "Converted: femme_3\\femme_3_joie_6.m4a -> femme_3\\femme_3_joie_6.mp3\n",
      "Converted: femme_3\\femme_3_neutre_1.m4a -> femme_3\\femme_3_neutre_1.mp3\n",
      "Converted: femme_3\\femme_3_neutre_2.m4a -> femme_3\\femme_3_neutre_2.mp3\n",
      "Converted: femme_3\\femme_3_neutre_3.m4a -> femme_3\\femme_3_neutre_3.mp3\n",
      "Converted: femme_3\\femme_3_neutre_4.m4a -> femme_3\\femme_3_neutre_4.mp3\n",
      "Converted: femme_3\\femme_3_neutre_5.m4a -> femme_3\\femme_3_neutre_5.mp3\n",
      "Converted: femme_3\\femme_3_neutre_6.m4a -> femme_3\\femme_3_neutre_6.mp3\n",
      "Converted: femme_3\\femme_3_neutre_7.m4a -> femme_3\\femme_3_neutre_7.mp3\n",
      "Converted: femme_3\\femme_3_neutre_8.m4a -> femme_3\\femme_3_neutre_8.mp3\n"
     ]
    }
   ],
   "source": [
    "import os\n",
    "from pydub import AudioSegment\n",
    "\n",
    "# Function to convert m4a to mp3\n",
    "def convert_to_mp3(input_file, output_file):\n",
    "    sound = AudioSegment.from_file(input_file)\n",
    "    sound.export(output_file, format=\"mp3\")\n",
    "\n",
    "# Function to convert all m4a files in a folder to mp3\n",
    "def convert_folder_to_mp3(input_folder, output_folder):\n",
    "    # Create output folder if it doesn't exist\n",
    "    if not os.path.exists(output_folder):\n",
    "        os.makedirs(output_folder)\n",
    "    \n",
    "    # Loop through files in the input folder\n",
    "    for filename in os.listdir(input_folder):\n",
    "        if filename.endswith('.m4a'):\n",
    "            input_file = os.path.join(input_folder, filename)\n",
    "            output_file = os.path.join(output_folder, os.path.splitext(filename)[0] + '.mp3')\n",
    "            convert_to_mp3(input_file, output_file)\n",
    "            print(f\"Converted: {input_file} -> {output_file}\")\n",
    "\n",
    "# Example usage\n",
    "input_folder = 'femme_3'  # Replace 'input_folder_path' with the path to your input folder\n",
    "output_folder = input_folder  # Replace 'output_folder_path' with the path to your output folder\n",
    "convert_folder_to_mp3(input_folder, output_folder)\n"
   ]
  }
 ],
 "metadata": {
  "kernelspec": {
   "display_name": "Python 3",
   "language": "python",
   "name": "python3"
  },
  "language_info": {
   "codemirror_mode": {
    "name": "ipython",
    "version": 3
   },
   "file_extension": ".py",
   "mimetype": "text/x-python",
   "name": "python",
   "nbconvert_exporter": "python",
   "pygments_lexer": "ipython3",
   "version": "3.11.8"
  }
 },
 "nbformat": 4,
 "nbformat_minor": 2
}
