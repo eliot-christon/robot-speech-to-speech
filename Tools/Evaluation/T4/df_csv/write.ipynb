{
 "cells": [
  {
   "cell_type": "code",
   "execution_count": 3,
   "metadata": {},
   "outputs": [],
   "source": [
    "with open(\"dire_au_revoir.txt\", \"r\", encoding=\"utf-8\") as f:\n",
    "    sentences = f.readlines()\n",
    "\n",
    "desc = []\n",
    "for sentence in sentences:\n",
    "    if sentence.strip()[-1] == \"?\":\n",
    "        desc.append(\"Int\")\n",
    "    else:\n",
    "        desc.append(\"Aff\")\n",
    "\n",
    "with open(\"dire_au_revoir_desc.txt\", \"w\", encoding=\"utf-8\") as f:\n",
    "    f.write(\"\\n\".join(desc))"
   ]
  }
 ],
 "metadata": {
  "kernelspec": {
   "display_name": "Python 3",
   "language": "python",
   "name": "python3"
  },
  "language_info": {
   "codemirror_mode": {
    "name": "ipython",
    "version": 3
   },
   "file_extension": ".py",
   "mimetype": "text/x-python",
   "name": "python",
   "nbconvert_exporter": "python",
   "pygments_lexer": "ipython3",
   "version": "3.11.8"
  }
 },
 "nbformat": 4,
 "nbformat_minor": 2
}
