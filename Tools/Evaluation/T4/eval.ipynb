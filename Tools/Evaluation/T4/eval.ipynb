{
 "cells": [
  {
   "cell_type": "markdown",
   "metadata": {},
   "source": [
    "## Imports"
   ]
  },
  {
   "cell_type": "code",
   "execution_count": 14,
   "metadata": {},
   "outputs": [
    {
     "name": "stdout",
     "output_type": "stream",
     "text": [
      "Using matplotlib backend: QtAgg\n"
     ]
    }
   ],
   "source": [
    "from langchain_community.vectorstores.faiss import FAISS, DistanceStrategy\n",
    "from langchain_cohere import CohereEmbeddings\n",
    "from langchain.docstore.document import Document\n",
    "\n",
    "# %matplotlib\n",
    "import matplotlib.pyplot as plt\n",
    "import numpy as np\n",
    "import os\n",
    "import ollama\n",
    "import pandas as pd\n",
    "from sklearn.ensemble import RandomForestClassifier\n",
    "from sklearn.svm import SVC\n",
    "from sklearn.neighbors import KNeighborsClassifier\n",
    "from sklearn.metrics import accuracy_score, confusion_matrix, f1_score, precision_score, recall_score\n",
    "from sklearn.model_selection import train_test_split\n",
    "import time\n",
    "from tqdm import tqdm\n",
    "from typing import List, Tuple"
   ]
  },
  {
   "cell_type": "markdown",
   "metadata": {},
   "source": [
    "## General functions"
   ]
  },
  {
   "cell_type": "markdown",
   "metadata": {},
   "source": [
    "### logic"
   ]
  },
  {
   "cell_type": "code",
   "execution_count": 2,
   "metadata": {},
   "outputs": [],
   "source": [
    "def score_normalizer(val: float) -> float:\n",
    "    return 1 - (1 / (1 + np.exp(val)))\n",
    "\n",
    "# Define your custom similarity calculation function\n",
    "def custom_relevance_score_fn(similarity_score: float) -> float:\n",
    "    # Example calculation (customize as needed)\n",
    "    relevance_score = np.exp(-similarity_score)\n",
    "    return relevance_score"
   ]
  },
  {
   "cell_type": "markdown",
   "metadata": {},
   "source": [
    "### display"
   ]
  },
  {
   "cell_type": "code",
   "execution_count": 3,
   "metadata": {},
   "outputs": [],
   "source": [
    "def pretty_print_docs(docs):\n",
    "    if isinstance(docs[0], tuple):\n",
    "        print(\n",
    "            f\"\\n{'-' * 100}\\n\".join(\n",
    "                [\n",
    "                    f\"Document {i+1}: ({d[1]})\\n\\n{d[0].page_content}\\nMetadata: {d[0].metadata}\"\n",
    "                    for i, d in enumerate(docs)\n",
    "                ]\n",
    "            )\n",
    "        )\n",
    "    else:\n",
    "        print(\n",
    "            f\"\\n{'-' * 100}\\n\".join(\n",
    "                [\n",
    "                    f\"Document {i+1}:\\n\\n{d.page_content}\\nMetadata: {d.metadata}\"\n",
    "                    for i, d in enumerate(docs)\n",
    "                ]\n",
    "            )\n",
    "        )\n",
    "\n",
    "def plot_confusion_matrix(y, y_pred, labels, french=True):\n",
    "\n",
    "    c_matrix = np.array(confusion_matrix(y, y_pred, labels=labels))\n",
    "\n",
    "    fig, ax = plt.subplots()\n",
    "    cmap = plt.colormaps.get('Blues')\n",
    "    cax = ax.matshow(c_matrix, cmap=cmap)\n",
    "    max_val = c_matrix.max()\n",
    "    min_val = c_matrix.min()\n",
    "    # text\n",
    "    for (i, j), val in np.ndenumerate(c_matrix):\n",
    "        if val == min_val:\n",
    "            continue\n",
    "        bg_color = cmap((val - min_val) / (max_val - min_val))\n",
    "        luminance = 0.299 * bg_color[0] + 0.587 * bg_color[1] + 0.114 * bg_color[2]\n",
    "        text_color = 'black' if luminance > 0.5 else 'white'\n",
    "        ax.text(j, i, f\"{val}\", ha='center', va='center', color=text_color)\n",
    "\n",
    "    # insert \\n in labels when too long\n",
    "    each_n = 24\n",
    "\n",
    "    def insert_newlines(string, every=30):\n",
    "        words = string.split()\n",
    "        # if the combined length of the words is less than the every parameter\n",
    "        if len(' '.join(words)) < every:\n",
    "            return ' '.join(words)\n",
    "        \n",
    "        # if the combined length of the words is greater than the every parameter\n",
    "        new_string = ''\n",
    "        current_length = 0\n",
    "        for word in words:\n",
    "            if current_length + len(word) > every:\n",
    "                new_string += '\\n'\n",
    "                current_length = 0\n",
    "            new_string += word + ' '\n",
    "            current_length += len(word) + 1\n",
    "        return new_string\n",
    "\n",
    "    plt_labels = [labels[i] if len(labels[i]) < each_n else insert_newlines(labels[i], each_n) for i in range(len(labels))]\n",
    "    if french:\n",
    "        plt_labels = ['Inconnu' if label == 'Unknown' else label for label in plt_labels]\n",
    "\n",
    "    ax.tick_params(top=True, labeltop=True, bottom=False, labelbottom=False)\n",
    "\n",
    "    plt.xticks(range(len(labels)), range(len(labels)))\n",
    "    plt.yticks(range(len(labels)), range(len(labels)))\n",
    "\n",
    "    # text associating label number with label name\n",
    "    for i in range(len(labels)):\n",
    "        ax.text(len(labels), i, f\"{i} - {plt_labels[i]}\", ha='left', va='center', fontsize=10)\n",
    "\n",
    "    ax.xaxis.set_label_position('top') \n",
    "    if french:\n",
    "        plt.title('Matrice de confusion', pad=20, fontsize=15, fontweight='bold', color='black', y=-0.2)\n",
    "        plt.xlabel('Action prédite')\n",
    "        plt.ylabel('Action réelle')\n",
    "    else:\n",
    "        plt.title('Confusion matrix', pad=20, fontsize=15, fontweight='bold', color='black', y=-0.2)\n",
    "        plt.xlabel('Predicted action')\n",
    "        plt.ylabel('Actual action')\n",
    "    plt.tight_layout()\n"
   ]
  },
  {
   "cell_type": "markdown",
   "metadata": {},
   "source": [
    "## General variables"
   ]
  },
  {
   "cell_type": "code",
   "execution_count": 4,
   "metadata": {},
   "outputs": [
    {
     "name": "stdout",
     "output_type": "stream",
     "text": [
      "Embedding length: 4096\n",
      "Embedding model: NoneType\n"
     ]
    }
   ],
   "source": [
    "actions_df = pd.read_csv(\"../../../data/stored/assistant/action_selection_training/action_dataset.csv\")\n",
    "\n",
    "actions_possibles = actions_df[\"action\"].unique().tolist()\n",
    "\n",
    "if not os.path.exists(\"cohere_api_key.api\"):\n",
    "    raise Exception(\"Please create a file named 'cohere_api_key.api' with your Cohere API key in it. https://dashboard.cohere.com/api-keys\")\n",
    "with open(\"cohere_api_key.api\", \"r\") as f:\n",
    "    COHERE_API_KEY = f.read().strip()\n",
    "\n",
    "model_name = \"vigostral\" # default, mistral\n",
    "\n",
    "# # Langchain Cohere\n",
    "# embedding = CohereEmbeddings(cohere_api_key=COHERE_API_KEY)\n",
    "# embedding_func = embedding.embed_query\n",
    "\n",
    "# # Langchain Ollama\n",
    "# embedding = OllamaEmbeddings(model=model_name) # CohereEmbeddings(cohere_api_key=COHERE_API_KEY), OllamaEmbeddings(model=model_name)\n",
    "# embedding_func = embedding.embed_query\n",
    "\n",
    "# Ollama\n",
    "embedding = None\n",
    "def embedding_func(text: str) -> np.ndarray:\n",
    "    return np.array(ollama.embeddings(model=model_name, prompt=text)['embedding'])\n",
    "\n",
    "embedding_len = len(embedding_func(\"test\"))\n",
    "print(f\"Embedding length: {embedding_len}\")\n",
    "print(f\"Embedding model: {embedding.__class__.__name__}\")"
   ]
  },
  {
   "cell_type": "code",
   "execution_count": 5,
   "metadata": {},
   "outputs": [
    {
     "data": {
      "text/plain": [
       "array([  2.76926947,   1.04995811,   0.4873004 , ...,   5.93476295,\n",
       "       -10.09409714,  -1.94710982])"
      ]
     },
     "execution_count": 5,
     "metadata": {},
     "output_type": "execute_result"
    }
   ],
   "source": [
    "embedding_func(\"test\")"
   ]
  },
  {
   "cell_type": "markdown",
   "metadata": {},
   "source": [
    "## FAISS similarity search classification"
   ]
  },
  {
   "cell_type": "markdown",
   "metadata": {},
   "source": [
    "### build vectorstore"
   ]
  },
  {
   "cell_type": "code",
   "execution_count": null,
   "metadata": {},
   "outputs": [],
   "source": [
    "vectordb = None\n",
    "vectordb = FAISS.from_texts(\n",
    "    actions_possibles, \n",
    "    embedding, \n",
    "    normalize_L2=True, \n",
    "    distance_strategy=DistanceStrategy.EUCLIDEAN_DISTANCE, \n",
    "    relevance_score_fn=custom_relevance_score_fn\n",
    "    )\n",
    "vectordb.save_local(\"local_vectorstore_faiss\" + embedding.__class__.__name__ + \"_\" + model_name)"
   ]
  },
  {
   "cell_type": "markdown",
   "metadata": {},
   "source": [
    "### load vectorstore"
   ]
  },
  {
   "cell_type": "code",
   "execution_count": null,
   "metadata": {},
   "outputs": [],
   "source": [
    "vectordb = None\n",
    "vectordb = FAISS.load_local(\n",
    "    \"local_vectorstore_faiss\" + embedding.__class__.__name__ + \"_\" + model_name, \n",
    "    embedding, \n",
    "    normalize_L2=True, \n",
    "    distance_strategy=DistanceStrategy.EUCLIDEAN_DISTANCE, \n",
    "    relevance_score_fn=custom_relevance_score_fn,\n",
    "    allow_dangerous_deserialization=True\n",
    ")"
   ]
  },
  {
   "cell_type": "markdown",
   "metadata": {},
   "source": [
    "### example of use"
   ]
  },
  {
   "cell_type": "code",
   "execution_count": null,
   "metadata": {},
   "outputs": [],
   "source": [
    "query = \"\"\"Je peux vous dire si la journée de demain sera ensoleillée\"\"\"\n",
    "docs_proba = vectordb.similarity_search_with_score(query, k=3)\n",
    "pretty_print_docs(docs_proba)"
   ]
  },
  {
   "cell_type": "code",
   "execution_count": null,
   "metadata": {},
   "outputs": [],
   "source": [
    "query = \"\"\"Je veux savoir si le temps sera ensoleillé demain\"\"\"\n",
    "docs_proba = vectordb.similarity_search_with_relevance_scores(query, k=3)\n",
    "pretty_print_docs(docs_proba)"
   ]
  },
  {
   "cell_type": "markdown",
   "metadata": {},
   "source": [
    "### Eval with df"
   ]
  },
  {
   "cell_type": "code",
   "execution_count": null,
   "metadata": {},
   "outputs": [],
   "source": [
    "def predict(docs_proba: List[Tuple[Document, float]], threshold: float = 0.5) -> Tuple[str, float]:\n",
    "    # Get the document with the highest probability\n",
    "    max_proba_doc = max(docs_proba, key=lambda x: x[1])\n",
    "    print(f\"Max probability doc: {max_proba_doc[0].page_content}, {max_proba_doc[1]}\")\n",
    "    if max_proba_doc[1] >= threshold:\n",
    "        return max_proba_doc[0].page_content, max_proba_doc[1]\n",
    "    else:\n",
    "        return \"Unknown\", 0.5 - max_proba_doc[1]"
   ]
  },
  {
   "cell_type": "code",
   "execution_count": null,
   "metadata": {},
   "outputs": [],
   "source": [
    "# for each assistant_sentence in actions_df[\"assistant_sentence\"]:\n",
    "\n",
    "result_df = actions_df.copy()\n",
    "# add a column to store the prediction\n",
    "result_df[\"prediction\"] = None\n",
    "result_df[\"prediction_proba\"] = None\n",
    "\n",
    "for sentence in actions_df[\"assistant_sentence\"]:\n",
    "    docs_proba = vectordb.similarity_search_with_relevance_scores(sentence, k=3)\n",
    "    print(f\"Assistant sentence: {sentence}\")\n",
    "    prediction, proba = predict(docs_proba, threshold=0.4)\n",
    "    print(f\"   Prediction: {prediction}, Probability: {proba}\")\n",
    "\n",
    "    result_df.loc[result_df[\"assistant_sentence\"] == sentence, \"prediction\"] = prediction\n",
    "    result_df.loc[result_df[\"assistant_sentence\"] == sentence, \"prediction_proba\"] = proba\n"
   ]
  },
  {
   "cell_type": "code",
   "execution_count": null,
   "metadata": {},
   "outputs": [],
   "source": [
    "# replace null values with \"Unknown\"\n",
    "y = result_df[\"action\"]\n",
    "y = y.fillna(\"Unknown\")\n",
    "y_pred = result_df[\"prediction\"]\n",
    "\n",
    "labels = y.unique()\n",
    "\n",
    "print(f\"Accuracy: {accuracy_score(y, y_pred)}\")\n",
    "print(f\"Precision: {precision_score(y, y_pred, average='weighted', zero_division=0)}\")\n",
    "print(f\"Recall: {recall_score(y, y_pred, average='weighted')}\")\n",
    "print(f\"F1: {f1_score(y, y_pred, average='weighted')}\")\n",
    "\n",
    "plot_confusion_matrix(y, y_pred, labels)\n",
    "\n",
    "plt.savefig(f\"plots/confusion_matrix_faiss_{embedding.__class__.__name__}_{model_name}.png\")\n",
    "plt.show()"
   ]
  },
  {
   "cell_type": "markdown",
   "metadata": {},
   "source": [
    "## Classifier Approch from embeddings"
   ]
  },
  {
   "cell_type": "markdown",
   "metadata": {},
   "source": [
    "### build vector dataset"
   ]
  },
  {
   "cell_type": "code",
   "execution_count": 80,
   "metadata": {},
   "outputs": [
    {
     "name": "stderr",
     "output_type": "stream",
     "text": [
      "100%|██████████| 400/400 [01:07<00:00,  5.93it/s]\n"
     ]
    }
   ],
   "source": [
    "# for ech sentence in the df, get the vector\n",
    "vect_columns = [f\"vector_{i}\" for i in range(embedding_len)]\n",
    "\n",
    "vector_action_df = pd.DataFrame()\n",
    "\n",
    "\n",
    "count_iter = 5 # just in case we already called the API 5 times\n",
    "\n",
    "for sentence in tqdm(actions_df[\"assistant_sentence\"]):\n",
    "    count_iter += 1\n",
    "    if count_iter % 100 == 0 and isinstance(embedding, CohereEmbeddings):\n",
    "        time.sleep(60)\n",
    "    vector = embedding_func(sentence)\n",
    "    if len(vector_action_df) == 0:\n",
    "        vector_action_df = pd.DataFrame([vector], columns=vect_columns)\n",
    "    else:\n",
    "        vector_action_df = pd.concat([vector_action_df, pd.DataFrame([vector], columns=vect_columns)], ignore_index=True)\n",
    "\n",
    "# add the assistant_sentence and action columns\n",
    "vector_action_df[\"assistant_sentence\"] = actions_df[\"assistant_sentence\"]\n",
    "vector_action_df[\"action\"] = actions_df[\"action\"]\n",
    "# replace null values with \"Unknown\"\n",
    "vector_action_df[\"action\"] = vector_action_df[\"action\"].fillna(\"Unknown\")\n",
    "# place the assistant_sentence and action columns at the beginning\n",
    "cols = vector_action_df.columns.tolist()\n",
    "cols = cols[-2:] + cols[:-2]\n",
    "vector_action_df = vector_action_df[cols]\n",
    "\n",
    "vector_action_df.to_csv(f\"df_csv/vector_action_df_{embedding.__class__.__name__}_{model_name}.csv\", index=False)"
   ]
  },
  {
   "cell_type": "markdown",
   "metadata": {},
   "source": [
    "### load vector dataset"
   ]
  },
  {
   "cell_type": "code",
   "execution_count": 6,
   "metadata": {},
   "outputs": [
    {
     "data": {
      "text/html": [
       "<div>\n",
       "<style scoped>\n",
       "    .dataframe tbody tr th:only-of-type {\n",
       "        vertical-align: middle;\n",
       "    }\n",
       "\n",
       "    .dataframe tbody tr th {\n",
       "        vertical-align: top;\n",
       "    }\n",
       "\n",
       "    .dataframe thead th {\n",
       "        text-align: right;\n",
       "    }\n",
       "</style>\n",
       "<table border=\"1\" class=\"dataframe\">\n",
       "  <thead>\n",
       "    <tr style=\"text-align: right;\">\n",
       "      <th></th>\n",
       "      <th>assistant_sentence</th>\n",
       "      <th>action</th>\n",
       "      <th>vector_0</th>\n",
       "      <th>vector_1</th>\n",
       "      <th>vector_2</th>\n",
       "      <th>vector_3</th>\n",
       "      <th>vector_4</th>\n",
       "      <th>vector_5</th>\n",
       "      <th>vector_6</th>\n",
       "      <th>vector_7</th>\n",
       "      <th>...</th>\n",
       "      <th>vector_4086</th>\n",
       "      <th>vector_4087</th>\n",
       "      <th>vector_4088</th>\n",
       "      <th>vector_4089</th>\n",
       "      <th>vector_4090</th>\n",
       "      <th>vector_4091</th>\n",
       "      <th>vector_4092</th>\n",
       "      <th>vector_4093</th>\n",
       "      <th>vector_4094</th>\n",
       "      <th>vector_4095</th>\n",
       "    </tr>\n",
       "  </thead>\n",
       "  <tbody>\n",
       "    <tr>\n",
       "      <th>0</th>\n",
       "      <td>Je connais quelques endroits sympas près de l'...</td>\n",
       "      <td>recommander un restaurant</td>\n",
       "      <td>3.195649</td>\n",
       "      <td>5.975437</td>\n",
       "      <td>2.339336</td>\n",
       "      <td>2.654635</td>\n",
       "      <td>7.976059</td>\n",
       "      <td>-9.847315</td>\n",
       "      <td>5.963101</td>\n",
       "      <td>4.640450</td>\n",
       "      <td>...</td>\n",
       "      <td>-1.427161</td>\n",
       "      <td>-3.628849</td>\n",
       "      <td>-3.458888</td>\n",
       "      <td>11.523420</td>\n",
       "      <td>3.131397</td>\n",
       "      <td>23.263723</td>\n",
       "      <td>-0.539653</td>\n",
       "      <td>-7.062226</td>\n",
       "      <td>-1.507171</td>\n",
       "      <td>-4.527781</td>\n",
       "    </tr>\n",
       "    <tr>\n",
       "      <th>1</th>\n",
       "      <td>Envie de découvrir de nouveaux restaurants à p...</td>\n",
       "      <td>recommander un restaurant</td>\n",
       "      <td>0.899595</td>\n",
       "      <td>6.183401</td>\n",
       "      <td>1.536693</td>\n",
       "      <td>-5.604234</td>\n",
       "      <td>5.725537</td>\n",
       "      <td>-11.313480</td>\n",
       "      <td>0.849523</td>\n",
       "      <td>2.007109</td>\n",
       "      <td>...</td>\n",
       "      <td>-1.873214</td>\n",
       "      <td>-0.612927</td>\n",
       "      <td>0.090203</td>\n",
       "      <td>11.635771</td>\n",
       "      <td>2.622334</td>\n",
       "      <td>28.380095</td>\n",
       "      <td>3.252810</td>\n",
       "      <td>4.249798</td>\n",
       "      <td>0.769276</td>\n",
       "      <td>-3.076949</td>\n",
       "    </tr>\n",
       "    <tr>\n",
       "      <th>2</th>\n",
       "      <td>Besoin d'une idée pour déjeuner près d'ici ?</td>\n",
       "      <td>recommander un restaurant</td>\n",
       "      <td>2.545759</td>\n",
       "      <td>4.862766</td>\n",
       "      <td>3.900639</td>\n",
       "      <td>-2.304713</td>\n",
       "      <td>7.611195</td>\n",
       "      <td>-8.304035</td>\n",
       "      <td>4.323432</td>\n",
       "      <td>4.728627</td>\n",
       "      <td>...</td>\n",
       "      <td>-1.209677</td>\n",
       "      <td>-2.308054</td>\n",
       "      <td>-1.628266</td>\n",
       "      <td>8.256981</td>\n",
       "      <td>3.374861</td>\n",
       "      <td>32.170013</td>\n",
       "      <td>0.912759</td>\n",
       "      <td>0.475790</td>\n",
       "      <td>0.768288</td>\n",
       "      <td>-0.556803</td>\n",
       "    </tr>\n",
       "    <tr>\n",
       "      <th>3</th>\n",
       "      <td>Tu cherches un bon endroit où manger dans le c...</td>\n",
       "      <td>recommander un restaurant</td>\n",
       "      <td>2.783970</td>\n",
       "      <td>8.124847</td>\n",
       "      <td>2.899334</td>\n",
       "      <td>-3.157313</td>\n",
       "      <td>6.752358</td>\n",
       "      <td>-9.160266</td>\n",
       "      <td>5.126987</td>\n",
       "      <td>5.307425</td>\n",
       "      <td>...</td>\n",
       "      <td>-0.797170</td>\n",
       "      <td>-1.084782</td>\n",
       "      <td>-0.539555</td>\n",
       "      <td>6.136744</td>\n",
       "      <td>2.358043</td>\n",
       "      <td>28.764536</td>\n",
       "      <td>1.409307</td>\n",
       "      <td>-1.497352</td>\n",
       "      <td>1.735198</td>\n",
       "      <td>-0.567623</td>\n",
       "    </tr>\n",
       "    <tr>\n",
       "      <th>4</th>\n",
       "      <td>Je peux te donner quelques suggestions de rest...</td>\n",
       "      <td>recommander un restaurant</td>\n",
       "      <td>1.160293</td>\n",
       "      <td>7.010397</td>\n",
       "      <td>2.897872</td>\n",
       "      <td>0.111909</td>\n",
       "      <td>7.968406</td>\n",
       "      <td>-10.773114</td>\n",
       "      <td>6.647258</td>\n",
       "      <td>3.859992</td>\n",
       "      <td>...</td>\n",
       "      <td>-3.362885</td>\n",
       "      <td>-3.396346</td>\n",
       "      <td>-5.933163</td>\n",
       "      <td>18.584812</td>\n",
       "      <td>4.620731</td>\n",
       "      <td>29.899702</td>\n",
       "      <td>-2.493897</td>\n",
       "      <td>-8.485485</td>\n",
       "      <td>-0.891420</td>\n",
       "      <td>-3.921796</td>\n",
       "    </tr>\n",
       "  </tbody>\n",
       "</table>\n",
       "<p>5 rows × 4098 columns</p>\n",
       "</div>"
      ],
      "text/plain": [
       "                                  assistant_sentence  \\\n",
       "0  Je connais quelques endroits sympas près de l'...   \n",
       "1  Envie de découvrir de nouveaux restaurants à p...   \n",
       "2       Besoin d'une idée pour déjeuner près d'ici ?   \n",
       "3  Tu cherches un bon endroit où manger dans le c...   \n",
       "4  Je peux te donner quelques suggestions de rest...   \n",
       "\n",
       "                      action  vector_0  vector_1  vector_2  vector_3  \\\n",
       "0  recommander un restaurant  3.195649  5.975437  2.339336  2.654635   \n",
       "1  recommander un restaurant  0.899595  6.183401  1.536693 -5.604234   \n",
       "2  recommander un restaurant  2.545759  4.862766  3.900639 -2.304713   \n",
       "3  recommander un restaurant  2.783970  8.124847  2.899334 -3.157313   \n",
       "4  recommander un restaurant  1.160293  7.010397  2.897872  0.111909   \n",
       "\n",
       "   vector_4   vector_5  vector_6  vector_7  ...  vector_4086  vector_4087  \\\n",
       "0  7.976059  -9.847315  5.963101  4.640450  ...    -1.427161    -3.628849   \n",
       "1  5.725537 -11.313480  0.849523  2.007109  ...    -1.873214    -0.612927   \n",
       "2  7.611195  -8.304035  4.323432  4.728627  ...    -1.209677    -2.308054   \n",
       "3  6.752358  -9.160266  5.126987  5.307425  ...    -0.797170    -1.084782   \n",
       "4  7.968406 -10.773114  6.647258  3.859992  ...    -3.362885    -3.396346   \n",
       "\n",
       "   vector_4088  vector_4089  vector_4090  vector_4091  vector_4092  \\\n",
       "0    -3.458888    11.523420     3.131397    23.263723    -0.539653   \n",
       "1     0.090203    11.635771     2.622334    28.380095     3.252810   \n",
       "2    -1.628266     8.256981     3.374861    32.170013     0.912759   \n",
       "3    -0.539555     6.136744     2.358043    28.764536     1.409307   \n",
       "4    -5.933163    18.584812     4.620731    29.899702    -2.493897   \n",
       "\n",
       "   vector_4093  vector_4094  vector_4095  \n",
       "0    -7.062226    -1.507171    -4.527781  \n",
       "1     4.249798     0.769276    -3.076949  \n",
       "2     0.475790     0.768288    -0.556803  \n",
       "3    -1.497352     1.735198    -0.567623  \n",
       "4    -8.485485    -0.891420    -3.921796  \n",
       "\n",
       "[5 rows x 4098 columns]"
      ]
     },
     "execution_count": 6,
     "metadata": {},
     "output_type": "execute_result"
    }
   ],
   "source": [
    "# load the vector_action_df\n",
    "vector_action_df = pd.read_csv(f\"df_csv/vector_action_df_{embedding.__class__.__name__}_{model_name}.csv\", header=0)\n",
    "\n",
    "vector_action_df.head()"
   ]
  },
  {
   "cell_type": "code",
   "execution_count": 7,
   "metadata": {},
   "outputs": [],
   "source": [
    "y = vector_action_df[\"action\"]\n",
    "X = vector_action_df.drop(columns=[\"assistant_sentence\", \"action\"])"
   ]
  },
  {
   "cell_type": "code",
   "execution_count": 8,
   "metadata": {},
   "outputs": [],
   "source": [
    "X_train, X_test, y_train, y_test = train_test_split(X, y, test_size=0.25, random_state=42)\n",
    "# adjusting the class \n",
    "sample_weights = y_train.value_counts(normalize=True).to_dict()"
   ]
  },
  {
   "cell_type": "code",
   "execution_count": 17,
   "metadata": {},
   "outputs": [],
   "source": [
    "clf = RandomForestClassifier\n",
    "method = \"RandomForest\"\n",
    "\n",
    "def results_classif():\n",
    "    y_pred = clf.predict(X_test)\n",
    "\n",
    "    labels = y.unique()\n",
    "\n",
    "    accuracy = accuracy_score(y_test, y_pred)\n",
    "    print(f\"Accuracy: {accuracy}\")\n",
    "    precision = precision_score(y_test, y_pred, average='weighted', zero_division=0)\n",
    "    print(f\"Precision: {precision}\")\n",
    "    recall = recall_score(y_test, y_pred, average='weighted')\n",
    "    print(f\"Recall: {recall}\")\n",
    "    f1 = f1_score(y_test, y_pred, average='weighted')\n",
    "    print(f\"F1: {f1}\")\n",
    "\n",
    "    plot_confusion_matrix(y_test, y_pred, labels)\n",
    "\n",
    "    plt.savefig(f\"plots/confusion_matrix_{method}_{embedding.__class__.__name__}_{model_name}.png\")\n",
    "    plt.show()\n",
    "\n",
    "    comparision_scores_df = pd.read_csv(\"df_csv/comparision_scores.csv\")\n",
    "\n",
    "    new_row = {\n",
    "        \"method\"    : method, \n",
    "        \"embedding\" : embedding.__class__.__name__, \n",
    "        \"model\"     : model_name, \n",
    "        \"test_len\"  : len(y_test),\n",
    "        \"accuracy\"  : accuracy, \n",
    "        \"precision\" : precision, \n",
    "        \"recall\"    : recall, \n",
    "        \"f1_score\"  : f1\n",
    "        }\n",
    "    \n",
    "    comparision_scores_df = comparision_scores_df[~(\n",
    "        (comparision_scores_df[\"method\"] == method) &\n",
    "        (comparision_scores_df[\"embedding\"] == embedding.__class__.__name__) &\n",
    "        (comparision_scores_df[\"model\"] == model_name) &\n",
    "        (comparision_scores_df[\"test_len\"] == len(y_test))\n",
    "        )]\n",
    "    \n",
    "    comparision_scores_df = pd.concat([comparision_scores_df, pd.DataFrame([new_row])], ignore_index=True)\n",
    "\n",
    "    comparision_scores_df.to_csv(\"df_csv/comparision_scores.csv\", index=False)"
   ]
  },
  {
   "cell_type": "markdown",
   "metadata": {},
   "source": [
    "### Random Forest Classifier"
   ]
  },
  {
   "cell_type": "code",
   "execution_count": 18,
   "metadata": {},
   "outputs": [
    {
     "name": "stdout",
     "output_type": "stream",
     "text": [
      "Accuracy: 0.97\n",
      "Precision: 0.9742857142857143\n",
      "Recall: 0.97\n",
      "F1: 0.9676923076923077\n"
     ]
    }
   ],
   "source": [
    "clf = RandomForestClassifier(random_state=42, class_weight=sample_weights)\n",
    "clf.fit(X_train, y_train)\n",
    "\n",
    "method = \"RandomForest4096\"\n",
    "\n",
    "results_classif()"
   ]
  },
  {
   "cell_type": "markdown",
   "metadata": {},
   "source": [
    "### SVM Classifier"
   ]
  },
  {
   "cell_type": "code",
   "execution_count": 86,
   "metadata": {},
   "outputs": [
    {
     "name": "stdout",
     "output_type": "stream",
     "text": [
      "Accuracy: 0.68\n",
      "Precision: 0.6488367983367983\n",
      "Recall: 0.68\n",
      "F1: 0.626108338972855\n"
     ]
    },
    {
     "data": {
      "image/png": "[encoded data removed]",
      "text/plain": [
       "<Figure size 640x480 with 1 Axes>"
      ]
     },
     "metadata": {},
     "output_type": "display_data"
    }
   ],
   "source": [
    "clf = SVC(random_state=42, kernel='poly', C=1, class_weight=sample_weights)\n",
    "clf.fit(X_train, y_train)\n",
    "\n",
    "method = \"SVC4096\"\n",
    "\n",
    "results_classif()"
   ]
  },
  {
   "cell_type": "markdown",
   "metadata": {},
   "source": [
    "### KNN Classifier"
   ]
  },
  {
   "cell_type": "code",
   "execution_count": 16,
   "metadata": {},
   "outputs": [
    {
     "ename": "NameError",
     "evalue": "name 'results_classif' is not defined",
     "output_type": "error",
     "traceback": [
      "\u001b[1;31m---------------------------------------------------------------------------\u001b[0m",
      "\u001b[1;31mNameError\u001b[0m                                 Traceback (most recent call last)",
      "Cell \u001b[1;32mIn[16], line 6\u001b[0m\n\u001b[0;32m      2\u001b[0m clf\u001b[38;5;241m.\u001b[39mfit(X_train, y_train)\n\u001b[0;32m      4\u001b[0m method \u001b[38;5;241m=\u001b[39m \u001b[38;5;124m\"\u001b[39m\u001b[38;5;124mKNN4096\u001b[39m\u001b[38;5;124m\"\u001b[39m\n\u001b[1;32m----> 6\u001b[0m \u001b[43mresults_classif\u001b[49m()\n",
      "\u001b[1;31mNameError\u001b[0m: name 'results_classif' is not defined"
     ]
    }
   ],
   "source": [
    "clf = KNeighborsClassifier(n_neighbors=3)\n",
    "clf.fit(X_train, y_train)\n",
    "\n",
    "method = \"KNN4096\"\n",
    "\n",
    "results_classif()"
   ]
  },
  {
   "cell_type": "code",
   "execution_count": 88,
   "metadata": {},
   "outputs": [
    {
     "name": "stdout",
     "output_type": "stream",
     "text": [
      "Prediction: dire bonjour\n"
     ]
    },
    {
     "name": "stderr",
     "output_type": "stream",
     "text": [
      "C:\\Users\\echriston\\AppData\\Roaming\\Python\\Python311\\site-packages\\sklearn\\base.py:493: UserWarning: X does not have valid feature names, but KNeighborsClassifier was fitted with feature names\n",
      "  warnings.warn(\n"
     ]
    }
   ],
   "source": [
    "query = \"\"\"ah ah ah ah.\"\"\"\n",
    "x = embedding_func(query)\n",
    "y_pred = clf.predict([x])\n",
    "\n",
    "print(f\"Prediction: {y_pred[0]}\")"
   ]
  },
  {
   "cell_type": "markdown",
   "metadata": {},
   "source": [
    "### with PCA"
   ]
  },
  {
   "cell_type": "code",
   "execution_count": 15,
   "metadata": {},
   "outputs": [
    {
     "name": "stderr",
     "output_type": "stream",
     "text": [
      "C:\\Users\\echriston\\AppData\\Local\\Temp\\ipykernel_11216\\339793435.py:13: FutureWarning: Downcasting behavior in `replace` is deprecated and will be removed in a future version. To retain the old behavior, explicitly call `result.infer_objects(copy=False)`. To opt-in to the future behavior, set `pd.set_option('future.no_silent_downcasting', True)`\n",
      "  y_num = y.replace({label: i for i, label in enumerate(labels)})\n"
     ]
    },
    {
     "name": "stdout",
     "output_type": "stream",
     "text": [
      "SHAPES\n",
      "X     : (400, 4096)\n",
      "X_pca : (400, 140)\n"
     ]
    }
   ],
   "source": [
    "# let's preprocess X doing a PCA\n",
    "from sklearn.decomposition import PCA\n",
    "from sklearn.preprocessing import StandardScaler\n",
    "\n",
    "\n",
    "pca = PCA(n_components=140)\n",
    "X_normalized = StandardScaler().fit_transform(X)\n",
    "X_pca = pca.fit_transform(X_normalized)\n",
    "\n",
    "labels = y.unique()\n",
    "\n",
    "\n",
    "y_num = y.replace({label: i for i, label in enumerate(labels)})\n",
    "\n",
    "# shapes\n",
    "print(\"SHAPES\")\n",
    "print(f\"X     : {X.shape}\")\n",
    "print(f\"X_pca : {X_pca.shape}\")\n",
    "\n",
    "plt.figure(figsize=(10, 10))\n",
    "# 3D plot with the first 3 components\n",
    "ax = plt.axes(projection='3d')\n",
    "for i, label in enumerate(labels):\n",
    "    if label not in [\"dire bonjour\", \"dire au revoir\", \"envoyer un mail\"]:\n",
    "        continue\n",
    "    ax.scatter3D(X_pca[y_num == i, 0], X_pca[y_num == i, 1], X_pca[y_num == i, 2], label=label, s=60)\n",
    "ax.set_xlabel('PCA 1')\n",
    "ax.set_ylabel('PCA 2')\n",
    "ax.set_zlabel('PCA 3')\n",
    "# legend\n",
    "plt.legend()\n",
    "\n",
    "\n",
    "plt.title('PCA of the data')\n",
    "plt.show()"
   ]
  },
  {
   "cell_type": "code",
   "execution_count": 78,
   "metadata": {},
   "outputs": [
    {
     "name": "stdout",
     "output_type": "stream",
     "text": [
      "Accuracy: 0.92\n",
      "Precision: 0.9275238095238094\n",
      "Recall: 0.92\n",
      "F1: 0.9188131064337961\n"
     ]
    },
    {
     "data": {
      "image/png": "[encoded data removed]",
      "text/plain": [
       "<Figure size 640x480 with 1 Axes>"
      ]
     },
     "metadata": {},
     "output_type": "display_data"
    }
   ],
   "source": [
    "# new train test split\n",
    "X_train, X_test, y_train, y_test = train_test_split(X_pca, y, test_size=0.25, random_state=42)\n",
    "\n",
    "# adjusting the class\n",
    "sample_weights = y.value_counts(normalize=True).to_dict()\n",
    "\n",
    "clf = RandomForestClassifier(random_state=42, class_weight=sample_weights)\n",
    "clf.fit(X_train, y_train)\n",
    "\n",
    "y_pred = clf.predict(X_test)\n",
    "\n",
    "labels = y.unique()\n",
    "\n",
    "print(f\"Accuracy: {accuracy_score(y_test, y_pred)}\")\n",
    "print(f\"Precision: {precision_score(y_test, y_pred, average='weighted', zero_division=0)}\")\n",
    "print(f\"Recall: {recall_score(y_test, y_pred, average='weighted')}\")\n",
    "print(f\"F1: {f1_score(y_test, y_pred, average='weighted')}\")\n",
    "plot_confusion_matrix(y_test, y_pred, labels)"
   ]
  },
  {
   "cell_type": "markdown",
   "metadata": {},
   "source": [
    "## Results"
   ]
  },
  {
   "cell_type": "code",
   "execution_count": 102,
   "metadata": {},
   "outputs": [
    {
     "data": {
      "text/html": [
       "<div>\n",
       "<style scoped>\n",
       "    .dataframe tbody tr th:only-of-type {\n",
       "        vertical-align: middle;\n",
       "    }\n",
       "\n",
       "    .dataframe tbody tr th {\n",
       "        vertical-align: top;\n",
       "    }\n",
       "\n",
       "    .dataframe thead th {\n",
       "        text-align: right;\n",
       "    }\n",
       "</style>\n",
       "<table border=\"1\" class=\"dataframe\">\n",
       "  <thead>\n",
       "    <tr style=\"text-align: right;\">\n",
       "      <th></th>\n",
       "      <th>method</th>\n",
       "      <th>embedding</th>\n",
       "      <th>model</th>\n",
       "      <th>test_len</th>\n",
       "      <th>accuracy</th>\n",
       "      <th>precision</th>\n",
       "      <th>recall</th>\n",
       "      <th>f1_score</th>\n",
       "    </tr>\n",
       "  </thead>\n",
       "  <tbody>\n",
       "    <tr>\n",
       "      <th>0</th>\n",
       "      <td>RandomForest4096</td>\n",
       "      <td>Ollama</td>\n",
       "      <td>openhermes</td>\n",
       "      <td>100</td>\n",
       "      <td>0.98</td>\n",
       "      <td>0.980556</td>\n",
       "      <td>0.98</td>\n",
       "      <td>0.980000</td>\n",
       "    </tr>\n",
       "    <tr>\n",
       "      <th>1</th>\n",
       "      <td>RandomForest4096</td>\n",
       "      <td>Ollama</td>\n",
       "      <td>vigostral</td>\n",
       "      <td>100</td>\n",
       "      <td>0.97</td>\n",
       "      <td>0.974286</td>\n",
       "      <td>0.97</td>\n",
       "      <td>0.967692</td>\n",
       "    </tr>\n",
       "    <tr>\n",
       "      <th>2</th>\n",
       "      <td>RandomForest4096</td>\n",
       "      <td>Ollama</td>\n",
       "      <td>openchat</td>\n",
       "      <td>100</td>\n",
       "      <td>0.96</td>\n",
       "      <td>0.960950</td>\n",
       "      <td>0.96</td>\n",
       "      <td>0.960171</td>\n",
       "    </tr>\n",
       "    <tr>\n",
       "      <th>3</th>\n",
       "      <td>KNN4096</td>\n",
       "      <td>Ollama</td>\n",
       "      <td>vigostral</td>\n",
       "      <td>100</td>\n",
       "      <td>0.95</td>\n",
       "      <td>0.950436</td>\n",
       "      <td>0.95</td>\n",
       "      <td>0.948499</td>\n",
       "    </tr>\n",
       "    <tr>\n",
       "      <th>4</th>\n",
       "      <td>RandomForest4096</td>\n",
       "      <td>Ollama</td>\n",
       "      <td>llama3</td>\n",
       "      <td>100</td>\n",
       "      <td>0.94</td>\n",
       "      <td>0.942436</td>\n",
       "      <td>0.94</td>\n",
       "      <td>0.940429</td>\n",
       "    </tr>\n",
       "    <tr>\n",
       "      <th>5</th>\n",
       "      <td>KNN4096</td>\n",
       "      <td>Ollama</td>\n",
       "      <td>openchat</td>\n",
       "      <td>100</td>\n",
       "      <td>0.94</td>\n",
       "      <td>0.941944</td>\n",
       "      <td>0.94</td>\n",
       "      <td>0.940161</td>\n",
       "    </tr>\n",
       "    <tr>\n",
       "      <th>6</th>\n",
       "      <td>RandomForest4096</td>\n",
       "      <td>Ollama</td>\n",
       "      <td>mistral</td>\n",
       "      <td>100</td>\n",
       "      <td>0.94</td>\n",
       "      <td>0.941608</td>\n",
       "      <td>0.94</td>\n",
       "      <td>0.939977</td>\n",
       "    </tr>\n",
       "    <tr>\n",
       "      <th>7</th>\n",
       "      <td>KNN4096</td>\n",
       "      <td>Ollama</td>\n",
       "      <td>openhermes</td>\n",
       "      <td>100</td>\n",
       "      <td>0.93</td>\n",
       "      <td>0.938452</td>\n",
       "      <td>0.93</td>\n",
       "      <td>0.930474</td>\n",
       "    </tr>\n",
       "    <tr>\n",
       "      <th>8</th>\n",
       "      <td>RandomForest4096</td>\n",
       "      <td>Ollama</td>\n",
       "      <td>llama2</td>\n",
       "      <td>100</td>\n",
       "      <td>0.91</td>\n",
       "      <td>0.914843</td>\n",
       "      <td>0.91</td>\n",
       "      <td>0.908160</td>\n",
       "    </tr>\n",
       "    <tr>\n",
       "      <th>9</th>\n",
       "      <td>SVC4096</td>\n",
       "      <td>Ollama</td>\n",
       "      <td>vigostral</td>\n",
       "      <td>100</td>\n",
       "      <td>0.68</td>\n",
       "      <td>0.648837</td>\n",
       "      <td>0.68</td>\n",
       "      <td>0.626108</td>\n",
       "    </tr>\n",
       "  </tbody>\n",
       "</table>\n",
       "</div>"
      ],
      "text/plain": [
       "             method embedding       model  test_len  accuracy  precision  \\\n",
       "0  RandomForest4096    Ollama  openhermes       100      0.98   0.980556   \n",
       "1  RandomForest4096    Ollama   vigostral       100      0.97   0.974286   \n",
       "2  RandomForest4096    Ollama    openchat       100      0.96   0.960950   \n",
       "3           KNN4096    Ollama   vigostral       100      0.95   0.950436   \n",
       "4  RandomForest4096    Ollama      llama3       100      0.94   0.942436   \n",
       "5           KNN4096    Ollama    openchat       100      0.94   0.941944   \n",
       "6  RandomForest4096    Ollama     mistral       100      0.94   0.941608   \n",
       "7           KNN4096    Ollama  openhermes       100      0.93   0.938452   \n",
       "8  RandomForest4096    Ollama      llama2       100      0.91   0.914843   \n",
       "9           SVC4096    Ollama   vigostral       100      0.68   0.648837   \n",
       "\n",
       "   recall  f1_score  \n",
       "0    0.98  0.980000  \n",
       "1    0.97  0.967692  \n",
       "2    0.96  0.960171  \n",
       "3    0.95  0.948499  \n",
       "4    0.94  0.940429  \n",
       "5    0.94  0.940161  \n",
       "6    0.94  0.939977  \n",
       "7    0.93  0.930474  \n",
       "8    0.91  0.908160  \n",
       "9    0.68  0.626108  "
      ]
     },
     "execution_count": 102,
     "metadata": {},
     "output_type": "execute_result"
    }
   ],
   "source": [
    "# load comparision_scores_df\n",
    "comparision_scores_df = pd.read_csv(\"df_csv/comparision_scores.csv\")\n",
    "\n",
    "# replace embedding \"NoneType\" with \"Ollama\"\n",
    "comparision_scores_df[\"embedding\"] = comparision_scores_df[\"embedding\"].replace(\"NoneType\", \"Ollama\")\n",
    "\n",
    "# sort by f1_score\n",
    "comparision_scores_df = comparision_scores_df.sort_values(by=\"f1_score\", ascending=False)\n",
    "\n",
    "# save the comparision_scores_df\n",
    "comparision_scores_df.to_csv(\"df_csv/comparision_scores.csv\", index=False)\n",
    "\n",
    "comparision_scores_df.head(10)"
   ]
  }
 ],
 "metadata": {
  "kernelspec": {
   "display_name": "Python 3",
   "language": "python",
   "name": "python3"
  },
  "language_info": {
   "codemirror_mode": {
    "name": "ipython",
    "version": 3
   },
   "file_extension": ".py",
   "mimetype": "text/x-python",
   "name": "python",
   "nbconvert_exporter": "python",
   "pygments_lexer": "ipython3",
   "version": "3.11.8"
  }
 },
 "nbformat": 4,
 "nbformat_minor": 2
}
