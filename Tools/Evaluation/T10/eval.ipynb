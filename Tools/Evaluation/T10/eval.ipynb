{
 "cells": [
  {
   "cell_type": "code",
   "execution_count": 114,
   "metadata": {},
   "outputs": [],
   "source": [
    "import numpy as np\n",
    "from numpy.linalg import norm\n",
    "import ollama\n",
    "import os\n",
    "import json"
   ]
  },
  {
   "cell_type": "markdown",
   "metadata": {},
   "source": [
    "link to video reference: https://www.youtube.com/watch?v=V1Mz8gMBDMo"
   ]
  },
  {
   "cell_type": "code",
   "execution_count": 115,
   "metadata": {},
   "outputs": [],
   "source": [
    "def parse_file(filename):\n",
    "    with open(filename, encoding='utf-8-sig') as f:\n",
    "        paragraphs = []\n",
    "        buffer = []\n",
    "        for line in f.readlines():\n",
    "            line = line.strip()\n",
    "            if line:\n",
    "                buffer.append(line)\n",
    "            elif len(buffer):\n",
    "                paragraphs.append(\" \".join(buffer))\n",
    "                buffer = []\n",
    "        if len(buffer):\n",
    "            paragraphs.append(\" \".join(buffer))\n",
    "    return paragraphs\n",
    "\n",
    "def save_embeddings(filename, embeddings):\n",
    "    # create directory if not exists\n",
    "    if not os.path.exists(\"embeddings\"):\n",
    "        os.makedirs(\"embeddings\")\n",
    "    # dump embedding to json file\n",
    "    with open(f\"embeddings/{filename}.json\", 'w') as f:\n",
    "        json.dump(embeddings, f)\n",
    "\n",
    "def load_embeddings(filename):\n",
    "    # check if file exists\n",
    "    if not os.path.exists(f\"embeddings/{filename}.json\"):\n",
    "        return False\n",
    "    with open(f\"embeddings/{filename}.json\", 'r') as f:\n",
    "        return json.load(f)\n",
    "\n",
    "def get_embeddings(filename, modelname, chunks):\n",
    "    # check if embeddings are already computed\n",
    "    if filename and ((embeddings := load_embeddings(filename)) is not False):\n",
    "        return embeddings\n",
    "    # compute embeddings\n",
    "    embeddings = [\n",
    "            ollama.embeddings(model=modelname, prompt=chunk)[\"embedding\"] \n",
    "            for chunk in chunks\n",
    "        ]\n",
    "    # save embeddings\n",
    "    if filename:\n",
    "        save_embeddings(filename, embeddings)\n",
    "    return embeddings\n",
    "\n",
    "def find_most_similar(needle, haystack, sort=True):\n",
    "    needle_norm = norm(needle)\n",
    "    similarity_scores = [\n",
    "        np.dot(needle, item) / (needle_norm * norm(item))\n",
    "        for item in haystack\n",
    "    ]\n",
    "    if not sort:\n",
    "        return zip(similarity_scores, range(len(haystack)))\n",
    "    return sorted(zip(similarity_scores, range(len(haystack))), reverse=True)\n",
    "\n",
    "def parse_response_llm(response):\n",
    "    # split each line, then, take the text after the number and the dot (e.g. \"1. \") or the number and the space (e.g. \"1 \") or the number and the parenthesis (e.g. \"1) \")\n",
    "    result = []\n",
    "    separators = [\". \", \": \", \") \", \".\", \":\", \")\"]\n",
    "    for line_raw in response.split(\"\\n\"):\n",
    "        line = line_raw.strip()\n",
    "        if line:\n",
    "            for sep in separators:\n",
    "                if sep in line:\n",
    "                    result.append(line.split(sep)[1])\n",
    "                    break\n",
    "    return result"
   ]
  },
  {
   "cell_type": "code",
   "execution_count": 221,
   "metadata": {},
   "outputs": [],
   "source": [
    "filenames = ['pacte_novation_2.txt', 'jeux_olympiques_paris.txt']\n",
    "modelname = \"mistral\""
   ]
  },
  {
   "cell_type": "markdown",
   "metadata": {},
   "source": [
    "### get the document embeddings"
   ]
  },
  {
   "cell_type": "code",
   "execution_count": 227,
   "metadata": {},
   "outputs": [],
   "source": [
    "embeddings = []\n",
    "paragraphs = []\n",
    "\n",
    "for filename in filenames:\n",
    "    paragraphs += parse_file(filename)\n",
    "    embeddings += get_embeddings(filename, modelname, paragraphs)"
   ]
  },
  {
   "cell_type": "markdown",
   "metadata": {},
   "source": [
    "### Prompt = query"
   ]
  },
  {
   "cell_type": "code",
   "execution_count": 228,
   "metadata": {},
   "outputs": [],
   "source": [
    "prompt = \"Comment travailler à Pacte Novation ?\"\n",
    "queries = [prompt]"
   ]
  },
  {
   "cell_type": "markdown",
   "metadata": {},
   "source": [
    "### Query expansion"
   ]
  },
  {
   "cell_type": "code",
   "execution_count": 229,
   "metadata": {},
   "outputs": [
    {
     "name": "stdout",
     "output_type": "stream",
     "text": [
      "Comment travailler à Pacte Novation ?\n",
      "Comment réaliser une novation de contrat avec Pacte ?\n",
      "Quels sont les étapes de processus pour effectuer une novation de contrat auprès de Pacte ?\n",
      "En quelles circonstances et comment peut-on faire une modification d'un accord avec Pacte ?\n",
      "Comment procéder à l'application d'une nouvelle disposition dans un contrat existant avec Pacte ?\n",
      "Quels sont les modalités de modification d'un accord en vigueur avec Pacte : comment fonctionne la novation ?\n"
     ]
    }
   ],
   "source": [
    "SYSTEM_PROMPT = \"\"\"Vous êtes un assistant de modèle linguistique d'IA. Votre tâche consiste à générer cinq versions françaises différentes de la question donnée par l'utilisateur afin d'extraire les documents pertinents d'une base de données vectorielle. \n",
    "En générant des perspectives multiples sur la question de l'utilisateur, votre objectif est d'aider l'utilisateur à surmonter certaines limites de la recherche de similarité basée sur la distance.\n",
    "l'utilisateur à surmonter certaines des limites de la recherche de similarité basée sur la distance. \n",
    "Fournissez ces questions alternatives séparées par des nouvelles lignes.\n",
    "\"\"\"\n",
    "\n",
    "response = ollama.chat(\n",
    "    model=modelname,\n",
    "    messages=[\n",
    "        {\n",
    "            \"role\": \"system\",\n",
    "            \"content\": SYSTEM_PROMPT,\n",
    "        },\n",
    "        {\"role\": \"user\", \"content\": \"Question originale : \" + prompt},\n",
    "    ],\n",
    ")\n",
    "\n",
    "queries = [prompt] + parse_response_llm(response[\"message\"][\"content\"])\n",
    "\n",
    "print(\"\\n\".join(queries))"
   ]
  },
  {
   "cell_type": "markdown",
   "metadata": {},
   "source": [
    "### get the query embeddings"
   ]
  },
  {
   "cell_type": "code",
   "execution_count": 230,
   "metadata": {},
   "outputs": [],
   "source": [
    "queries_embeddings = get_embeddings(None, modelname, queries)"
   ]
  },
  {
   "cell_type": "markdown",
   "metadata": {},
   "source": [
    "### calculate the cosine similarity between the queries and the documents"
   ]
  },
  {
   "cell_type": "code",
   "execution_count": 231,
   "metadata": {},
   "outputs": [
    {
     "name": "stdout",
     "output_type": "stream",
     "text": [
      "Score: 0.67\n",
      "Le 7 février 2018, un changement dans le calendrier est annoncé. Les JO, qui devaient initialement se dérouler du 2 au 18 août, sont avancés d'une semaine pour des raisons d'organisation. Ils se tiendront finalement du 26 juillet au 11 août 2024.\n",
      "\n",
      "Score: 0.64\n",
      "Il existe également un jeu concours où les participants ont un objectif de totaliser plus de 100 000 points en réalisant du sport quotidiennement avec un tirage final le 31 décembre 2023 pour attribuer les dossards.\n",
      "\n",
      "Score: 0.63\n",
      "En complément, Assigraph International, notre partenaire éditeur de logiciels, apporte une expertise reconnue dans les outils de CAO dédiés aux métiers de la schématique. Par ailleurs, notre organisme de formation, Adalog, se spécialise dans le langage Ada, renforçant ainsi nos compétences internes et externes.\n",
      "\n",
      "Score: 0.63\n",
      "Épreuves grand public Le comité d'organisation a souhaité créer des épreuves ouvertes au public qui se dérouleraient dans les mêmes conditions que le haut niveau. C'est déjà le cas avec le Tour de France qui organise « L'Étape du tour », où les cyclistes amateurs peuvent courir sur le tracé officiel d'une étape une journée avant les professionnels.\n",
      "\n",
      "Score: 0.61\n",
      "Le 9 juin 2017, le bureau exécutif du Comité international olympique adopte à l'unanimité la recommandation du président Thomas Bach en faveur d'un double vote à Lima le 13 septembre, pour désigner les villes-hôtes des Jeux olympiques 2024 et 2028, soit Paris et Los Angeles dans un ordre qui reste à définir. Le 11 juillet 2017, lors d'une session extraordinaire à Lausanne où les deux villes présentent leurs projets, la centaine de membres du CIO approuvent cette décision, sans surprise. Le 31 juillet, le CIO annonce qu'il est parvenu à un accord avec la ville californienne pour qu'elle organise l'édition 20284, Paris restant seul en lice pour l'organisation des Jeux olympiques de 2024. Le 13 septembre 2017, les membres du CIO votent à l'unanimité et à main levée en faveur de l'attribution des Jeux d'été 2024 à Paris et de ceux de 2028 à Los Angeles1.\n",
      "\n",
      "Score: 0.60\n",
      "La procédure des sports additionnels a lieu début 2019. Il était requis des sports demandant peu d'athlètes, pas d'infrastructures supplémentaires et populaires auprès des jeunes. Les sports choisis sont le surf, le skateboard, l'escalade, le basket-ball 3x3 et le breakdance. Ces épreuves seraient organisées sur le même site place de la Concorde dans une arène de 35 000 places, qui devrait aussi accueillir des concerts et des animations. Il n'est pas prévu d'en rajouter d'autres malgré les demandes répétées du karaté et du squash.\n",
      "\n",
      "Score: 0.60\n",
      "Le Groupe PACTE NOVATION est une société anonyme cotée en bourse sur le Marché Libre d’Euronext Paris depuis novembre 2000, avec une participation de 7% de son capital en bourse, le reste étant détenu par le dirigeant, des proches et des cadres de la société. Notre code ISIN est FR0000077992 et notre code SICOVAM est 7799. Lors de notre dernière Assemblée Générale en septembre 2023, nous avons approuvé des comptes annuels avec un chiffre d’affaires consolidé de 8 305 121 euros et un résultat consolidé de 32 473 euros.\n",
      "\n",
      "Score: 0.60\n",
      "En 2020, une étape importante a été franchie avec l'obtention de la certification CMMI niveau 3 et la certification Qualité ISO 9001-2015 délivrée par Bureau Veritas. Ces certifications témoignent de notre engagement envers l'excellence opérationnelle et la satisfaction client.\n",
      "\n",
      "Score: 0.60\n",
      "Novasys Ingénierie se concentre sur les systèmes distribués en temps réel, couvrant les systèmes embarqués, industriels et de communication. Cette spécialisation nous permet de répondre aux exigences les plus élevées en matière de temps réel, de sécurité et de disponibilité dans les systèmes d'information.\n",
      "\n",
      "Score: 0.59\n",
      "Nous publions régulièrement des rapports annuels pour informer nos parties prenantes sur nos activités et nos performances. Notre engagement envers la transparence se reflète dans nos rapports annuels des années précédentes, disponibles pour consultation.\n",
      "\n",
      "Score: 0.59\n",
      "Le CNO de l'Angola est également sous la menace d'une suspension suite à une décision de non-conformité émise début 2024 par la Agence mondiale antidopage.\n",
      "\n",
      "Score: 0.59\n",
      "Fort de notre expérience et de notre expertise diversifiée, le Groupe PACTE NOVATION est résolument tourné vers l'avenir, affirmant notre position en tant que partenaire de confiance pour les entreprises, des PME aux grands groupes, dans leur transformation numérique et leurs projets technologiques.\n",
      "\n",
      "Score: 0.58\n",
      "Nous nous engageons à maintenir des normes élevées de qualité et de performance, comme en témoignent nos certifications CMMI niveau 3 et ISO 9001-2015. Ces normes nous permettent de gérer, concevoir, développer et maintenir des logiciels applicatifs conformément aux meilleures pratiques de développement, assurant ainsi la satisfaction de nos clients.\n",
      "\n",
      "Score: 0.58\n",
      "En date du 4 juillet 2023, 90 nations se sont déjà qualifiées.\n",
      "\n",
      "Score: 0.58\n",
      "Pacte Novation, en tant qu'entreprise de services numériques généraliste basée à Paris, offre une large gamme de solutions répondant à une variété de demandes dans des secteurs tels que le transport, la finance, l'énergie et les services publics, ainsi que le ferroviaire. Nos compétences s'étendent du conseil à l'intégration et au développement sur mesure, nous permettant d'assurer des engagements flexibles pour nos clients.\n",
      "\n",
      "Score: 0.57\n",
      "En ce qui concerne notre équipe dirigeante, elle est dirigée par M. Christian TORA, fondateur et Président du Groupe, accompagné de professionnels expérimentés dans les domaines technique, administratif, financier, commercial et scientifique. Chaque membre de notre équipe dirigeante contribue à garantir la réussite de nos projets et au bien-être de nos collaborateurs.\n",
      "\n",
      "Score: 0.56\n",
      "Depuis plus de 28 ans, nous sommes engagés à vous accompagner dans la réalisation de vos projets informatiques. En tant qu'entreprise de services numériques, notre objectif principal est de mettre à votre disposition notre expertise reconnue dans divers domaines technologiques tels que l'ingénierie logicielle, l'intelligence artificielle et les systèmes d'information ferroviaires, ainsi que le développement d'applications métier complexes.\n",
      "\n",
      "Score: 0.56\n",
      "En résumé, le Groupe PACTE NOVATION s'affirme comme un acteur majeur dans le domaine des services et du conseil en informatique, offrant à ses clients une expertise solide, une transparence totale et un engagement envers l'excellence opérationnelle.\n",
      "\n",
      "Score: 0.56\n",
      "À six mois des jeux, le Comité olympique guatémaltèque était toujours suspendu par le CIO suite à une décision du 8 septembre 2022, ceci empêchant les athlètes à concourir sous le drapeau/nom du pays aux Jeux olympiques. Le président Thomas Bach a accueilli fin février Bernardo Arévalo pour trouver une solution pour la réintégration le CNO. En mars 2024, la commission exécutive du CIO lève provisoirement la suspension du CNO.\n",
      "\n",
      "Score: 0.55\n",
      "Fondé en 1994 par M. TORA, notre groupe a connu une croissance constante au fil des ans, dépassant des jalons significatifs tels que la cotation en bourse en 2001 et l'acquisition de sociétés telles qu'Assigraph International et Adalog. Dirigées par une équipe expérimentée et dévouée, nos différentes entités travaillent ensemble pour assurer le bien-être de nos collaborateurs et la réussite de nos projets.\n",
      "\n",
      "Score: 0.55\n",
      "Le premier événement annoncé est le marathon pour tous. Pour pouvoir y participer, plusieurs événements sont organisés pour obtenir un dossard comme le défi organisé le 31 octobre 2021 de concourir contre le champion Eliud Kipchoge sur une distance de 5 km ; le Kényan est parti après les 3 500 participants ; mille coureurs ont franchi la ligne d'arrivée avant le champion olympique.\n",
      "\n",
      "Score: 0.55\n",
      "Pour toute demande de contact ou de renseignement, vous pouvez nous joindre au 01 45 29 06 06 ou nous rendre visite à notre siège social situé au 2 rue du Docteur Lombard à Issy-les-Moulineaux.\n",
      "\n",
      "Score: 0.54\n",
      "Une épreuve cycliste ouverte à tous est également prévue.\n",
      "\n",
      "Score: 0.54\n",
      "Avec une équipe de plus de 100 collaborateurs dédiés à la satisfaction de nos clients, nous nous positionnons comme des experts en développement informatique, répondant de manière proactive à vos besoins spécifiques. Pour atteindre nos objectifs, notre groupe est organisé en deux sociétés principales, Pacte Novation et Novasys Ingénierie, ainsi qu'un éditeur de logiciels, Assigraph International, et un organisme de formation, Adalog.\n",
      "\n",
      "Score: 0.53\n",
      "Les Jeux olympiques d'été de 2024, officiellement appelés les Jeux de la XXXIIIe olympiade, seront célébrés du 26 juillet au 11 août 2024 à Paris, en France. La ville est officiellement désignée lors de la 131e session du CIO à Lima, au Pérou, le 13 septembre 2017. Les villes de Hambourg, Rome et Budapest sont également en lice jusqu'à leurs retraits, respectivement les 29 novembre 2015, 11 octobre 2016 et 22 février 2017 ; et la ville de Los Angeles est simultanément désignée pour organiser les Jeux olympiques de 2028, conformément à l'accord trouvé avec le CIO, le 31 juillet 2017. Après Londres (1908, 1948 et 2012), Paris devient la deuxième ville à célébrer les Jeux olympiques d'été pour la troisième fois, à cent ans d'écart (1900, 1924 et 2024), avant que ce ne soit le tour de Los Angeles (1932, 1984 et 2028). L'événement revient à son cycle olympique traditionnel de 4 ans, après les Jeux olympiques de 2020 de Tokyo qui ont eu lieu en 2021 en raison de la pandémie de Covid-19.\n",
      "\n",
      "Score: 0.53\n",
      "Le projet « Paris 2024 » s'appuie sur 95 % de sites déjà existants ou temporaires pour un budget annoncé de 6,6 milliards d'euros. Les seules réalisations nécessaires sont un centre aquatique qui doit être construit à côté du Stade de France, une arène couverte de 7 500 places pour le basket-ball et la lutte à la porte de la Chapelle ; en outre, le village olympique sera construit à L'Île-Saint-Denis, Saint-Denis et Saint-Ouen-sur-Seine en Seine-Saint-Denis5, tandis que le village des médias sera établi à Dugny. Tony Estanguet, qui dirigeait l'équipe de candidature avec Bernard Lapasset, prend la présidence du comité d'organisation des Jeux olympiques de Paris 2024, dont le directeur général est Étienne Thobois.\n",
      "\n",
      "Score: 0.52\n",
      "en athlétisme, une épreuve de 35 km marche mixte par équipe remplace le 50 km marche hommes en athlétisme ; en canoë-kayak, deux épreuves de slalom extrême remplacent deux épreuves de sprint ; en boxe, une catégorie féminine prend la place d'une catégorie masculine ; en haltérophilie, quatre épreuves sont supprimées ; en tir, le skeet par équipes mixtes remplace le trap par équipes mixtes ; en voile, le kite en double mixte, le 470 mixte et une troisième épreuve mixte font leur apparition, tandis que le Finn et le 470 hommes et femmes sont supprimés. Finalement, en voile, le format mixte du kitesurf est abandonné au profit de deux épreuves, masculine et féminine ; la course au large, un temps imaginée, n'est pas retenue.\n",
      "\n",
      "Score: 0.52\n",
      "Participants Nations participantes Pour la première fois, le même nombre d'hommes et de femmes devrait participer aux jeux. Les places de quota sont limitées à 10 500 participants.\n",
      "\n",
      "Score: 0.51\n",
      "Les anneaux olympiques exposés place du Trocadéro en 2017 pour célébrer l'attribution des Jeux à Paris. Compte tenu des défections successives de Rome, Hambourg et Budapest, et dès le 8 décembre 2016, Thomas Bach, le président du Comité international olympique, avait réfléchi à une double attribution en expliquant « nous produisons trop de [dossiers] perdants ». Le 17 mars 2017, il confirme et émet l'hypothèse d'une attribution simultanée des JO 2024 et 2028, afin de conserver les « deux excellentes candidatures » de Paris et Los Angeles, les deux dernières villes encore en course pour l'édition 2024. Cette solution assurant donc aux deux villes d'obtenir l'organisation des Jeux olympiques, en 2024 pour l'une, en 2028 pour l'autre. Le principe de la double attribution était déjà appliqué pour les olympiades de 1896 et 1900 puis celles de 1924 et 1928. Le 13 mai 2017, le maire de Los Angeles Eric Garcetti se dit favorable à cette proposition, ajoutant : « Je sais que je n'ai pas une position orthodoxe sur la question et je sais que Paris a pu dire par le passé que c'était 2024 ou rien », n'écartant pas ainsi l'idée de voir sa ville organiser les JO 2028, afin de laisser à Paris le soin d'organiser ceux de 2024.\n",
      "\n",
      "Score: 0.51\n",
      "Villes candidates Paris, depuis le 23 juin 2015. Ville\tPays\t1er tour Paris\tDrapeau de la France France\tUnanimité Candidatures abandonnées Boston est sélectionnée le 8 janvier 2015, mais faute de soutien populaire et après le refus de son maire, la ville renonce au projet et est remplacée par Los Angeles le 27 juillet 2015. Hambourg est présentée comme candidate officiellement le 16 mars 2015 mais, à la suite d'un référendum auprès de la population le 29 novembre 2015 donnant une majorité à l'opposition à la candidature, la ville se retire. Rome, candidate officielle du 2 juillet 2015 au 21 septembre 2016. Toutefois, le Comité olympique national italien dépose la 2e partie du dossier de candidature auprès du CIO le 7 octobre puis la candidature est retirée le 11 octobre 2016. Budapest, candidature retirée le 22 février 2017, par le conseil municipal, à la suite de la campagne du mouvement de jeunes militants, « Momentum », qui revendique la collecte de 300 000 signatures contre la candidature, soit presque le double du total nécessaire pour déclencher l'organisation d'un référendum local dans la ville de 1,7 million d'habitants. Los Angeles, candidature retirée le 31 juillet 2017, se positionnant pour les Jeux olympiques d'été de 2028. Vote Le vote pour la double attribution des Jeux olympiques 2024 et 2028 à Paris et à Los Angeles a eu lieu le 13 septembre 2017, lors de la 131e session du CIO à Lima. Les membres se sont exprimés à main levée et à l'unanimité1.\n",
      "\n",
      "Score: 0.51\n",
      "Sélection de la ville hôte et double attribution des Jeux Article détaillé : Sélection des villes hôtes pour les Jeux olympiques de 2024 et 2028.\n",
      "\n",
      "Score: 0.49\n",
      "Sports au programme Disciplines officielles Le rugby et le golf, ajoutés au programme des Jeux olympiques de Rio 2016 restant maintenus pour 2020 comme pour 2024, la liste des 28 sports des Jeux de Paris doit être identique à celle des deux précédentes éditions estivales. Néanmoins, l'une des mesures de l'Agenda olympique 2020, approuvée fin 2014, déjà appliquée pour les Jeux de Tokyo, laisse aux organisateurs la possibilité de proposer de nouveaux sports de leur choix, qui doivent ensuite être approuvés par le CIO. Pour Tokyo 2020, c'est le cas du karaté, du surf, du skateboard, de l'escalade sportive et du baseball/softball. Par ailleurs, la présence de 28 sports ne définit pas à l'avance la nature ou le nombre des différentes épreuves, ni les éventuels ajouts proposés par le comité d'organisation, le programme devant être arrêté en juin 2019, lors de la session du CIO qui aura lieu à Lausanne26.\n",
      "\n",
      "Score: 0.35\n",
      "Le 7 décembre 2020, le programme est arrêté par la commission exécutive du CIO. Quatre sports additionnels sont confirmés : le surf, le skateboard, l'escalade et le breakdance (les trois premiers étant déjà au programme des Jeux de Tokyo précédents). De plus, plusieurs modifications d'épreuves sont effectuées, entraînant d'une part une réduction du quota d'athlètes nécessaire pour réduire la complexité d'organisation dans le contexte pandémique, et d'autre part une parité parfaite de ces Jeux avec autant d'hommes que de femmes engagés :\n",
      "\n"
     ]
    }
   ],
   "source": [
    "total_score_chunks = []\n",
    "\n",
    "for query, query_embedding in zip(queries, queries_embeddings):\n",
    "    chunks = find_most_similar(query_embedding, embeddings, sort=False)\n",
    "    total_score_chunks.append(chunks)\n",
    "\n",
    "len_query = len(queries)\n",
    "\n",
    "# addition of the scores of the chunks\n",
    "total_score = [0] * len(embeddings)\n",
    "for chunks in total_score_chunks:\n",
    "    for score, index in chunks:\n",
    "        total_score[index] += score / len_query\n",
    "\n",
    "# sort the chunks by the total score\n",
    "sorted_chunks = sorted(zip(total_score, range(len(embeddings))), reverse=True)\n",
    "\n",
    "for score, index in sorted_chunks:\n",
    "    print(f\"Score: {score:.2f}\")\n",
    "    print(paragraphs[index])\n",
    "    print()"
   ]
  },
  {
   "cell_type": "code",
   "execution_count": 232,
   "metadata": {},
   "outputs": [
    {
     "name": "stdout",
     "output_type": "stream",
     "text": [
      "Score: 0.67\n",
      "Le 7 février 2018, un changement dans le calendrier est annoncé. Les JO, qui devaient initialement se dérouler du 2 au 18 août, sont avancés d'une semaine pour des raisons d'organisation. Ils se tiendront finalement du 26 juillet au 11 août 2024.\n",
      "\n",
      "Score: 0.64\n",
      "Il existe également un jeu concours où les participants ont un objectif de totaliser plus de 100 000 points en réalisant du sport quotidiennement avec un tirage final le 31 décembre 2023 pour attribuer les dossards.\n",
      "\n",
      "Score: 0.63\n",
      "En complément, Assigraph International, notre partenaire éditeur de logiciels, apporte une expertise reconnue dans les outils de CAO dédiés aux métiers de la schématique. Par ailleurs, notre organisme de formation, Adalog, se spécialise dans le langage Ada, renforçant ainsi nos compétences internes et externes.\n",
      "\n",
      "Score: 0.63\n",
      "Épreuves grand public Le comité d'organisation a souhaité créer des épreuves ouvertes au public qui se dérouleraient dans les mêmes conditions que le haut niveau. C'est déjà le cas avec le Tour de France qui organise « L'Étape du tour », où les cyclistes amateurs peuvent courir sur le tracé officiel d'une étape une journée avant les professionnels.\n",
      "\n"
     ]
    }
   ],
   "source": [
    "# when score >= 0.65, we consider the document as relevant\n",
    "similar_chunks = [(score, index) for score, index in sorted_chunks if score >= 0.62]\n",
    "similar_chunks = similar_chunks[:5]\n",
    "\n",
    "for score, index in similar_chunks:\n",
    "    print(f\"Score: {score:.2f}\")\n",
    "    print(paragraphs[index])\n",
    "    print()"
   ]
  },
  {
   "cell_type": "code",
   "execution_count": null,
   "metadata": {},
   "outputs": [],
   "source": []
  }
 ],
 "metadata": {
  "kernelspec": {
   "display_name": "Python 3",
   "language": "python",
   "name": "python3"
  },
  "language_info": {
   "codemirror_mode": {
    "name": "ipython",
    "version": 3
   },
   "file_extension": ".py",
   "mimetype": "text/x-python",
   "name": "python",
   "nbconvert_exporter": "python",
   "pygments_lexer": "ipython3",
   "version": "3.11.8"
  }
 },
 "nbformat": 4,
 "nbformat_minor": 2
}
