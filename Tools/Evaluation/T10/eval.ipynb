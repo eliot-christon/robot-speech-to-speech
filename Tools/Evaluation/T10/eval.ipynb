{
 "cells": [
  {
   "cell_type": "code",
   "execution_count": 1,
   "metadata": {},
   "outputs": [],
   "source": [
    "from langchain_community.document_loaders.text import TextLoader\n",
    "from langchain_community.vectorstores.faiss import FAISS\n",
    "from langchain.embeddings.ollama import OllamaEmbeddings\n",
    "from langchain_text_splitters import RecursiveCharacterTextSplitter"
   ]
  },
  {
   "cell_type": "code",
   "execution_count": 2,
   "metadata": {},
   "outputs": [],
   "source": [
    "def pretty_print_docs(docs):\n",
    "    if isinstance(docs[0], tuple):\n",
    "        print(\n",
    "            f\"\\n{'-' * 100}\\n\".join(\n",
    "                [\n",
    "                    f\"Document {i+1}: ({d[1]})\\n\\n{d[0].page_content}\\nMetadata: {d[0].metadata}\"\n",
    "                    for i, d in enumerate(docs)\n",
    "                ]\n",
    "            )\n",
    "        )\n",
    "    else:\n",
    "        print(\n",
    "            f\"\\n{'-' * 100}\\n\".join(\n",
    "                [\n",
    "                    f\"Document {i+1}:\\n\\n{d.page_content}\\nMetadata: {d.metadata}\"\n",
    "                    for i, d in enumerate(docs)\n",
    "                ]\n",
    "            )\n",
    "        )\n",
    "\n",
    "K = 4"
   ]
  },
  {
   "cell_type": "code",
   "execution_count": 3,
   "metadata": {},
   "outputs": [],
   "source": [
    "document_name = \"nous_sommes_en_guerre.txt\"\n",
    "\n",
    "documents = TextLoader(\n",
    "    document_name, encoding=\"utf-8\"\n",
    ").load()"
   ]
  },
  {
   "cell_type": "code",
   "execution_count": 7,
   "metadata": {},
   "outputs": [],
   "source": [
    "text_splitter = RecursiveCharacterTextSplitter(chunk_size=1000, chunk_overlap=100)\n",
    "texts = text_splitter.split_documents(documents)\n",
    "for idx, text in enumerate(texts):\n",
    "    text.metadata[\"id\"] = idx\n",
    "embedding = OllamaEmbeddings(model=\"mistral\")"
   ]
  },
  {
   "cell_type": "code",
   "execution_count": 13,
   "metadata": {},
   "outputs": [],
   "source": [
    "vectordb = FAISS.from_documents(texts, embedding)\n",
    "vectordb.save_local(document_name.replace(\".txt\", \"\"))"
   ]
  },
  {
   "cell_type": "code",
   "execution_count": 12,
   "metadata": {},
   "outputs": [],
   "source": [
    "vectordb = FAISS.load_local(document_name.replace(\".txt\", \"\"), embeddings=embedding, allow_dangerous_deserialization=True)"
   ]
  },
  {
   "cell_type": "code",
   "execution_count": 10,
   "metadata": {},
   "outputs": [],
   "source": [
    "query = \"Qu'a dit le président à propos des bars et restaurants ?\""
   ]
  },
  {
   "cell_type": "code",
   "execution_count": 13,
   "metadata": {},
   "outputs": [
    {
     "name": "stdout",
     "output_type": "stream",
     "text": [
      "Document 1: (88386.0546875)\n",
      "\n",
      "Le gouvernement, dès demain, précisera toutes ces mesures. Elles seront en fonction des besoins, des réalités économiques, des nécessités secteur par secteur, évidemment adaptées. Nous serons au rendez-vous pour que notre économie soit préservée dans cette période si dure et pour que l’ensemble des travailleuses et des travailleurs puissent avoir cette sécurité aussi en termes de pouvoir d’achat, de continuité de leur vie.\n",
      "Metadata: {'source': 'nous_sommes_en_guerre.txt', 'id': 19}\n",
      "----------------------------------------------------------------------------------------------------\n",
      "Document 2: (107936.9375)\n",
      "\n",
      "Dès mercredi, en conseil des ministres, sera présenté un projet de loi permettant au gouvernement de répondre à l’urgence et, lorsque nécessaire, de légiférer par ordonnance dans les domaines relevant strictement de la gestion de crise. Ce projet sera soumis au Parlement dès jeudi. J’ai vu tout à l’heure les présidents de l’Assemblée nationale et du Sénat afin que ces textes soient votés le plus finement possible, afin aussi que la vie démocratique et le contrôle du Parlement continuent dans cette période. Je les en remercie et je remercie tous nos parlementaires en cet instant.\n",
      "Metadata: {'source': 'nous_sommes_en_guerre.txt', 'id': 12}\n",
      "----------------------------------------------------------------------------------------------------\n",
      "Document 3: (113632.828125)\n",
      "\n",
      "Mais dans le même temps, alors même que les personnels soignants des services de réanimation alertaient sur la gravité de la situation, nous avons aussi vu du monde se rassembler dans les parcs, des marchés bondés, des restaurants, des bars qui n’ont pas respecté la consigne de fermeture. Comme si, au fond, la vie n’avait pas changé.\n",
      "Metadata: {'source': 'nous_sommes_en_guerre.txt', 'id': 2}\n",
      "----------------------------------------------------------------------------------------------------\n",
      "Document 4: (114643.96875)\n",
      "\n",
      "à la hauteur du moment. Je sais, mes chers compatriotes, pouvoir compter sur vous. Vive la République ! Vive la France !\n",
      "Metadata: {'source': 'nous_sommes_en_guerre.txt', 'id': 23}\n"
     ]
    }
   ],
   "source": [
    "docs_proba = vectordb.similarity_search_with_score(query, k=K)\n",
    "pretty_print_docs(docs_proba)"
   ]
  },
  {
   "cell_type": "code",
   "execution_count": 50,
   "metadata": {},
   "outputs": [
    {
     "name": "stdout",
     "output_type": "stream",
     "text": [
      "Document 1:\n",
      "\n",
      "Le gouvernement, dès demain, précisera toutes ces mesures. Elles seront en fonction des besoins, des réalités économiques, des nécessités secteur par secteur, évidemment adaptées. Nous serons au rendez-vous pour que notre économie soit préservée dans cette période si dure et pour que l’ensemble des travailleuses et des travailleurs puissent avoir cette sécurité aussi en termes de pouvoir d’achat, de continuité de leur vie.\n",
      "Metadata: {'source': 'nous_sommes_en_guerre.txt', 'id': 19}\n",
      "----------------------------------------------------------------------------------------------------\n",
      "Document 2:\n",
      "\n",
      "Mes chers compatriotes, je mesure l’impact de toutes ces décisions sur vos vies. Renoncer à voir ses proches, c’est un déchirement. Stopper ses activités quotidiennes, ses habitudes, c’est très difficile. Cela ne doit pas nous empêcher de garder le lien, d’appeler nos proches, de donner des nouvelles, d’organiser aussi les choses avec nos voisins. D’inventer de nouvelles solidarités entre générations. De rester, comme je vous l’ai dit jeudi dernier, profondément solidaires et d’innover là aussi sur ce point. Je sais que je vous demande de rester chez vous.\n",
      "Metadata: {'source': 'nous_sommes_en_guerre.txt', 'id': 9}\n",
      "----------------------------------------------------------------------------------------------------\n",
      "Document 3:\n",
      "\n",
      "à la hauteur du moment. Je sais, mes chers compatriotes, pouvoir compter sur vous. Vive la République ! Vive la France !\n",
      "Metadata: {'source': 'nous_sommes_en_guerre.txt', 'id': 23}\n",
      "----------------------------------------------------------------------------------------------------\n",
      "Document 4:\n",
      "\n",
      "Mais dans le même temps, alors même que les personnels soignants des services de réanimation alertaient sur la gravité de la situation, nous avons aussi vu du monde se rassembler dans les parcs, des marchés bondés, des restaurants, des bars qui n’ont pas respecté la consigne de fermeture. Comme si, au fond, la vie n’avait pas changé.\n",
      "Metadata: {'source': 'nous_sommes_en_guerre.txt', 'id': 2}\n"
     ]
    }
   ],
   "source": [
    "docs_proba = vectordb.max_marginal_relevance_search(query, k=K)\n",
    "pretty_print_docs(docs_proba)"
   ]
  }
 ],
 "metadata": {
  "kernelspec": {
   "display_name": "Python 3",
   "language": "python",
   "name": "python3"
  },
  "language_info": {
   "codemirror_mode": {
    "name": "ipython",
    "version": 3
   },
   "file_extension": ".py",
   "mimetype": "text/x-python",
   "name": "python",
   "nbconvert_exporter": "python",
   "pygments_lexer": "ipython3",
   "version": "3.11.8"
  }
 },
 "nbformat": 4,
 "nbformat_minor": 2
}
