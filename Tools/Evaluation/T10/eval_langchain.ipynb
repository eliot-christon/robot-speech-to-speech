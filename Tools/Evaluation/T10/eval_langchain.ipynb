{
 "cells": [
  {
   "cell_type": "markdown",
   "metadata": {},
   "source": [
    "## Initialisation"
   ]
  },
  {
   "cell_type": "markdown",
   "metadata": {},
   "source": [
    "### Imports"
   ]
  },
  {
   "cell_type": "code",
   "execution_count": 1,
   "metadata": {},
   "outputs": [],
   "source": [
    "from langchain_community.document_loaders.text import TextLoader\n",
    "from langchain.embeddings.ollama import OllamaEmbeddings\n",
    "from langchain_text_splitters import RecursiveCharacterTextSplitter\n",
    "import numpy as np\n",
    "import pickle"
   ]
  },
  {
   "cell_type": "markdown",
   "metadata": {},
   "source": [
    "### Basic functions and parameters"
   ]
  },
  {
   "cell_type": "code",
   "execution_count": 2,
   "metadata": {},
   "outputs": [],
   "source": [
    "def pretty_print_docs(docs):\n",
    "    if isinstance(docs[0], tuple):\n",
    "        print(\n",
    "            f\"\\n{'-' * 100}\\n\".join(\n",
    "                [\n",
    "                    f\"Document {i+1}: ({d[1]})\\n\\n{d[0].page_content}\\nMetadata: {d[0].metadata}\"\n",
    "                    for i, d in enumerate(docs)\n",
    "                ]\n",
    "            )\n",
    "        )\n",
    "    else:\n",
    "        print(\n",
    "            f\"\\n{'-' * 100}\\n\".join(\n",
    "                [\n",
    "                    f\"Document {i+1}:\\n\\n{d.page_content}\\nMetadata: {d.metadata}\"\n",
    "                    for i, d in enumerate(docs)\n",
    "                ]\n",
    "            )\n",
    "        )\n",
    "\n",
    "def score_normalizer(val: float) -> float:\n",
    "    return 1 - (1 / (1 + np.exp(val)))\n",
    "\n",
    "# Define your custom similarity calculation function\n",
    "def custom_relevance_score_fn(similarity_score: float) -> float:\n",
    "    # Example calculation (customize as needed)\n",
    "    relevance_score = 1 / (1 + np.exp(-similarity_score))\n",
    "    return relevance_score\n",
    "\n",
    "def save_object(obj, filename):\n",
    "    with open(filename, 'wb') as output:\n",
    "        pickle.dump(obj, output, pickle.HIGHEST_PROTOCOL)"
   ]
  },
  {
   "cell_type": "markdown",
   "metadata": {},
   "source": [
    "### Document split and embedding"
   ]
  },
  {
   "cell_type": "code",
   "execution_count": 3,
   "metadata": {},
   "outputs": [],
   "source": [
    "document_names = \"nous_sommes_en_guerre.txt\", \"jeux_olympiques_paris.txt\", \"pacte_novation_linkedin.txt\"\n",
    "\n",
    "loaders = [TextLoader(document_name, encoding=\"utf-8\") for document_name in document_names]\n",
    "\n",
    "documents = []\n",
    "for loader in loaders:\n",
    "    documents.extend(loader.load())\n",
    "\n",
    "embedding = OllamaEmbeddings(model=\"mistral\")\n"
   ]
  },
  {
   "cell_type": "markdown",
   "metadata": {},
   "source": [
    "## Vectorstore"
   ]
  },
  {
   "cell_type": "code",
   "execution_count": 4,
   "metadata": {},
   "outputs": [],
   "source": [
    "text_splitter = RecursiveCharacterTextSplitter(chunk_size=1000, chunk_overlap=100)\n",
    "\n",
    "docs = text_splitter.split_documents(documents)\n",
    "\n",
    "for idx, text in enumerate(docs):\n",
    "    text.metadata[\"id\"] = idx"
   ]
  },
  {
   "cell_type": "markdown",
   "metadata": {},
   "source": [
    "### FAISS"
   ]
  },
  {
   "cell_type": "code",
   "execution_count": 5,
   "metadata": {},
   "outputs": [],
   "source": [
    "from langchain_community.vectorstores.faiss import FAISS, DistanceStrategy"
   ]
  },
  {
   "cell_type": "code",
   "execution_count": 6,
   "metadata": {},
   "outputs": [],
   "source": [
    "vectordb = None\n",
    "vectordb = FAISS.from_documents(\n",
    "    docs, \n",
    "    embedding, \n",
    "    normalize_L2=True, \n",
    "    distance_strategy=DistanceStrategy.EUCLIDEAN_DISTANCE, \n",
    "    relevance_score_fn=custom_relevance_score_fn\n",
    "    )\n",
    "vectordb.save_local(\"local_vectorstore_faiss\")"
   ]
  },
  {
   "cell_type": "code",
   "execution_count": null,
   "metadata": {},
   "outputs": [],
   "source": [
    "vectordb = None\n",
    "vectordb = FAISS.load_local(\n",
    "    \"local_vectorstore_faiss\", \n",
    "    embeddings=embedding, \n",
    "    allow_dangerous_deserialization=True, \n",
    "    normalize_L2=True, \n",
    "    distance_strategy=DistanceStrategy.EUCLIDEAN_DISTANCE, \n",
    "    relevance_score_fn=custom_relevance_score_fn\n",
    "    )"
   ]
  },
  {
   "cell_type": "code",
   "execution_count": 7,
   "metadata": {},
   "outputs": [
    {
     "name": "stdout",
     "output_type": "stream",
     "text": [
      "Document 1: (0.8933698534965515)\n",
      "\n",
      "Le 7 décembre 2020, le programme est arrêté par la commission exécutive du CIO. Quatre sports additionnels sont confirmés : le surf, le skateboard, l'escalade et le breakdance (les trois premiers étant déjà au programme des Jeux de Tokyo précédents). De plus, plusieurs modifications d'épreuves sont effectuées, entraînant d'une part une réduction du quota d'athlètes nécessaire pour réduire la complexité d'organisation dans le contexte pandémique, et d'autre part une parité parfaite de ces Jeux avec autant d'hommes que de femmes engagés :\n",
      "Metadata: {'source': 'jeux_olympiques_paris.txt', 'id': 35}\n",
      "----------------------------------------------------------------------------------------------------\n",
      "Document 2: (0.9175640940666199)\n",
      "\n",
      "•\tAssigraph International,  est depuis 1978 un des éditeurs précurseurs de la CAO dédiée aux métiers de la schématique. Grâce à son équipe d’experts métiers et son partenariat avec un des leaders mondiaux de la CAO, Autodesk, les progiciels AxiomCAD savent lier les besoins métiers et la gestion de données dans un environnement collaboratif maitrisé. Ils répondent ainsi aux nouvelles méthodes de travail et à l’évolution des bureaux d’études grâce à sa ligne de produit. www.assigraph.com\n",
      "Metadata: {'source': 'pacte_novation_linkedin.txt', 'id': 40}\n",
      "----------------------------------------------------------------------------------------------------\n",
      "Document 3: (1.0337408781051636)\n",
      "\n",
      "Présentation\n",
      "Le Groupe PACTE NOVATION affirme une maturité et une expertise sur un ensemble de vecteurs technologiques différenciant, au cœur de l’innovation technologique. L’organisation de notre groupe en filiales spécialisées en système d’information,  intelligence artificielle, système embarqué et édition de logiciels nous permet de répondre à la plupart des exigences du marché :\n",
      "•\tPacte Novation, spécialiste en Ingénierie informatique (systèmes d’information, Big Data, IA & Data Sciences, intégrations). www.pactenovation.fr \n",
      "•\tNovasys Ingénierie, experte en Systèmes distribués temps réel (les systèmes embarqués, industriels ou de communication, cybersécurité) depuis plus de 20 ans. www.novasys-ingenierie.com\n",
      "Metadata: {'source': 'pacte_novation_linkedin.txt', 'id': 39}\n"
     ]
    }
   ],
   "source": [
    "query = \"\"\"président Thomas Bach\"\"\"\n",
    "docs_proba = vectordb.similarity_search_with_score(query, k=3)\n",
    "pretty_print_docs(docs_proba)"
   ]
  },
  {
   "cell_type": "code",
   "execution_count": 8,
   "metadata": {},
   "outputs": [
    {
     "name": "stdout",
     "output_type": "stream",
     "text": [
      "Document 1: (0.7095850930428672)\n",
      "\n",
      "Le 7 décembre 2020, le programme est arrêté par la commission exécutive du CIO. Quatre sports additionnels sont confirmés : le surf, le skateboard, l'escalade et le breakdance (les trois premiers étant déjà au programme des Jeux de Tokyo précédents). De plus, plusieurs modifications d'épreuves sont effectuées, entraînant d'une part une réduction du quota d'athlètes nécessaire pour réduire la complexité d'organisation dans le contexte pandémique, et d'autre part une parité parfaite de ces Jeux avec autant d'hommes que de femmes engagés :\n",
      "Metadata: {'source': 'jeux_olympiques_paris.txt', 'id': 35}\n",
      "----------------------------------------------------------------------------------------------------\n",
      "Document 2: (0.7145455268714127)\n",
      "\n",
      "•\tAssigraph International,  est depuis 1978 un des éditeurs précurseurs de la CAO dédiée aux métiers de la schématique. Grâce à son équipe d’experts métiers et son partenariat avec un des leaders mondiaux de la CAO, Autodesk, les progiciels AxiomCAD savent lier les besoins métiers et la gestion de données dans un environnement collaboratif maitrisé. Ils répondent ainsi aux nouvelles méthodes de travail et à l’évolution des bureaux d’études grâce à sa ligne de produit. www.assigraph.com\n",
      "Metadata: {'source': 'pacte_novation_linkedin.txt', 'id': 40}\n",
      "----------------------------------------------------------------------------------------------------\n",
      "Document 3: (0.7376405145979891)\n",
      "\n",
      "Présentation\n",
      "Le Groupe PACTE NOVATION affirme une maturité et une expertise sur un ensemble de vecteurs technologiques différenciant, au cœur de l’innovation technologique. L’organisation de notre groupe en filiales spécialisées en système d’information,  intelligence artificielle, système embarqué et édition de logiciels nous permet de répondre à la plupart des exigences du marché :\n",
      "•\tPacte Novation, spécialiste en Ingénierie informatique (systèmes d’information, Big Data, IA & Data Sciences, intégrations). www.pactenovation.fr \n",
      "•\tNovasys Ingénierie, experte en Systèmes distribués temps réel (les systèmes embarqués, industriels ou de communication, cybersécurité) depuis plus de 20 ans. www.novasys-ingenierie.com\n",
      "Metadata: {'source': 'pacte_novation_linkedin.txt', 'id': 39}\n"
     ]
    }
   ],
   "source": [
    "query = \"\"\"président Thomas Bach\"\"\"\n",
    "docs_proba = vectordb.similarity_search_with_relevance_scores(query, k=3)\n",
    "pretty_print_docs(docs_proba)"
   ]
  },
  {
   "cell_type": "markdown",
   "metadata": {},
   "source": [
    "### Chroma"
   ]
  },
  {
   "cell_type": "code",
   "execution_count": 9,
   "metadata": {},
   "outputs": [],
   "source": [
    "from langchain.vectorstores.chroma import Chroma"
   ]
  },
  {
   "cell_type": "code",
   "execution_count": 10,
   "metadata": {},
   "outputs": [],
   "source": [
    "vectordb = None\n",
    "vectordb = Chroma.from_documents(\n",
    "    docs,\n",
    "    embedding,\n",
    "    persist_directory=\"local_vectorstore_chroma\",\n",
    "    relevance_score_fn=custom_relevance_score_fn,\n",
    "    )"
   ]
  },
  {
   "cell_type": "code",
   "execution_count": null,
   "metadata": {},
   "outputs": [],
   "source": [
    "vectordb = None\n",
    "vectordb = Chroma(\n",
    "    embedding_function=embedding,\n",
    "    persist_directory=\"local_vectorstore_chroma\",\n",
    "    relevance_score_fn=custom_relevance_score_fn,\n",
    "    )"
   ]
  },
  {
   "cell_type": "code",
   "execution_count": 11,
   "metadata": {},
   "outputs": [
    {
     "name": "stdout",
     "output_type": "stream",
     "text": [
      "Document 1: (130151.0391394958)\n",
      "\n",
      "Le gouvernement, dès demain, précisera toutes ces mesures. Elles seront en fonction des besoins, des réalités économiques, des nécessités secteur par secteur, évidemment adaptées. Nous serons au rendez-vous pour que notre économie soit préservée dans cette période si dure et pour que l’ensemble des travailleuses et des travailleurs puissent avoir cette sécurité aussi en termes de pouvoir d’achat, de continuité de leur vie.\n",
      "Metadata: {'id': 19, 'source': 'nous_sommes_en_guerre.txt'}\n",
      "----------------------------------------------------------------------------------------------------\n",
      "Document 2: (130151.0391394958)\n",
      "\n",
      "Le gouvernement, dès demain, précisera toutes ces mesures. Elles seront en fonction des besoins, des réalités économiques, des nécessités secteur par secteur, évidemment adaptées. Nous serons au rendez-vous pour que notre économie soit préservée dans cette période si dure et pour que l’ensemble des travailleuses et des travailleurs puissent avoir cette sécurité aussi en termes de pouvoir d’achat, de continuité de leur vie.\n",
      "Metadata: {'id': 19, 'source': 'nous_sommes_en_guerre.txt'}\n",
      "----------------------------------------------------------------------------------------------------\n",
      "Document 3: (130151.0546875)\n",
      "\n",
      "Le gouvernement, dès demain, précisera toutes ces mesures. Elles seront en fonction des besoins, des réalités économiques, des nécessités secteur par secteur, évidemment adaptées. Nous serons au rendez-vous pour que notre économie soit préservée dans cette période si dure et pour que l’ensemble des travailleuses et des travailleurs puissent avoir cette sécurité aussi en termes de pouvoir d’achat, de continuité de leur vie.\n",
      "Metadata: {'id': 19, 'source': 'nous_sommes_en_guerre.txt'}\n",
      "----------------------------------------------------------------------------------------------------\n",
      "Document 4: (130151.0546875)\n",
      "\n",
      "Le gouvernement, dès demain, précisera toutes ces mesures. Elles seront en fonction des besoins, des réalités économiques, des nécessités secteur par secteur, évidemment adaptées. Nous serons au rendez-vous pour que notre économie soit préservée dans cette période si dure et pour que l’ensemble des travailleuses et des travailleurs puissent avoir cette sécurité aussi en termes de pouvoir d’achat, de continuité de leur vie.\n",
      "Metadata: {'id': 19, 'source': 'nous_sommes_en_guerre.txt'}\n"
     ]
    }
   ],
   "source": [
    "query = \"\"\"c'est quoi la meilleure discipline olympique ?\"\"\"\n",
    "docs_proba = vectordb.similarity_search_with_score(query, k=4)\n",
    "pretty_print_docs(docs_proba)"
   ]
  },
  {
   "cell_type": "code",
   "execution_count": 12,
   "metadata": {},
   "outputs": [
    {
     "name": "stdout",
     "output_type": "stream",
     "text": [
      "Document 1: (1.0)\n",
      "\n",
      "Le gouvernement, dès demain, précisera toutes ces mesures. Elles seront en fonction des besoins, des réalités économiques, des nécessités secteur par secteur, évidemment adaptées. Nous serons au rendez-vous pour que notre économie soit préservée dans cette période si dure et pour que l’ensemble des travailleuses et des travailleurs puissent avoir cette sécurité aussi en termes de pouvoir d’achat, de continuité de leur vie.\n",
      "Metadata: {'id': 19, 'source': 'nous_sommes_en_guerre.txt'}\n",
      "----------------------------------------------------------------------------------------------------\n",
      "Document 2: (1.0)\n",
      "\n",
      "Le gouvernement, dès demain, précisera toutes ces mesures. Elles seront en fonction des besoins, des réalités économiques, des nécessités secteur par secteur, évidemment adaptées. Nous serons au rendez-vous pour que notre économie soit préservée dans cette période si dure et pour que l’ensemble des travailleuses et des travailleurs puissent avoir cette sécurité aussi en termes de pouvoir d’achat, de continuité de leur vie.\n",
      "Metadata: {'id': 19, 'source': 'nous_sommes_en_guerre.txt'}\n",
      "----------------------------------------------------------------------------------------------------\n",
      "Document 3: (1.0)\n",
      "\n",
      "Le gouvernement, dès demain, précisera toutes ces mesures. Elles seront en fonction des besoins, des réalités économiques, des nécessités secteur par secteur, évidemment adaptées. Nous serons au rendez-vous pour que notre économie soit préservée dans cette période si dure et pour que l’ensemble des travailleuses et des travailleurs puissent avoir cette sécurité aussi en termes de pouvoir d’achat, de continuité de leur vie.\n",
      "Metadata: {'id': 19, 'source': 'nous_sommes_en_guerre.txt'}\n",
      "----------------------------------------------------------------------------------------------------\n",
      "Document 4: (1.0)\n",
      "\n",
      "Le gouvernement, dès demain, précisera toutes ces mesures. Elles seront en fonction des besoins, des réalités économiques, des nécessités secteur par secteur, évidemment adaptées. Nous serons au rendez-vous pour que notre économie soit préservée dans cette période si dure et pour que l’ensemble des travailleuses et des travailleurs puissent avoir cette sécurité aussi en termes de pouvoir d’achat, de continuité de leur vie.\n",
      "Metadata: {'id': 19, 'source': 'nous_sommes_en_guerre.txt'}\n",
      "----------------------------------------------------------------------------------------------------\n",
      "Document 5: (1.0)\n",
      "\n",
      "•\tAssigraph International,  est depuis 1978 un des éditeurs précurseurs de la CAO dédiée aux métiers de la schématique. Grâce à son équipe d’experts métiers et son partenariat avec un des leaders mondiaux de la CAO, Autodesk, les progiciels AxiomCAD savent lier les besoins métiers et la gestion de données dans un environnement collaboratif maitrisé. Ils répondent ainsi aux nouvelles méthodes de travail et à l’évolution des bureaux d’études grâce à sa ligne de produit. www.assigraph.com\n",
      "Metadata: {'id': 40, 'source': 'pacte_novation_linkedin.txt'}\n",
      "----------------------------------------------------------------------------------------------------\n",
      "Document 6: (1.0)\n",
      "\n",
      "•\tAssigraph International,  est depuis 1978 un des éditeurs précurseurs de la CAO dédiée aux métiers de la schématique. Grâce à son équipe d’experts métiers et son partenariat avec un des leaders mondiaux de la CAO, Autodesk, les progiciels AxiomCAD savent lier les besoins métiers et la gestion de données dans un environnement collaboratif maitrisé. Ils répondent ainsi aux nouvelles méthodes de travail et à l’évolution des bureaux d’études grâce à sa ligne de produit. www.assigraph.com\n",
      "Metadata: {'id': 40, 'source': 'pacte_novation_linkedin.txt'}\n",
      "----------------------------------------------------------------------------------------------------\n",
      "Document 7: (1.0)\n",
      "\n",
      "•\tAssigraph International,  est depuis 1978 un des éditeurs précurseurs de la CAO dédiée aux métiers de la schématique. Grâce à son équipe d’experts métiers et son partenariat avec un des leaders mondiaux de la CAO, Autodesk, les progiciels AxiomCAD savent lier les besoins métiers et la gestion de données dans un environnement collaboratif maitrisé. Ils répondent ainsi aux nouvelles méthodes de travail et à l’évolution des bureaux d’études grâce à sa ligne de produit. www.assigraph.com\n",
      "Metadata: {'id': 40, 'source': 'pacte_novation_linkedin.txt'}\n",
      "----------------------------------------------------------------------------------------------------\n",
      "Document 8: (1.0)\n",
      "\n",
      "•\tAssigraph International,  est depuis 1978 un des éditeurs précurseurs de la CAO dédiée aux métiers de la schématique. Grâce à son équipe d’experts métiers et son partenariat avec un des leaders mondiaux de la CAO, Autodesk, les progiciels AxiomCAD savent lier les besoins métiers et la gestion de données dans un environnement collaboratif maitrisé. Ils répondent ainsi aux nouvelles méthodes de travail et à l’évolution des bureaux d’études grâce à sa ligne de produit. www.assigraph.com\n",
      "Metadata: {'id': 40, 'source': 'pacte_novation_linkedin.txt'}\n",
      "----------------------------------------------------------------------------------------------------\n",
      "Document 9: (1.0)\n",
      "\n",
      "Le 9 juin 2017, le bureau exécutif du Comité international olympique adopte à l'unanimité la recommandation du président Thomas Bach en faveur d'un double vote à Lima le 13 septembre, pour désigner les villes-hôtes des Jeux olympiques 2024 et 2028, soit Paris et Los Angeles dans un ordre qui reste à définir. Le 11 juillet 2017, lors d'une session extraordinaire à Lausanne où les deux villes présentent leurs projets, la centaine de membres du CIO approuvent cette décision, sans surprise14. Le 31 juillet, le CIO annonce qu'il est parvenu à un accord avec la ville californienne pour qu'elle organise l'édition 20284, Paris restant seul en lice pour l'organisation des Jeux olympiques de 202415. Le 13 septembre 2017, les membres du CIO votent à l'unanimité et à main levée en faveur de l'attribution des Jeux d'été 2024 à Paris et de ceux de 2028 à Los Angeles1.\n",
      "Metadata: {'id': 30, 'source': 'jeux_olympiques_paris.txt'}\n",
      "----------------------------------------------------------------------------------------------------\n",
      "Document 10: (1.0)\n",
      "\n",
      "Le 9 juin 2017, le bureau exécutif du Comité international olympique adopte à l'unanimité la recommandation du président Thomas Bach en faveur d'un double vote à Lima le 13 septembre, pour désigner les villes-hôtes des Jeux olympiques 2024 et 2028, soit Paris et Los Angeles dans un ordre qui reste à définir. Le 11 juillet 2017, lors d'une session extraordinaire à Lausanne où les deux villes présentent leurs projets, la centaine de membres du CIO approuvent cette décision, sans surprise14. Le 31 juillet, le CIO annonce qu'il est parvenu à un accord avec la ville californienne pour qu'elle organise l'édition 20284, Paris restant seul en lice pour l'organisation des Jeux olympiques de 202415. Le 13 septembre 2017, les membres du CIO votent à l'unanimité et à main levée en faveur de l'attribution des Jeux d'été 2024 à Paris et de ceux de 2028 à Los Angeles1.\n",
      "Metadata: {'id': 30, 'source': 'jeux_olympiques_paris.txt'}\n",
      "----------------------------------------------------------------------------------------------------\n",
      "Document 11: (1.0)\n",
      "\n",
      "Le 9 juin 2017, le bureau exécutif du Comité international olympique adopte à l'unanimité la recommandation du président Thomas Bach en faveur d'un double vote à Lima le 13 septembre, pour désigner les villes-hôtes des Jeux olympiques 2024 et 2028, soit Paris et Los Angeles dans un ordre qui reste à définir. Le 11 juillet 2017, lors d'une session extraordinaire à Lausanne où les deux villes présentent leurs projets, la centaine de membres du CIO approuvent cette décision, sans surprise14. Le 31 juillet, le CIO annonce qu'il est parvenu à un accord avec la ville californienne pour qu'elle organise l'édition 20284, Paris restant seul en lice pour l'organisation des Jeux olympiques de 202415. Le 13 septembre 2017, les membres du CIO votent à l'unanimité et à main levée en faveur de l'attribution des Jeux d'été 2024 à Paris et de ceux de 2028 à Los Angeles1.\n",
      "Metadata: {'id': 30, 'source': 'jeux_olympiques_paris.txt'}\n",
      "----------------------------------------------------------------------------------------------------\n",
      "Document 12: (1.0)\n",
      "\n",
      "Le 9 juin 2017, le bureau exécutif du Comité international olympique adopte à l'unanimité la recommandation du président Thomas Bach en faveur d'un double vote à Lima le 13 septembre, pour désigner les villes-hôtes des Jeux olympiques 2024 et 2028, soit Paris et Los Angeles dans un ordre qui reste à définir. Le 11 juillet 2017, lors d'une session extraordinaire à Lausanne où les deux villes présentent leurs projets, la centaine de membres du CIO approuvent cette décision, sans surprise14. Le 31 juillet, le CIO annonce qu'il est parvenu à un accord avec la ville californienne pour qu'elle organise l'édition 20284, Paris restant seul en lice pour l'organisation des Jeux olympiques de 202415. Le 13 septembre 2017, les membres du CIO votent à l'unanimité et à main levée en faveur de l'attribution des Jeux d'été 2024 à Paris et de ceux de 2028 à Los Angeles1.\n",
      "Metadata: {'id': 30, 'source': 'jeux_olympiques_paris.txt'}\n",
      "----------------------------------------------------------------------------------------------------\n",
      "Document 13: (1.0)\n",
      "\n",
      "La procédure des sports additionnels a lieu début 2019. Il était requis des sports demandant peu d'athlètes, pas d'infrastructures supplémentaires et populaires auprès des jeunes. Les sports choisis sont le surf, le skateboard, l'escalade, le basket-ball 3x3 et le breakdance28. Ces épreuves seraient organisées sur le même site place de la Concorde dans une arène de 35 000 places, qui devrait aussi accueillir des concerts et des animations29. Il n'est pas prévu d'en rajouter d'autres malgré les demandes répétées du karaté et du squash30.\n",
      "Metadata: {'id': 34, 'source': 'jeux_olympiques_paris.txt'}\n",
      "----------------------------------------------------------------------------------------------------\n",
      "Document 14: (1.0)\n",
      "\n",
      "La procédure des sports additionnels a lieu début 2019. Il était requis des sports demandant peu d'athlètes, pas d'infrastructures supplémentaires et populaires auprès des jeunes. Les sports choisis sont le surf, le skateboard, l'escalade, le basket-ball 3x3 et le breakdance28. Ces épreuves seraient organisées sur le même site place de la Concorde dans une arène de 35 000 places, qui devrait aussi accueillir des concerts et des animations29. Il n'est pas prévu d'en rajouter d'autres malgré les demandes répétées du karaté et du squash30.\n",
      "Metadata: {'id': 34, 'source': 'jeux_olympiques_paris.txt'}\n",
      "----------------------------------------------------------------------------------------------------\n",
      "Document 15: (1.0)\n",
      "\n",
      "La procédure des sports additionnels a lieu début 2019. Il était requis des sports demandant peu d'athlètes, pas d'infrastructures supplémentaires et populaires auprès des jeunes. Les sports choisis sont le surf, le skateboard, l'escalade, le basket-ball 3x3 et le breakdance28. Ces épreuves seraient organisées sur le même site place de la Concorde dans une arène de 35 000 places, qui devrait aussi accueillir des concerts et des animations29. Il n'est pas prévu d'en rajouter d'autres malgré les demandes répétées du karaté et du squash30.\n",
      "Metadata: {'id': 34, 'source': 'jeux_olympiques_paris.txt'}\n",
      "----------------------------------------------------------------------------------------------------\n",
      "Document 16: (1.0)\n",
      "\n",
      "La procédure des sports additionnels a lieu début 2019. Il était requis des sports demandant peu d'athlètes, pas d'infrastructures supplémentaires et populaires auprès des jeunes. Les sports choisis sont le surf, le skateboard, l'escalade, le basket-ball 3x3 et le breakdance28. Ces épreuves seraient organisées sur le même site place de la Concorde dans une arène de 35 000 places, qui devrait aussi accueillir des concerts et des animations29. Il n'est pas prévu d'en rajouter d'autres malgré les demandes répétées du karaté et du squash30.\n",
      "Metadata: {'id': 34, 'source': 'jeux_olympiques_paris.txt'}\n",
      "----------------------------------------------------------------------------------------------------\n",
      "Document 17: (1.0)\n",
      "\n",
      "Sports au programme\n",
      "Disciplines officielles\n",
      "Le rugby et le golf, ajoutés au programme des Jeux olympiques de Rio 2016 restant maintenus pour 2020 comme pour 2024, la liste des 28 sports des Jeux de Paris doit être identique à celle des deux précédentes éditions estivales26. Néanmoins, l'une des mesures de l'Agenda olympique 2020, approuvée fin 2014, déjà appliquée pour les Jeux de Tokyo, laisse aux organisateurs la possibilité de proposer de nouveaux sports de leur choix, qui doivent ensuite être approuvés par le CIO. Pour Tokyo 2020, c'est le cas du karaté, du surf, du skateboard, de l'escalade sportive et du baseball/softball27. Par ailleurs, la présence de 28 sports ne définit pas à l'avance la nature ou le nombre des différentes épreuves, ni les éventuels ajouts proposés par le comité d'organisation, le programme devant être arrêté en juin 2019, lors de la session du CIO qui aura lieu à Lausanne26.\n",
      "Metadata: {'id': 33, 'source': 'jeux_olympiques_paris.txt'}\n",
      "----------------------------------------------------------------------------------------------------\n",
      "Document 18: (1.0)\n",
      "\n",
      "Sports au programme\n",
      "Disciplines officielles\n",
      "Le rugby et le golf, ajoutés au programme des Jeux olympiques de Rio 2016 restant maintenus pour 2020 comme pour 2024, la liste des 28 sports des Jeux de Paris doit être identique à celle des deux précédentes éditions estivales26. Néanmoins, l'une des mesures de l'Agenda olympique 2020, approuvée fin 2014, déjà appliquée pour les Jeux de Tokyo, laisse aux organisateurs la possibilité de proposer de nouveaux sports de leur choix, qui doivent ensuite être approuvés par le CIO. Pour Tokyo 2020, c'est le cas du karaté, du surf, du skateboard, de l'escalade sportive et du baseball/softball27. Par ailleurs, la présence de 28 sports ne définit pas à l'avance la nature ou le nombre des différentes épreuves, ni les éventuels ajouts proposés par le comité d'organisation, le programme devant être arrêté en juin 2019, lors de la session du CIO qui aura lieu à Lausanne26.\n",
      "Metadata: {'id': 33, 'source': 'jeux_olympiques_paris.txt'}\n",
      "----------------------------------------------------------------------------------------------------\n",
      "Document 19: (1.0)\n",
      "\n",
      "Sports au programme\n",
      "Disciplines officielles\n",
      "Le rugby et le golf, ajoutés au programme des Jeux olympiques de Rio 2016 restant maintenus pour 2020 comme pour 2024, la liste des 28 sports des Jeux de Paris doit être identique à celle des deux précédentes éditions estivales26. Néanmoins, l'une des mesures de l'Agenda olympique 2020, approuvée fin 2014, déjà appliquée pour les Jeux de Tokyo, laisse aux organisateurs la possibilité de proposer de nouveaux sports de leur choix, qui doivent ensuite être approuvés par le CIO. Pour Tokyo 2020, c'est le cas du karaté, du surf, du skateboard, de l'escalade sportive et du baseball/softball27. Par ailleurs, la présence de 28 sports ne définit pas à l'avance la nature ou le nombre des différentes épreuves, ni les éventuels ajouts proposés par le comité d'organisation, le programme devant être arrêté en juin 2019, lors de la session du CIO qui aura lieu à Lausanne26.\n",
      "Metadata: {'id': 33, 'source': 'jeux_olympiques_paris.txt'}\n",
      "----------------------------------------------------------------------------------------------------\n",
      "Document 20: (1.0)\n",
      "\n",
      "Sports au programme\n",
      "Disciplines officielles\n",
      "Le rugby et le golf, ajoutés au programme des Jeux olympiques de Rio 2016 restant maintenus pour 2020 comme pour 2024, la liste des 28 sports des Jeux de Paris doit être identique à celle des deux précédentes éditions estivales26. Néanmoins, l'une des mesures de l'Agenda olympique 2020, approuvée fin 2014, déjà appliquée pour les Jeux de Tokyo, laisse aux organisateurs la possibilité de proposer de nouveaux sports de leur choix, qui doivent ensuite être approuvés par le CIO. Pour Tokyo 2020, c'est le cas du karaté, du surf, du skateboard, de l'escalade sportive et du baseball/softball27. Par ailleurs, la présence de 28 sports ne définit pas à l'avance la nature ou le nombre des différentes épreuves, ni les éventuels ajouts proposés par le comité d'organisation, le programme devant être arrêté en juin 2019, lors de la session du CIO qui aura lieu à Lausanne26.\n",
      "Metadata: {'id': 33, 'source': 'jeux_olympiques_paris.txt'}\n",
      "----------------------------------------------------------------------------------------------------\n",
      "Document 21: (1.0)\n",
      "\n",
      "Les anneaux olympiques exposés place du Trocadéro en 2017 pour célébrer l'attribution des Jeux à Paris.\n",
      "Metadata: {'id': 27, 'source': 'jeux_olympiques_paris.txt'}\n",
      "----------------------------------------------------------------------------------------------------\n",
      "Document 22: (1.0)\n",
      "\n",
      "Les anneaux olympiques exposés place du Trocadéro en 2017 pour célébrer l'attribution des Jeux à Paris.\n",
      "Metadata: {'id': 27, 'source': 'jeux_olympiques_paris.txt'}\n",
      "----------------------------------------------------------------------------------------------------\n",
      "Document 23: (1.0)\n",
      "\n",
      "Les anneaux olympiques exposés place du Trocadéro en 2017 pour célébrer l'attribution des Jeux à Paris.\n",
      "Metadata: {'id': 27, 'source': 'jeux_olympiques_paris.txt'}\n",
      "----------------------------------------------------------------------------------------------------\n",
      "Document 24: (1.0)\n",
      "\n",
      "Les anneaux olympiques exposés place du Trocadéro en 2017 pour célébrer l'attribution des Jeux à Paris.\n",
      "Metadata: {'id': 27, 'source': 'jeux_olympiques_paris.txt'}\n",
      "----------------------------------------------------------------------------------------------------\n",
      "Document 25: (1.0)\n",
      "\n",
      "à la hauteur du moment. Je sais, mes chers compatriotes, pouvoir compter sur vous. Vive la République ! Vive la France !\n",
      "Metadata: {'id': 23, 'source': 'nous_sommes_en_guerre.txt'}\n",
      "----------------------------------------------------------------------------------------------------\n",
      "Document 26: (1.0)\n",
      "\n",
      "à la hauteur du moment. Je sais, mes chers compatriotes, pouvoir compter sur vous. Vive la République ! Vive la France !\n",
      "Metadata: {'id': 23, 'source': 'nous_sommes_en_guerre.txt'}\n",
      "----------------------------------------------------------------------------------------------------\n",
      "Document 27: (1.0)\n",
      "\n",
      "à la hauteur du moment. Je sais, mes chers compatriotes, pouvoir compter sur vous. Vive la République ! Vive la France !\n",
      "Metadata: {'id': 23, 'source': 'nous_sommes_en_guerre.txt'}\n",
      "----------------------------------------------------------------------------------------------------\n",
      "Document 28: (1.0)\n",
      "\n",
      "à la hauteur du moment. Je sais, mes chers compatriotes, pouvoir compter sur vous. Vive la République ! Vive la France !\n",
      "Metadata: {'id': 23, 'source': 'nous_sommes_en_guerre.txt'}\n",
      "----------------------------------------------------------------------------------------------------\n",
      "Document 29: (1.0)\n",
      "\n",
      "Dès mercredi, en conseil des ministres, sera présenté un projet de loi permettant au gouvernement de répondre à l’urgence et, lorsque nécessaire, de légiférer par ordonnance dans les domaines relevant strictement de la gestion de crise. Ce projet sera soumis au Parlement dès jeudi. J’ai vu tout à l’heure les présidents de l’Assemblée nationale et du Sénat afin que ces textes soient votés le plus finement possible, afin aussi que la vie démocratique et le contrôle du Parlement continuent dans cette période. Je les en remercie et je remercie tous nos parlementaires en cet instant.\n",
      "Metadata: {'id': 12, 'source': 'nous_sommes_en_guerre.txt'}\n",
      "----------------------------------------------------------------------------------------------------\n",
      "Document 30: (1.0)\n",
      "\n",
      "Dès mercredi, en conseil des ministres, sera présenté un projet de loi permettant au gouvernement de répondre à l’urgence et, lorsque nécessaire, de légiférer par ordonnance dans les domaines relevant strictement de la gestion de crise. Ce projet sera soumis au Parlement dès jeudi. J’ai vu tout à l’heure les présidents de l’Assemblée nationale et du Sénat afin que ces textes soient votés le plus finement possible, afin aussi que la vie démocratique et le contrôle du Parlement continuent dans cette période. Je les en remercie et je remercie tous nos parlementaires en cet instant.\n",
      "Metadata: {'id': 12, 'source': 'nous_sommes_en_guerre.txt'}\n"
     ]
    }
   ],
   "source": [
    "query = \"\"\"c'est quoi la meilleure discipline olympique ?\"\"\"\n",
    "docs_proba = vectordb.similarity_search_with_relevance_scores(query, k=30)\n",
    "pretty_print_docs(docs_proba)"
   ]
  },
  {
   "cell_type": "markdown",
   "metadata": {},
   "source": [
    "## Multi Vector "
   ]
  },
  {
   "cell_type": "code",
   "execution_count": null,
   "metadata": {},
   "outputs": [],
   "source": [
    "from langchain.retrievers.multi_vector import MultiVectorRetriever\n",
    "from langchain.retrievers.multi_vector import SearchType\n",
    "from langchain.vectorstores.chroma import Chroma\n",
    "from langchain.storage import InMemoryByteStore\n",
    "import uuid"
   ]
  },
  {
   "cell_type": "code",
   "execution_count": null,
   "metadata": {},
   "outputs": [],
   "source": [
    "text_splitter = RecursiveCharacterTextSplitter(chunk_size=10000)\n",
    "docs = text_splitter.split_documents(docs)"
   ]
  },
  {
   "cell_type": "code",
   "execution_count": null,
   "metadata": {},
   "outputs": [],
   "source": [
    "vectordb = None\n",
    "vectordb = Chroma(collection_name=\"full_documents\", embedding_function=embedding, persist_directory=\"local_multivector_chroma\")\n",
    "\n",
    "# The storage layer for the parent documents\n",
    "store = InMemoryByteStore()\n",
    "id_key = \"doc_id\"\n",
    "\n",
    "# the retriever\n",
    "retriever = MultiVectorRetriever(\n",
    "    vectorstore=vectordb,\n",
    "    byte_store=store,\n",
    "    id_key=id_key,\n",
    ")\n",
    "\n",
    "doc_ids = [str(uuid.uuid4()) for _ in docs]"
   ]
  },
  {
   "cell_type": "code",
   "execution_count": null,
   "metadata": {},
   "outputs": [],
   "source": [
    "# The splitter to use to create smaller chunks\n",
    "child_text_splitter = RecursiveCharacterTextSplitter(chunk_size=400)"
   ]
  },
  {
   "cell_type": "code",
   "execution_count": null,
   "metadata": {},
   "outputs": [],
   "source": [
    "sub_docs = []\n",
    "for i, doc in enumerate(docs):\n",
    "    _id = doc_ids[i]\n",
    "    _sub_docs = child_text_splitter.split_documents([doc])\n",
    "    for _doc in _sub_docs:\n",
    "        _doc.metadata[id_key] = _id\n",
    "    sub_docs.extend(_sub_docs)"
   ]
  },
  {
   "cell_type": "code",
   "execution_count": null,
   "metadata": {},
   "outputs": [],
   "source": [
    "retriever.vectorstore = None\n",
    "retriever.vectorstore.add_documents(sub_docs, persist_directory=\"local_multivector_chroma\")\n",
    "retriever.docstore.mset(list(zip(doc_ids, docs)))"
   ]
  },
  {
   "cell_type": "code",
   "execution_count": null,
   "metadata": {},
   "outputs": [],
   "source": [
    "# load the retriever vectorstore\n",
    "retriever.vectorstore = None\n",
    "retriever.vectorstore = Chroma(collection_name=\"full_documents\", embedding_function=embedding, persist_directory=\"local_multivector_chroma\")\n",
    "retriever.docstore.mset(list(zip(doc_ids, docs)))"
   ]
  },
  {
   "cell_type": "code",
   "execution_count": null,
   "metadata": {},
   "outputs": [],
   "source": [
    "query = \"\"\"c'est quoi la meilleure discipline olympique ?\"\"\"\n",
    "docs_proba = retriever.vectorstore.similarity_search_with_score(query, k=4)\n",
    "pretty_print_docs(docs_proba)"
   ]
  },
  {
   "cell_type": "code",
   "execution_count": null,
   "metadata": {},
   "outputs": [],
   "source": [
    "# Retriever returns larger chunks\n",
    "retriever.search_type = SearchType.mmr\n",
    "print(\"\\n######\\n\".join(\n",
    "    [d.page_content \n",
    "     for d in retriever.get_relevant_documents(\n",
    "         \"\"\"c'est quoi la meilleure discipline olympique ?\"\"\"\n",
    "         )\n",
    "    ]\n",
    "))"
   ]
  }
 ],
 "metadata": {
  "kernelspec": {
   "display_name": "Python 3",
   "language": "python",
   "name": "python3"
  },
  "language_info": {
   "codemirror_mode": {
    "name": "ipython",
    "version": 3
   },
   "file_extension": ".py",
   "mimetype": "text/x-python",
   "name": "python",
   "nbconvert_exporter": "python",
   "pygments_lexer": "ipython3",
   "version": "3.11.8"
  }
 },
 "nbformat": 4,
 "nbformat_minor": 2
}
