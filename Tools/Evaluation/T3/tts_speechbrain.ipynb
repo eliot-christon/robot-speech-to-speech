{
 "cells": [
  {
   "cell_type": "code",
   "execution_count": 1,
   "metadata": {},
   "outputs": [
    {
     "name": "stderr",
     "output_type": "stream",
     "text": [
      "C:\\Users\\echriston\\AppData\\Roaming\\Python\\Python311\\site-packages\\tqdm\\auto.py:21: TqdmWarning: IProgress not found. Please update jupyter and ipywidgets. See https://ipywidgets.readthedocs.io/en/stable/user_install.html\n",
      "  from .autonotebook import tqdm as notebook_tqdm\n",
      "torchvision is not available - cannot save figures\n"
     ]
    }
   ],
   "source": [
    "import torchaudio\n",
    "from speechbrain.inference.TTS import FastSpeech2InternalAlignment\n",
    "from speechbrain.inference.vocoders import HIFIGAN"
   ]
  },
  {
   "cell_type": "code",
   "execution_count": 2,
   "metadata": {},
   "outputs": [
    {
     "name": "stderr",
     "output_type": "stream",
     "text": [
      "model.ckpt: 100%|██████████| 255M/255M [00:11<00:00, 23.1MB/s] \n",
      "hyperparams.yaml: 100%|██████████| 11.3k/11.3k [00:00<00:00, 3.77MB/s]\n",
      "model.ckpt: 100%|██████████| 129M/129M [00:05<00:00, 23.1MB/s] \n",
      "ctc_lin.ckpt: 100%|██████████| 177k/177k [00:00<00:00, 2.23MB/s]\n",
      "hyperparams.yaml: 100%|██████████| 1.16k/1.16k [00:00<00:00, 84.7kB/s]\n",
      "C:\\Users\\echriston\\AppData\\Roaming\\Python\\Python311\\site-packages\\torch\\nn\\utils\\weight_norm.py:28: UserWarning: torch.nn.utils.weight_norm is deprecated in favor of torch.nn.utils.parametrizations.weight_norm.\n",
      "  warnings.warn(\"torch.nn.utils.weight_norm is deprecated in favor of torch.nn.utils.parametrizations.weight_norm.\")\n",
      "generator.ckpt: 100%|██████████| 55.8M/55.8M [00:02<00:00, 23.4MB/s]\n"
     ]
    }
   ],
   "source": [
    "# Intialize TTS (tacotron2) and Vocoder (HiFIGAN)\n",
    "fastspeech2 = FastSpeech2InternalAlignment.from_hparams(source=\"speechbrain/tts-fastspeech2-internal-alignment-ljspeech\", savedir=\"pretrained_models/tts-fastspeech2-internal-alignment-ljspeech\")\n",
    "hifi_gan = HIFIGAN.from_hparams(source=\"speechbrain/tts-hifigan-ljspeech\", savedir=\"pretrained_models/tts-hifigan-ljspeech\")"
   ]
  },
  {
   "cell_type": "code",
   "execution_count": 6,
   "metadata": {},
   "outputs": [
    {
     "name": "stderr",
     "output_type": "stream",
     "text": [
      "Do g2p word by word because of unexpected ouputs from g2p for text: Salut à tous ! Je suis NAO, votre robot assistant à Pacte Novation et je suis là pour vous aider.\n"
     ]
    }
   ],
   "source": [
    "# Run TTS with text input\n",
    "input_text = \"Salut à tous ! Je suis NAO, votre robot assistant à Pacte Novation et je suis là pour vous aider.\"\n",
    "\n",
    "mel_output, durations, pitch, energy = fastspeech2.encode_text(\n",
    "  [input_text],\n",
    "  pace=1.0,        # scale up/down the speed\n",
    "  pitch_rate=1.0,  # scale up/down the pitch\n",
    "  energy_rate=1.0, # scale up/down the energy\n",
    ")\n",
    "\n",
    "# Running Vocoder (spectrogram-to-waveform)\n",
    "waveforms = hifi_gan.decode_batch(mel_output)\n",
    "\n",
    "# Save the waverform\n",
    "torchaudio.save('speechbrain_1.wav', waveforms.squeeze(1), 22050)"
   ]
  },
  {
   "cell_type": "code",
   "execution_count": 5,
   "metadata": {},
   "outputs": [],
   "source": [
    "# Run TTS with phoneme input\n",
    "input_phonemes = ['W', 'ER', ' ', 'DH', 'AH', ' ', 'L', 'IY', 'D', 'ER', 'Z', ' ', 'IH', 'N', ' ', 'DH', 'IH', 'S', ' ', 'L', 'AH', 'K', 'L', 'AH', 'S', ' ', 'CH', 'EY', 'N', 'JH', ';', \" \", 'DH', 'OW', ' ', 'AW', 'ER', ' ', 'OW', 'N', ' ', 'B', 'AE', 'S', 'K', 'ER', 'V', 'IH', 'L', ';', \" \", 'HH', 'UW', ' ', 'W', 'AA', 'Z', ' ', 'AE', 'T', ' ', 'W', 'ER', 'K', ' ', 'S', 'AH', 'M', ' ', 'Y', 'IH', 'R', 'Z', ' ', 'B', 'IH', 'F', 'AO', 'R', ' ', 'DH', 'EH', 'M', ';', \" \", 'W', 'EH', 'N', 'T', ' ', 'M', 'AH', 'CH', ' ', 'AA', 'N', ' ', 'DH', 'AH', ' ', 'S', 'EY', 'M', ' ', 'L', 'AY', 'N', 'Z', ';']\n",
    "\n",
    "mel_output, durations, pitch, energy = fastspeech2.encode_phoneme(\n",
    "  [input_phonemes],\n",
    "  pace=1.0,        # scale up/down the speed\n",
    "  pitch_rate=1.0,  # scale up/down the pitch\n",
    "  energy_rate=1.0, # scale up/down the energy\n",
    ")\n",
    "\n",
    "# Running Vocoder (spectrogram-to-waveform)\n",
    "waveforms = hifi_gan.decode_batch(mel_output)\n",
    "\n",
    "# Save the waverform\n",
    "torchaudio.save('speechbrain_2.wav', waveforms.squeeze(1), 22050)"
   ]
  }
 ],
 "metadata": {
  "kernelspec": {
   "display_name": "Python 3",
   "language": "python",
   "name": "python3"
  },
  "language_info": {
   "codemirror_mode": {
    "name": "ipython",
    "version": 3
   },
   "file_extension": ".py",
   "mimetype": "text/x-python",
   "name": "python",
   "nbconvert_exporter": "python",
   "pygments_lexer": "ipython3",
   "version": "3.11.8"
  }
 },
 "nbformat": 4,
 "nbformat_minor": 2
}
