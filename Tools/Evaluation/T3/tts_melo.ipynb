{
 "cells": [
  {
   "cell_type": "code",
   "execution_count": 1,
   "metadata": {},
   "outputs": [
    {
     "name": "stderr",
     "output_type": "stream",
     "text": [
      "c:\\Users\\echriston\\AppData\\Local\\Programs\\Python\\Python310\\lib\\site-packages\\tqdm\\auto.py:21: TqdmWarning: IProgress not found. Please update jupyter and ipywidgets. See https://ipywidgets.readthedocs.io/en/stable/user_install.html\n",
      "  from .autonotebook import tqdm as notebook_tqdm\n"
     ]
    }
   ],
   "source": [
    "import MeCab\n",
    "from melo.api import TTS"
   ]
  },
  {
   "cell_type": "code",
   "execution_count": 2,
   "metadata": {},
   "outputs": [],
   "source": [
    "import pandas as pd\n",
    "import time\n",
    "\n",
    "df = pd.read_csv('time_analysis.csv', header=0)"
   ]
  },
  {
   "cell_type": "code",
   "execution_count": 3,
   "metadata": {},
   "outputs": [
    {
     "name": "stderr",
     "output_type": "stream",
     "text": [
      "c:\\Users\\echriston\\AppData\\Local\\Programs\\Python\\Python310\\lib\\site-packages\\torch\\nn\\utils\\weight_norm.py:28: UserWarning: torch.nn.utils.weight_norm is deprecated in favor of torch.nn.utils.parametrizations.weight_norm.\n",
      "  warnings.warn(\"torch.nn.utils.weight_norm is deprecated in favor of torch.nn.utils.parametrizations.weight_norm.\")\n"
     ]
    },
    {
     "name": "stdout",
     "output_type": "stream",
     "text": [
      " > Text split to sentences.\n",
      "Salut à tous ! Je suis Nao, votre robot assistant à Pacte Novation et je suis là pour vous aider.\n",
      " > ===========================\n"
     ]
    },
    {
     "name": "stderr",
     "output_type": "stream",
     "text": [
      "100%|██████████| 1/1 [00:09<00:00,  9.66s/it]\n"
     ]
    }
   ],
   "source": [
    "# Speed is adjustable\n",
    "speed = 1.0\n",
    "\n",
    "# CPU is sufficient for real-time inference.\n",
    "# You can set it manually to 'cpu' or 'cuda' or 'cuda:0' or 'mps'\n",
    "device = 'auto' # Will automatically use GPU if available\n",
    "\n",
    "t1 = time.time()\n",
    "text = \"Salut à tous ! Je suis Nao, votre robot assistant à Pacte Novation et je suis là pour vous aider.\"\n",
    "model = TTS(language='FR', device=device)\n",
    "speaker_ids = model.hps.data.spk2id\n",
    "t2 = time.time()\n",
    "time_init = t2 - t1\n",
    "\n",
    "# American accent\n",
    "output_path = 'melo-fr.wav'\n",
    "t1 = time.time()\n",
    "model.tts_to_file(text, speaker_ids['FR'], output_path, speed=speed)\n",
    "t2 = time.time()\n",
    "time_infer = t2 - t1\n",
    "\n",
    "if \"melo-fr\" in df['model'].values:\n",
    "    df = df[df.model != \"melo-fr\"]\n",
    "df.loc[len(df)] = [\"melo-fr\", time_init, time_infer]"
   ]
  },
  {
   "cell_type": "code",
   "execution_count": 4,
   "metadata": {},
   "outputs": [
    {
     "name": "stderr",
     "output_type": "stream",
     "text": [
      "c:\\Users\\echriston\\AppData\\Local\\Programs\\Python\\Python310\\lib\\site-packages\\torch\\nn\\utils\\weight_norm.py:28: UserWarning: torch.nn.utils.weight_norm is deprecated in favor of torch.nn.utils.parametrizations.weight_norm.\n",
      "  warnings.warn(\"torch.nn.utils.weight_norm is deprecated in favor of torch.nn.utils.parametrizations.weight_norm.\")\n"
     ]
    },
    {
     "name": "stdout",
     "output_type": "stream",
     "text": [
      " > Text split to sentences.\n",
      "Salut à tous ! Je suis Nao, votre robot assistant à Pacte Novation et je suis là pour vous aider.\n",
      " > ===========================\n"
     ]
    },
    {
     "name": "stderr",
     "output_type": "stream",
     "text": [
      "  0%|          | 0/1 [00:00<?, ?it/s]c:\\Users\\echriston\\AppData\\Local\\Programs\\Python\\Python310\\lib\\site-packages\\huggingface_hub\\file_download.py:149: UserWarning: `huggingface_hub` cache-system uses symlinks by default to efficiently store duplicated files but your machine does not support them in C:\\Users\\echriston\\.cache\\huggingface\\hub\\models--bert-base-uncased. Caching files will still work but in a degraded version that might require more space on your disk. This warning can be disabled by setting the `HF_HUB_DISABLE_SYMLINKS_WARNING` environment variable. For more details, see https://huggingface.co/docs/huggingface_hub/how-to-cache#limitations.\n",
      "To support symlinks on Windows, you either need to activate Developer Mode or to run Python as an administrator. In order to see activate developer mode, see this article: https://docs.microsoft.com/en-us/windows/apps/get-started/enable-your-device-for-development\n",
      "  warnings.warn(message)\n",
      "Some weights of the model checkpoint at bert-base-uncased were not used when initializing BertForMaskedLM: ['bert.pooler.dense.bias', 'bert.pooler.dense.weight', 'cls.seq_relationship.bias', 'cls.seq_relationship.weight']\n",
      "- This IS expected if you are initializing BertForMaskedLM from the checkpoint of a model trained on another task or with another architecture (e.g. initializing a BertForSequenceClassification model from a BertForPreTraining model).\n",
      "- This IS NOT expected if you are initializing BertForMaskedLM from the checkpoint of a model that you expect to be exactly identical (initializing a BertForSequenceClassification model from a BertForSequenceClassification model).\n",
      "100%|██████████| 1/1 [00:23<00:00, 23.90s/it]\n"
     ]
    },
    {
     "name": "stdout",
     "output_type": "stream",
     "text": [
      " > Text split to sentences.\n",
      "Salut à tous ! Je suis Nao, votre robot assistant à Pacte Novation et je suis là pour vous aider.\n",
      " > ===========================\n"
     ]
    },
    {
     "name": "stderr",
     "output_type": "stream",
     "text": [
      "100%|██████████| 1/1 [00:03<00:00,  3.67s/it]\n"
     ]
    },
    {
     "name": "stdout",
     "output_type": "stream",
     "text": [
      " > Text split to sentences.\n",
      "Salut à tous ! Je suis Nao, votre robot assistant à Pacte Novation et je suis là pour vous aider.\n",
      " > ===========================\n"
     ]
    },
    {
     "name": "stderr",
     "output_type": "stream",
     "text": [
      "100%|██████████| 1/1 [00:03<00:00,  3.03s/it]\n"
     ]
    },
    {
     "name": "stdout",
     "output_type": "stream",
     "text": [
      " > Text split to sentences.\n",
      "Salut à tous ! Je suis Nao, votre robot assistant à Pacte Novation et je suis là pour vous aider.\n",
      " > ===========================\n"
     ]
    },
    {
     "name": "stderr",
     "output_type": "stream",
     "text": [
      "100%|██████████| 1/1 [00:06<00:00,  6.38s/it]\n"
     ]
    },
    {
     "name": "stdout",
     "output_type": "stream",
     "text": [
      " > Text split to sentences.\n",
      "Salut à tous ! Je suis Nao, votre robot assistant à Pacte Novation et je suis là pour vous aider.\n",
      " > ===========================\n"
     ]
    },
    {
     "name": "stderr",
     "output_type": "stream",
     "text": [
      "100%|██████████| 1/1 [00:02<00:00,  2.79s/it]\n"
     ]
    }
   ],
   "source": [
    "# Speed is adjustable\n",
    "speed = 1.0\n",
    "\n",
    "# CPU is sufficient for real-time inference.\n",
    "# You can set it manually to 'cpu' or 'cuda' or 'cuda:0' or 'mps'\n",
    "device = 'auto' # Will automatically use GPU if available\n",
    "\n",
    "# English \n",
    "text = \"Salut à tous ! Je suis Nao, votre robot assistant à Pacte Novation et je suis là pour vous aider.\"\n",
    "t1 = time.time()\n",
    "model = TTS(language='EN', device=device)\n",
    "speaker_ids = model.hps.data.spk2id\n",
    "t2 = time.time()\n",
    "time_init = t2 - t1\n",
    "\n",
    "# American accent\n",
    "output_path = 'melo-en-us.wav'\n",
    "t1 = time.time()\n",
    "model.tts_to_file(text, speaker_ids['EN-US'], output_path, speed=speed)\n",
    "t2 = time.time()\n",
    "time_infer = t2 - t1\n",
    "\n",
    "if \"melo-en-us\" in df['model'].values:\n",
    "    df = df[df.model != \"melo-en-us\"]\n",
    "df.loc[len(df)] = [\"melo-en-us\", time_init, time_infer]\n",
    "\n",
    "# British accent\n",
    "output_path = 'melo-en-br.wav'\n",
    "t1 = time.time()\n",
    "model.tts_to_file(text, speaker_ids['EN-BR'], output_path, speed=speed)\n",
    "t2 = time.time()\n",
    "time_infer = t2 - t1\n",
    "\n",
    "if \"melo-en-br\" in df['model'].values:\n",
    "    df = df[df.model != \"melo-en-br\"]\n",
    "df.loc[len(df)] = [\"melo-en-br\", time_init, time_infer]\n",
    "\n",
    "# Indian accent\n",
    "output_path = 'melo-en-india.wav'\n",
    "t1 = time.time()\n",
    "model.tts_to_file(text, speaker_ids['EN_INDIA'], output_path, speed=speed)\n",
    "t2 = time.time()\n",
    "time_infer = t2 - t1\n",
    "\n",
    "if \"melo-en-india\" in df['model'].values:\n",
    "    df = df[df.model != \"melo-en-india\"]\n",
    "df.loc[len(df)] = [\"melo-en-india\", time_init, time_infer]\n",
    "\n",
    "# Australian accent\n",
    "output_path = 'melo-en-au.wav'\n",
    "t1 = time.time()\n",
    "model.tts_to_file(text, speaker_ids['EN-AU'], output_path, speed=speed)\n",
    "t2 = time.time()\n",
    "time_infer = t2 - t1\n",
    "\n",
    "if \"melo-en-au\" in df['model'].values:\n",
    "    df = df[df.model != \"melo-en-au\"]\n",
    "df.loc[len(df)] = [\"melo-en-au\", time_init, time_infer]\n",
    "\n",
    "# Default accent\n",
    "output_path = 'melo-en-default.wav'\n",
    "t1 = time.time()\n",
    "model.tts_to_file(text, speaker_ids['EN-Default'], output_path, speed=speed)\n",
    "t2 = time.time()\n",
    "time_infer = t2 - t1\n",
    "\n",
    "if \"melo-en-default\" in df['model'].values:\n",
    "    df = df[df.model != \"melo-en-default\"]\n",
    "df.loc[len(df)] = [\"melo-en-default\", time_init, time_infer]"
   ]
  },
  {
   "cell_type": "code",
   "execution_count": 5,
   "metadata": {},
   "outputs": [],
   "source": [
    "# export to csv\n",
    "df.to_csv('time_analysis.csv', index=False)"
   ]
  }
 ],
 "metadata": {
  "kernelspec": {
   "display_name": "Python 3",
   "language": "python",
   "name": "python3"
  },
  "language_info": {
   "codemirror_mode": {
    "name": "ipython",
    "version": 3
   },
   "file_extension": ".py",
   "mimetype": "text/x-python",
   "name": "python",
   "nbconvert_exporter": "python",
   "pygments_lexer": "ipython3",
   "version": "3.10.11"
  }
 },
 "nbformat": 4,
 "nbformat_minor": 2
}
