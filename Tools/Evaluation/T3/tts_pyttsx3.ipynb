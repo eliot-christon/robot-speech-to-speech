{
 "cells": [
  {
   "cell_type": "code",
   "execution_count": 1,
   "metadata": {},
   "outputs": [],
   "source": [
    "import pyttsx3"
   ]
  },
  {
   "cell_type": "code",
   "execution_count": 2,
   "metadata": {},
   "outputs": [],
   "source": [
    "import pandas as pd\n",
    "import time\n",
    "\n",
    "df = pd.read_csv('time_analysis.csv', header=0)"
   ]
  },
  {
   "cell_type": "code",
   "execution_count": 3,
   "metadata": {},
   "outputs": [
    {
     "name": "stderr",
     "output_type": "stream",
     "text": [
      "C:\\Users\\echriston\\AppData\\Local\\Temp\\ipykernel_16432\\718867531.py:14: FutureWarning: The frame.append method is deprecated and will be removed from pandas in a future version. Use pandas.concat instead.\n",
      "  df = df.append({\"model\": \"pyttsx3\", \"time_init\": time_init, \"time_infer\": time_infer}, ignore_index=True)\n"
     ]
    }
   ],
   "source": [
    "t1 = time.time()\n",
    "engine = pyttsx3.init()\n",
    "t2 = time.time()\n",
    "time_init = t2 - t1\n",
    "\n",
    "t1 = time.time()\n",
    "engine.save_to_file('Salut à tous ! Je suis Nao, votre robot assistant à Pacte Novation et je suis là pour vous aider.', 'pyttsx3.mp3')\n",
    "engine.runAndWait()\n",
    "t2 = time.time()\n",
    "time_infer = t2 - t1\n",
    "\n",
    "if \"pyttsx3\" in df[\"model\"].values:\n",
    "    df = df[df[\"model\"] != \"pyttsx3\"]\n",
    "df = df.append({\"model\": \"pyttsx3\", \"time_init\": time_init, \"time_infer\": time_infer}, ignore_index=True)"
   ]
  },
  {
   "cell_type": "code",
   "execution_count": 4,
   "metadata": {},
   "outputs": [],
   "source": [
    "# export to csv\n",
    "df.to_csv('time_analysis.csv', index=False)"
   ]
  }
 ],
 "metadata": {
  "kernelspec": {
   "display_name": "Python 3",
   "language": "python",
   "name": "python3"
  },
  "language_info": {
   "codemirror_mode": {
    "name": "ipython",
    "version": 3
   },
   "file_extension": ".py",
   "mimetype": "text/x-python",
   "name": "python",
   "nbconvert_exporter": "python",
   "pygments_lexer": "ipython3",
   "version": "3.10.11"
  }
 },
 "nbformat": 4,
 "nbformat_minor": 2
}
