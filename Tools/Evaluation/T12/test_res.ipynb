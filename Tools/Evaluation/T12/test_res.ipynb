{
 "cells": [
  {
   "cell_type": "code",
   "execution_count": 2,
   "metadata": {},
   "outputs": [],
   "source": [
    "import requests"
   ]
  },
  {
   "cell_type": "code",
   "execution_count": 5,
   "metadata": {},
   "outputs": [
    {
     "name": "stdout",
     "output_type": "stream",
     "text": [
      "{\"__DecisionID__\":\"string\",\"autorisations\":{\"actions\":[\"dire bonjour\",\"dire au revoir\",\"réidentifier\",\"indiquer l'emplacement du bureau\",\"indiquer la personne compétente\"],\"documents\":[\"pacte_novation.txt\"]}}\n"
     ]
    }
   ],
   "source": [
    "url = \"http://localhost:9090/DecisionService/rest/v1/Configuration_Deploiement_Gestion_Droits/OD_GestionDroits/\"\n",
    "\n",
    "json_in = {\n",
    "  \"personne\": {\n",
    "    \"identifiant\": \"string\",\n",
    "    \"niveauDeDroits\": 3\n",
    "  },\n",
    "  \"__DecisionID__\": \"string\"\n",
    "}\n",
    "\n",
    "response = requests.post(url, json=json_in)\n",
    "print(response.text)"
   ]
  }
 ],
 "metadata": {
  "kernelspec": {
   "display_name": "Python 3",
   "language": "python",
   "name": "python3"
  },
  "language_info": {
   "codemirror_mode": {
    "name": "ipython",
    "version": 3
   },
   "file_extension": ".py",
   "mimetype": "text/x-python",
   "name": "python",
   "nbconvert_exporter": "python",
   "pygments_lexer": "ipython3",
   "version": "3.11.8"
  }
 },
 "nbformat": 4,
 "nbformat_minor": 2
}
