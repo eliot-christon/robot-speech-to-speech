{
 "cells": [
  {
   "cell_type": "code",
   "execution_count": 1,
   "metadata": {},
   "outputs": [],
   "source": [
    "def send_command(command):\n",
    "    with open('../../T6_RecordAudio/fast_com/command.txt', 'w') as f:\n",
    "        f.write(command)"
   ]
  },
  {
   "cell_type": "code",
   "execution_count": 5,
   "metadata": {},
   "outputs": [
    {
     "data": {
      "text/plain": [
       "'audio_recorded_75.wav'"
      ]
     },
     "execution_count": 5,
     "metadata": {},
     "output_type": "execute_result"
    }
   ],
   "source": [
    "# start recording, wait 6 seconds, stop recording, copy file to the right place, mesure the length of the file\n",
    "import time\n",
    "\n",
    "send_command(\"start\")\n",
    "time.sleep(6)\n",
    "send_command(\"stop\")\n",
    "\n",
    "import shutil\n",
    "shutil.copy(\"../../../data/live/audio_recorded.wav\", \"audio_recorded.wav\")"
   ]
  },
  {
   "cell_type": "code",
   "execution_count": 5,
   "metadata": {},
   "outputs": [],
   "source": [
    "send_command(\"stop\")"
   ]
  },
  {
   "cell_type": "code",
   "execution_count": 11,
   "metadata": {},
   "outputs": [],
   "source": [
    "# here is a measurement of the rapidity of the recording\n",
    "# first, let's send start and stop commands separated with 6 seconds\n",
    "# then measure the duration of the audio file recorded\n",
    "\n",
    "send_command(\"start\")\n",
    "time.sleep(6)\n",
    "send_command(\"stop\")\n",
    "\n",
    "import shutil\n",
    "shutil.copy(\"../../../data/live/audio_recorded.wav\", \"audio_recorded.wav\")\n",
    "\n",
    "import wave\n",
    "with wave.open(\"audio_recorded.wav\", \"rb\") as f:\n",
    "    print(f.getnframes() / f.getframerate())"
   ]
  }
 ],
 "metadata": {
  "kernelspec": {
   "display_name": "Python 3",
   "language": "python",
   "name": "python3"
  },
  "language_info": {
   "codemirror_mode": {
    "name": "ipython",
    "version": 3
   },
   "file_extension": ".py",
   "mimetype": "text/x-python",
   "name": "python",
   "nbconvert_exporter": "python",
   "pygments_lexer": "ipython3",
   "version": "3.11.8"
  }
 },
 "nbformat": 4,
 "nbformat_minor": 2
}
