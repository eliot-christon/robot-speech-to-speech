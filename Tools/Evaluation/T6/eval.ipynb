{
 "cells": [
  {
   "cell_type": "code",
   "execution_count": 1,
   "metadata": {},
   "outputs": [],
   "source": [
    "def send_command(command):\n",
    "    with open('../../T6_RecordAudio/fast_com/command.txt', 'w') as f:\n",
    "        f.write(command)"
   ]
  },
  {
   "cell_type": "code",
   "execution_count": 5,
   "metadata": {},
   "outputs": [
    {
     "data": {
      "text/plain": [
       "'audio_recorded_75.wav'"
      ]
     },
     "execution_count": 5,
     "metadata": {},
     "output_type": "execute_result"
    }
   ],
   "source": [
    "# start recording, wait 6 seconds, stop recording, copy file to the right place, mesure the length of the file\n",
    "import time\n",
    "\n",
    "send_command(\"start\")\n",
    "time.sleep(6)\n",
    "send_command(\"stop\")\n",
    "\n",
    "import shutil\n",
    "shutil.copy(\"../../../data/live/audio_recorded.wav\", \"audio_recorded_75.wav\")"
   ]
  },
  {
   "cell_type": "code",
   "execution_count": 5,
   "metadata": {},
   "outputs": [],
   "source": [
    "send_command(\"stop\")"
   ]
  },
  {
   "cell_type": "code",
   "execution_count": 11,
   "metadata": {},
   "outputs": [],
   "source": [
    "# offset = 85\n",
    "# import time\n",
    "# import shutil\n",
    "\n",
    "# for i in range(1, 16):\n",
    "#     try:\n",
    "#         send_command(\"start\")\n",
    "#         time.sleep(6)\n",
    "#         send_command(\"stop\")\n",
    "#         shutil.copy(\"../../../data/live/audio_recorded.wav\", f\"audio_recorded_{i + offset}.wav\")\n",
    "#     except KeyboardInterrupt:\n",
    "#         send_command(\"stop\")\n",
    "#         break"
   ]
  }
 ],
 "metadata": {
  "kernelspec": {
   "display_name": "Python 3",
   "language": "python",
   "name": "python3"
  },
  "language_info": {
   "codemirror_mode": {
    "name": "ipython",
    "version": 3
   },
   "file_extension": ".py",
   "mimetype": "text/x-python",
   "name": "python",
   "nbconvert_exporter": "python",
   "pygments_lexer": "ipython3",
   "version": "3.11.8"
  }
 },
 "nbformat": 4,
 "nbformat_minor": 2
}
