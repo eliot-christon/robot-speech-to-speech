{
 "cells": [
  {
   "cell_type": "code",
   "execution_count": null,
   "metadata": {},
   "outputs": [
    {
     "name": "stdout",
     "output_type": "stream",
     "text": [
      "('NAO_IP: ', '192.168.0.105')\n"
     ]
    }
   ],
   "source": [
    "from naoqi import ALProxy\n",
    "from nao_ip import NAO_IP\n",
    "\n",
    "print(\"NAO_IP: \", NAO_IP)"
   ]
  },
  {
   "cell_type": "code",
   "execution_count": 2,
   "metadata": {},
   "outputs": [],
   "source": [
    "autonomousLife = ALProxy(\"ALAutonomousLife\", NAO_IP, 9559)\n",
    "autonomousLife.setState(\"disabled\")\n",
    "# solitary, interactive, safeguard, disabled"
   ]
  },
  {
   "cell_type": "code",
   "execution_count": 3,
   "metadata": {},
   "outputs": [
    {
     "data": {
      "text/plain": [
       "True"
      ]
     },
     "execution_count": 3,
     "metadata": {},
     "output_type": "execute_result"
    }
   ],
   "source": [
    "posture = ALProxy(\"ALRobotPosture\", NAO_IP, 9559)\n",
    "posture.goToPosture(\"Sit\", 0.5)"
   ]
  },
  {
   "cell_type": "code",
   "execution_count": 4,
   "metadata": {},
   "outputs": [
    {
     "data": {
      "text/plain": [
       "'Head'"
      ]
     },
     "execution_count": 4,
     "metadata": {},
     "output_type": "execute_result"
    }
   ],
   "source": [
    "basic_awareness = ALProxy(\"ALBasicAwareness\", NAO_IP, 9559)\n",
    "basic_awareness.setEnabled(True)\n",
    "basic_awareness.getTrackingMode()"
   ]
  },
  {
   "cell_type": "code",
   "execution_count": 14,
   "metadata": {},
   "outputs": [],
   "source": [
    "audio_device = ALProxy(\"ALAudioDevice\", NAO_IP, 9559)\n",
    "audio_device.setOutputVolume(40)"
   ]
  },
  {
   "cell_type": "code",
   "execution_count": 11,
   "metadata": {},
   "outputs": [
    {
     "name": "stdout",
     "output_type": "stream",
     "text": [
      "['Japanese', 'Chinese', 'English', 'French']\n",
      "['maki_n16', 'naoenu', 'naofrf', 'naomnc']\n"
     ]
    }
   ],
   "source": [
    "tts = ALProxy(\"ALTextToSpeech\", NAO_IP, 9559)\n",
    "\n",
    "print(tts.getAvailableLanguages())\n",
    "print(tts.getAvailableVoices())\n",
    "tts.setVoice(\"naofrf\")\n",
    "\n",
    "tts.say(\"Et pourquoi pas ?\")"
   ]
  },
  {
   "cell_type": "code",
   "execution_count": 12,
   "metadata": {},
   "outputs": [],
   "source": [
    "leds = ALProxy(\"ALLeds\", NAO_IP, 9559)\n",
    "leds.reset(\"AllLeds\")"
   ]
  },
  {
   "cell_type": "code",
   "execution_count": null,
   "metadata": {},
   "outputs": [],
   "source": []
  }
 ],
 "metadata": {
  "kernelspec": {
   "display_name": "Python 3",
   "language": "python",
   "name": "python3"
  },
  "language_info": {
   "codemirror_mode": {
    "name": "ipython",
    "version": 2
   },
   "file_extension": ".py",
   "mimetype": "text/x-python",
   "name": "python",
   "nbconvert_exporter": "python",
   "pygments_lexer": "ipython2",
   "version": "undefined.undefined.undefined"
  }
 },
 "nbformat": 4,
 "nbformat_minor": 2
}
