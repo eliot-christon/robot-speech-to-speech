{
 "cells": [
  {
   "cell_type": "code",
   "execution_count": 1,
   "metadata": {},
   "outputs": [
    {
     "name": "stdout",
     "output_type": "stream",
     "text": [
      "actual_dir: C:\\Users\\echriston\\Documents\\stage_2024_nao\n",
      "removed: C:\\Users\\echriston\\Documents\\stage_2024_nao\\robot-speech-to-speech\\alex_pereira_ferreira.wav\n",
      "removed: C:\\Users\\echriston\\Documents\\stage_2024_nao\\robot-speech-to-speech\\audio_recorded.wav\n",
      "removed: C:\\Users\\echriston\\Documents\\stage_2024_nao\\robot-speech-to-speech\\beatriz_rojas_romero.wav\n",
      "removed: C:\\Users\\echriston\\Documents\\stage_2024_nao\\robot-speech-to-speech\\benoit_froge.wav\n",
      "removed: C:\\Users\\echriston\\Documents\\stage_2024_nao\\robot-speech-to-speech\\clement_lidar.wav\n",
      "removed: C:\\Users\\echriston\\Documents\\stage_2024_nao\\robot-speech-to-speech\\eliot_christon.mp3\n",
      "removed: C:\\Users\\echriston\\Documents\\stage_2024_nao\\robot-speech-to-speech\\eliot_christon.wav\n",
      "removed: C:\\Users\\echriston\\Documents\\stage_2024_nao\\robot-speech-to-speech\\florent_bissonnier.wav\n",
      "removed: C:\\Users\\echriston\\Documents\\stage_2024_nao\\robot-speech-to-speech\\hadrien_genuer.wav\n",
      "removed: C:\\Users\\echriston\\Documents\\stage_2024_nao\\robot-speech-to-speech\\ines_delplanque.wav\n",
      "removed: C:\\Users\\echriston\\Documents\\stage_2024_nao\\robot-speech-to-speech\\ingrid_floriet.wav\n",
      "removed: C:\\Users\\echriston\\Documents\\stage_2024_nao\\robot-speech-to-speech\\nahel_verdier.wav\n",
      "removed: C:\\Users\\echriston\\Documents\\stage_2024_nao\\robot-speech-to-speech\\neill_vanmoc.wav\n",
      "removed: C:\\Users\\echriston\\Documents\\stage_2024_nao\\robot-speech-to-speech\\raphael_maarek.wav\n",
      "removed: C:\\Users\\echriston\\Documents\\stage_2024_nao\\robot-speech-to-speech\\tatyana_budueva.wav\n",
      "removed: C:\\Users\\echriston\\Documents\\stage_2024_nao\\robot-speech-to-speech\\thomas_oxisoglou.wav\n",
      "removed: C:\\Users\\echriston\\Documents\\stage_2024_nao\\robot-speech-to-speech\\data\\pretrained_models\\spkrec-ecapa-voxceleb\\classifier.ckpt\n",
      "removed: C:\\Users\\echriston\\Documents\\stage_2024_nao\\robot-speech-to-speech\\data\\pretrained_models\\spkrec-ecapa-voxceleb\\embedding_model.ckpt\n",
      "removed: C:\\Users\\echriston\\Documents\\stage_2024_nao\\robot-speech-to-speech\\data\\pretrained_models\\spkrec-ecapa-voxceleb\\hyperparams.yaml\n",
      "removed: C:\\Users\\echriston\\Documents\\stage_2024_nao\\robot-speech-to-speech\\data\\pretrained_models\\spkrec-ecapa-voxceleb\\label_encoder.ckpt\n",
      "removed: C:\\Users\\echriston\\Documents\\stage_2024_nao\\robot-speech-to-speech\\data\\pretrained_models\\spkrec-ecapa-voxceleb\\mean_var_norm_emb.ckpt\n",
      "removed: C:\\Users\\echriston\\Documents\\stage_2024_nao\\robot-speech-to-speech\\data\\pretrained_models\\spkrec-ecapa-voxceleb-mel-spec\\embedding_model.ckpt\n",
      "removed: C:\\Users\\echriston\\Documents\\stage_2024_nao\\robot-speech-to-speech\\data\\pretrained_models\\spkrec-ecapa-voxceleb-mel-spec\\hyperparams.yaml\n",
      "removed: C:\\Users\\echriston\\Documents\\stage_2024_nao\\robot-speech-to-speech\\data\\pretrained_models\\spkrec-ecapa-voxceleb-mel-spec\\normalizer.ckpt\n",
      "removed: C:\\Users\\echriston\\Documents\\stage_2024_nao\\robot-speech-to-speech\\data\\pretrained_models\\spkrec-resnet-voxceleb\\classifier.ckpt\n",
      "removed: C:\\Users\\echriston\\Documents\\stage_2024_nao\\robot-speech-to-speech\\data\\pretrained_models\\spkrec-resnet-voxceleb\\embedding_model.ckpt\n",
      "removed: C:\\Users\\echriston\\Documents\\stage_2024_nao\\robot-speech-to-speech\\data\\pretrained_models\\spkrec-resnet-voxceleb\\hyperparams.yaml\n",
      "removed: C:\\Users\\echriston\\Documents\\stage_2024_nao\\robot-speech-to-speech\\data\\pretrained_models\\spkrec-xvect-voxceleb\\classifier.ckpt\n",
      "removed: C:\\Users\\echriston\\Documents\\stage_2024_nao\\robot-speech-to-speech\\data\\pretrained_models\\spkrec-xvect-voxceleb\\embedding_model.ckpt\n",
      "removed: C:\\Users\\echriston\\Documents\\stage_2024_nao\\robot-speech-to-speech\\data\\pretrained_models\\spkrec-xvect-voxceleb\\hyperparams.yaml\n",
      "removed: C:\\Users\\echriston\\Documents\\stage_2024_nao\\robot-speech-to-speech\\data\\pretrained_models\\spkrec-xvect-voxceleb\\label_encoder.ckpt\n",
      "removed: C:\\Users\\echriston\\Documents\\stage_2024_nao\\robot-speech-to-speech\\data\\pretrained_models\\spkrec-xvect-voxceleb\\mean_var_norm_emb.ckpt\n",
      "removed: C:\\Users\\echriston\\Documents\\stage_2024_nao\\robot-speech-to-speech\\old\\old_data\\pretrained_models\\spkrec-ecapa-voxceleb\\classifier.ckpt\n",
      "removed: C:\\Users\\echriston\\Documents\\stage_2024_nao\\robot-speech-to-speech\\old\\old_data\\pretrained_models\\spkrec-ecapa-voxceleb\\embedding_model.ckpt\n",
      "removed: C:\\Users\\echriston\\Documents\\stage_2024_nao\\robot-speech-to-speech\\old\\old_data\\pretrained_models\\spkrec-ecapa-voxceleb\\hyperparams.yaml\n",
      "removed: C:\\Users\\echriston\\Documents\\stage_2024_nao\\robot-speech-to-speech\\old\\old_data\\pretrained_models\\spkrec-ecapa-voxceleb\\label_encoder.ckpt\n",
      "removed: C:\\Users\\echriston\\Documents\\stage_2024_nao\\robot-speech-to-speech\\old\\old_data\\pretrained_models\\spkrec-ecapa-voxceleb\\mean_var_norm_emb.ckpt\n",
      "removed: C:\\Users\\echriston\\Documents\\stage_2024_nao\\robot-speech-to-speech\\old\\tts\\pretrained_models\\GraphemeToPhoneme-9b27d6eb840bf95c5aedf15ae8ed1172\\ctc_lin.ckpt\n",
      "removed: C:\\Users\\echriston\\Documents\\stage_2024_nao\\robot-speech-to-speech\\old\\tts\\pretrained_models\\GraphemeToPhoneme-9b27d6eb840bf95c5aedf15ae8ed1172\\hyperparams.yaml\n",
      "removed: C:\\Users\\echriston\\Documents\\stage_2024_nao\\robot-speech-to-speech\\old\\tts\\pretrained_models\\GraphemeToPhoneme-9b27d6eb840bf95c5aedf15ae8ed1172\\model.ckpt\n",
      "removed: C:\\Users\\echriston\\Documents\\stage_2024_nao\\robot-speech-to-speech\\old\\tts\\pretrained_models\\tts-fastspeech2-internal-alignment-ljspeech\\hyperparams.yaml\n",
      "removed: C:\\Users\\echriston\\Documents\\stage_2024_nao\\robot-speech-to-speech\\old\\tts\\pretrained_models\\tts-fastspeech2-internal-alignment-ljspeech\\model.ckpt\n",
      "removed: C:\\Users\\echriston\\Documents\\stage_2024_nao\\robot-speech-to-speech\\old\\tts\\pretrained_models\\tts-hifigan-ljspeech\\generator.ckpt\n",
      "removed: C:\\Users\\echriston\\Documents\\stage_2024_nao\\robot-speech-to-speech\\old\\tts\\pretrained_models\\tts-hifigan-ljspeech\\hyperparams.yaml\n"
     ]
    }
   ],
   "source": [
    "# remove symlinks in the folder\n",
    "import os\n",
    "\n",
    "def remove_symlinks(folder):\n",
    "    for root, dirs, files in os.walk(folder):\n",
    "        for name in files:\n",
    "            path = os.path.join(root, name)\n",
    "            if os.path.islink(path):\n",
    "                os.unlink(path)\n",
    "                print('removed:', path)\n",
    "\n",
    "if __name__ == '__main__':\n",
    "    actual_dir = os.path.dirname(os.path.realpath(\"\"))\n",
    "    print('actual_dir:', actual_dir)\n",
    "    remove_symlinks(actual_dir)"
   ]
  }
 ],
 "metadata": {
  "kernelspec": {
   "display_name": "Python 3",
   "language": "python",
   "name": "python3"
  },
  "language_info": {
   "codemirror_mode": {
    "name": "ipython",
    "version": 3
   },
   "file_extension": ".py",
   "mimetype": "text/x-python",
   "name": "python",
   "nbconvert_exporter": "python",
   "pygments_lexer": "ipython3",
   "version": "3.11.8"
  }
 },
 "nbformat": 4,
 "nbformat_minor": 2
}
